{
  "nbformat": 4,
  "nbformat_minor": 0,
  "metadata": {
    "colab": {
      "name": "Tianchi4.ipynb",
      "provenance": [],
      "collapsed_sections": []
    },
    "kernelspec": {
      "name": "python3",
      "display_name": "Python 3"
    },
    "accelerator": "GPU"
  },
  "cells": [
    {
      "cell_type": "code",
      "metadata": {
        "id": "hbEViH1al8sI",
        "colab_type": "code",
        "colab": {}
      },
      "source": [
        "# libs\n",
        "import pandas as pd\n",
        "import numpy as np\n",
        "import warnings\n",
        "warnings.filterwarnings('ignore')"
      ],
      "execution_count": 0,
      "outputs": []
    },
    {
      "cell_type": "markdown",
      "metadata": {
        "id": "x694v53LmUwi",
        "colab_type": "text"
      },
      "source": [
        "reduce_mem_usage 通过调整数据类型，帮助减少数据在内存中占用的空间\n",
        "\n"
      ]
    },
    {
      "cell_type": "code",
      "metadata": {
        "id": "-UrDBPr9mS0H",
        "colab_type": "code",
        "colab": {}
      },
      "source": [
        "def reduce_mem_usage(df):\n",
        "    \"\"\" \n",
        "    iterate through all the columns of a dataframe and modify the data type\n",
        "    to reduce memory usage.        \n",
        "    \"\"\"\n",
        "    start_mem = df.memory_usage().sum() \n",
        "    print('Memory usage of dataframe is {:.2f} MB'.format(start_mem))\n",
        "    \n",
        "    for col in df.columns:\n",
        "        col_type = df[col].dtype\n",
        "        \n",
        "        if col_type != object:\n",
        "            c_min = df[col].min()\n",
        "            c_max = df[col].max()\n",
        "            if str(col_type)[:3] == 'int':\n",
        "                if c_min > np.iinfo(np.int8).min and c_max < np.iinfo(np.int8).max:\n",
        "                    df[col] = df[col].astype(np.int8)\n",
        "                elif c_min > np.iinfo(np.int16).min and c_max < np.iinfo(np.int16).max:\n",
        "                    df[col] = df[col].astype(np.int16)\n",
        "                elif c_min > np.iinfo(np.int32).min and c_max < np.iinfo(np.int32).max:\n",
        "                    df[col] = df[col].astype(np.int32)\n",
        "                elif c_min > np.iinfo(np.int64).min and c_max < np.iinfo(np.int64).max:\n",
        "                    df[col] = df[col].astype(np.int64)  \n",
        "            else:\n",
        "                if c_min > np.finfo(np.float16).min and c_max < np.finfo(np.float16).max:\n",
        "                    df[col] = df[col].astype(np.float16)\n",
        "                elif c_min > np.finfo(np.float32).min and c_max < np.finfo(np.float32).max:\n",
        "                    df[col] = df[col].astype(np.float32)\n",
        "                else:\n",
        "                    df[col] = df[col].astype(np.float64)\n",
        "        else:\n",
        "            df[col] = df[col].astype('category')\n",
        "\n",
        "    end_mem = df.memory_usage().sum() \n",
        "    print('Memory usage after optimization is: {:.2f} MB'.format(end_mem))\n",
        "    print('Decreased by {:.1f}%'.format(100 * (start_mem - end_mem) / start_mem))\n",
        "    return df"
      ],
      "execution_count": 0,
      "outputs": []
    },
    {
      "cell_type": "code",
      "metadata": {
        "id": "ndvOwJMIrFvB",
        "colab_type": "code",
        "outputId": "d048586e-b9b6-437f-a145-959ecc41f699",
        "colab": {
          "base_uri": "https://localhost:8080/",
          "height": 68
        }
      },
      "source": [
        "sample_feature = reduce_mem_usage(pd.read_csv('/content/drive/My Drive/Tianchi/data_for_tree.csv'))\n"
      ],
      "execution_count": 3,
      "outputs": [
        {
          "output_type": "stream",
          "text": [
            "Memory usage of dataframe is 62099672.00 MB\n",
            "Memory usage after optimization is: 16920671.00 MB\n",
            "Decreased by 72.8%\n"
          ],
          "name": "stdout"
        }
      ]
    },
    {
      "cell_type": "code",
      "metadata": {
        "id": "j0osmOhZu60X",
        "colab_type": "code",
        "outputId": "1d26c5b4-65ec-403a-d2c0-80fbd0496b31",
        "colab": {
          "base_uri": "https://localhost:8080/",
          "height": 612
        }
      },
      "source": [
        "continuous_feature_names = [x for x in sample_feature.columns if x not in ['price','brand','model','seller']]\n",
        "continuous_feature_names"
      ],
      "execution_count": 4,
      "outputs": [
        {
          "output_type": "execute_result",
          "data": {
            "text/plain": [
              "['SaleID',\n",
              " 'name',\n",
              " 'bodyType',\n",
              " 'fuelType',\n",
              " 'gearbox',\n",
              " 'power',\n",
              " 'kilometer',\n",
              " 'notRepairedDamage',\n",
              " 'offerType',\n",
              " 'v_0',\n",
              " 'v_1',\n",
              " 'v_2',\n",
              " 'v_3',\n",
              " 'v_4',\n",
              " 'v_5',\n",
              " 'v_6',\n",
              " 'v_7',\n",
              " 'v_8',\n",
              " 'v_9',\n",
              " 'v_10',\n",
              " 'v_11',\n",
              " 'v_12',\n",
              " 'v_13',\n",
              " 'v_14',\n",
              " 'train',\n",
              " 'used_time',\n",
              " 'city',\n",
              " 'brand_amount',\n",
              " 'brand_price_max',\n",
              " 'brand_price_median',\n",
              " 'brand_price_sum',\n",
              " 'brand_price_min',\n",
              " 'brand_price_std',\n",
              " 'brand_price_average',\n",
              " 'power_bin']"
            ]
          },
          "metadata": {
            "tags": []
          },
          "execution_count": 4
        }
      ]
    },
    {
      "cell_type": "markdown",
      "metadata": {
        "id": "gXWkm-13vq5z",
        "colab_type": "text"
      },
      "source": [
        "# 线性回归 & 五折交叉验证 & 模拟真实业务情况"
      ]
    },
    {
      "cell_type": "code",
      "metadata": {
        "id": "UOHIJJWavnd6",
        "colab_type": "code",
        "colab": {}
      },
      "source": [
        "sample_feature = sample_feature.dropna().replace('-', 0).reset_index(drop = True)\n",
        "sample_feature['notRepairedDamage'] = sample_feature['notRepairedDamage'].astype(np.float32)\n",
        "train = sample_feature[continuous_feature_names + ['price']]\n",
        "\n",
        "train_X = train[continuous_feature_names]\n",
        "train_y = train['price']\n"
      ],
      "execution_count": 0,
      "outputs": []
    },
    {
      "cell_type": "code",
      "metadata": {
        "id": "y1LyYGKIw1ZS",
        "colab_type": "code",
        "colab": {}
      },
      "source": [
        "train_X = train_X.drop('used_time', axis = 1)\n"
      ],
      "execution_count": 0,
      "outputs": []
    },
    {
      "cell_type": "markdown",
      "metadata": {
        "id": "55tsR8XuwWGR",
        "colab_type": "text"
      },
      "source": [
        "## 简单建模"
      ]
    },
    {
      "cell_type": "code",
      "metadata": {
        "id": "U2s24ncBwUhr",
        "colab_type": "code",
        "colab": {}
      },
      "source": [
        "from sklearn.linear_model import LinearRegression\n",
        "model = LinearRegression(normalize = True)\n",
        "model = model.fit(train_X, train_y)"
      ],
      "execution_count": 0,
      "outputs": []
    },
    {
      "cell_type": "markdown",
      "metadata": {
        "id": "FY19FPGXxHiy",
        "colab_type": "text"
      },
      "source": [
        "查看训练的线性回归模型的截距（intercept）与权重（coef）"
      ]
    },
    {
      "cell_type": "code",
      "metadata": {
        "id": "9HY7hTA-wu0w",
        "colab_type": "code",
        "outputId": "c5c1ceca-2812-47d7-8552-0823a4e2adaf",
        "colab": {
          "base_uri": "https://localhost:8080/",
          "height": 595
        }
      },
      "source": [
        "'intercept' + str(model.intercept_)\n",
        "#先zip然后创建字典，然后排序\n",
        "sorted(\n",
        "    dict(\n",
        "        zip(\n",
        "            continuous_feature_names,\n",
        "            model.coef_\n",
        "        )\n",
        "    ).items(), key = lambda x:x[1], reverse = True\n",
        ")"
      ],
      "execution_count": 8,
      "outputs": [
        {
          "output_type": "execute_result",
          "data": {
            "text/plain": [
              "[('v_6', 3368677.6758166575),\n",
              " ('v_8', 700901.5778674372),\n",
              " ('v_9', 170336.76242889577),\n",
              " ('v_7', 32228.548448467245),\n",
              " ('v_12', 20760.977824645855),\n",
              " ('v_3', 18027.627783540564),\n",
              " ('v_11', 11613.559378804108),\n",
              " ('v_13', 11305.550142038706),\n",
              " ('v_10', 2764.495693835699),\n",
              " ('gearbox', 881.7359839001533),\n",
              " ('fuelType', 364.4088659670748),\n",
              " ('bodyType', 189.63782906423594),\n",
              " ('used_time', 44.965463623090464),\n",
              " ('power', 28.526928807162857),\n",
              " ('brand_price_max', 0.5128545678335658),\n",
              " ('brand_price_min', 0.45139802563952247),\n",
              " ('city', 0.14879626038481092),\n",
              " ('brand_amount', 0.003184462776418928),\n",
              " ('SaleID', 5.382826391180286e-05),\n",
              " ('train', -3.632158041000366e-07),\n",
              " ('offerType', -1.2060045264661312e-06),\n",
              " ('brand_price_median', -2.1748214522902303e-05),\n",
              " ('name', -0.0002990170113627932),\n",
              " ('brand_price_std', -0.407631305172733),\n",
              " ('brand_price_sum', -2.2478371856308415),\n",
              " ('brand_price_average', -34.192058236357994),\n",
              " ('v_14', -275.42927316476374),\n",
              " ('kilometer', -372.95921378668925),\n",
              " ('notRepairedDamage', -494.58842112569516),\n",
              " ('v_0', -2050.3545850962814),\n",
              " ('v_5', -11508.99042240997),\n",
              " ('v_4', -15143.656409251184),\n",
              " ('v_2', -26386.516119675358),\n",
              " ('v_1', -45529.86854836769)]"
            ]
          },
          "metadata": {
            "tags": []
          },
          "execution_count": 8
        }
      ]
    },
    {
      "cell_type": "code",
      "metadata": {
        "id": "KZAqRSF2ykOA",
        "colab_type": "code",
        "colab": {}
      },
      "source": [
        "from matplotlib import pyplot as plt"
      ],
      "execution_count": 0,
      "outputs": []
    },
    {
      "cell_type": "code",
      "metadata": {
        "id": "RO-OQQCMyyOj",
        "colab_type": "code",
        "colab": {}
      },
      "source": [
        "subsample_index = np.random.randint(low=0, high=len(train_y), size=50)"
      ],
      "execution_count": 0,
      "outputs": []
    },
    {
      "cell_type": "markdown",
      "metadata": {
        "id": "48Tl40cpy4sU",
        "colab_type": "text"
      },
      "source": [
        "绘制特征v_9的值与标签的散点图，图片发现模型的预测结果（蓝色点）与真实标签（黑色点）的分布差异较大，且部分预测值出现了小于0的情况，说明我们的模型存在一些问题"
      ]
    },
    {
      "cell_type": "code",
      "metadata": {
        "id": "AE7Uk5yVy1UZ",
        "colab_type": "code",
        "outputId": "16c7a53a-354a-450d-87de-bf82802c4733",
        "colab": {
          "base_uri": "https://localhost:8080/",
          "height": 297
        }
      },
      "source": [
        "plt.scatter(train_X['v_9'][subsample_index], train_y[subsample_index], color='black')\n",
        "plt.scatter(train_X['v_9'][subsample_index], model.predict(train_X.loc[subsample_index]), color='blue')\n",
        "plt.xlabel('v_9')\n",
        "plt.ylabel('price')\n",
        "plt.legend(['True Price','Predicted Price'],loc='upper right')\n",
        "print('The predicted price is obvious different from true price')\n",
        "plt.show()"
      ],
      "execution_count": 11,
      "outputs": [
        {
          "output_type": "stream",
          "text": [
            "The predicted price is obvious different from true price\n"
          ],
          "name": "stdout"
        },
        {
          "output_type": "display_data",
          "data": {
            "image/png": "[encoded data removed]",
            "text/plain": [
              "<Figure size 432x288 with 1 Axes>"
            ]
          },
          "metadata": {
            "tags": []
          }
        }
      ]
    },
    {
      "cell_type": "markdown",
      "metadata": {
        "id": "rx8kdJ4AzNmU",
        "colab_type": "text"
      },
      "source": [
        "通过作图我们发现数据的标签（price）呈现长尾分布，不利于我们的建模预测。原因是很多模型都假设数据误差项符合正态分布，而长尾分布的数据违背了这一假设。参考博客：https://blog.csdn.net/Noob_daniel/article/details/76087829"
      ]
    },
    {
      "cell_type": "code",
      "metadata": {
        "id": "8XY6nrLdy9xc",
        "colab_type": "code",
        "outputId": "cc8697aa-ea9a-4282-b5ce-d0424ebe2a71",
        "colab": {
          "base_uri": "https://localhost:8080/",
          "height": 368
        }
      },
      "source": [
        "import seaborn as sns\n",
        "print('It is clear to see the price shows a typical exponential distribution')\n",
        "plt.figure(figsize=(15,5))\n",
        "plt.subplot(1,2,1)\n",
        "sns.distplot(train_y)\n",
        "plt.subplot(1,2,2)\n",
        "sns.distplot(train_y[train_y < np.quantile(train_y, 0.9)])"
      ],
      "execution_count": 12,
      "outputs": [
        {
          "output_type": "stream",
          "text": [
            "It is clear to see the price shows a typical exponential distribution\n"
          ],
          "name": "stdout"
        },
        {
          "output_type": "execute_result",
          "data": {
            "text/plain": [
              "<matplotlib.axes._subplots.AxesSubplot at 0x7fb32a4b2208>"
            ]
          },
          "metadata": {
            "tags": []
          },
          "execution_count": 12
        },
        {
          "output_type": "display_data",
          "data": {
            "image/png": "[encoded data removed]",
            "text/plain": [
              "<Figure size 1080x360 with 2 Axes>"
            ]
          },
          "metadata": {
            "tags": []
          }
        }
      ]
    },
    {
      "cell_type": "markdown",
      "metadata": {
        "id": "Lsr0aP_TzmZs",
        "colab_type": "text"
      },
      "source": [
        "在这里我们对标签进行了  \n",
        "l\n",
        "o\n",
        "g\n",
        "(\n",
        "x\n",
        "+\n",
        "1\n",
        ")\n",
        "  变换，使标签贴近于正态分布"
      ]
    },
    {
      "cell_type": "code",
      "metadata": {
        "id": "HVd6RC3QzhYG",
        "colab_type": "code",
        "colab": {}
      },
      "source": [
        "train_y_ln = np.log(train_y + 1)"
      ],
      "execution_count": 0,
      "outputs": []
    },
    {
      "cell_type": "code",
      "metadata": {
        "id": "JWrknvaNzquV",
        "colab_type": "code",
        "outputId": "19a18727-085d-41d7-8fe6-51e08f228c67",
        "colab": {
          "base_uri": "https://localhost:8080/",
          "height": 369
        }
      },
      "source": [
        "import seaborn as sns\n",
        "print('The transformed price seems like normal distribution')\n",
        "plt.figure(figsize=(15,5))\n",
        "plt.subplot(1,2,1)\n",
        "sns.distplot(train_y_ln)\n",
        "plt.subplot(1,2,2)\n",
        "sns.distplot(train_y_ln[train_y_ln < np.quantile(train_y_ln, 0.9)])"
      ],
      "execution_count": 14,
      "outputs": [
        {
          "output_type": "stream",
          "text": [
            "The transformed price seems like normal distribution\n"
          ],
          "name": "stdout"
        },
        {
          "output_type": "execute_result",
          "data": {
            "text/plain": [
              "<matplotlib.axes._subplots.AxesSubplot at 0x7fb32d90e860>"
            ]
          },
          "metadata": {
            "tags": []
          },
          "execution_count": 14
        },
        {
          "output_type": "display_data",
          "data": {
            "image/png": "[encoded data removed]",
            "text/plain": [
              "<Figure size 1080x360 with 2 Axes>"
            ]
          },
          "metadata": {
            "tags": []
          }
        }
      ]
    },
    {
      "cell_type": "code",
      "metadata": {
        "id": "AS5WBsO4z5s-",
        "colab_type": "code",
        "outputId": "4f79c8ea-0f80-4695-bec1-34879eb3d9c4",
        "colab": {
          "base_uri": "https://localhost:8080/",
          "height": 612
        }
      },
      "source": [
        "model = model.fit(train_X, train_y_ln)\n",
        "\n",
        "print('intercept:'+ str(model.intercept_))\n",
        "sorted(dict(zip(continuous_feature_names, model.coef_)).items(), key=lambda x:x[1], reverse=True)"
      ],
      "execution_count": 15,
      "outputs": [
        {
          "output_type": "stream",
          "text": [
            "intercept:19.240032994001922\n"
          ],
          "name": "stdout"
        },
        {
          "output_type": "execute_result",
          "data": {
            "text/plain": [
              "[('v_9', 7.527929051363967),\n",
              " ('v_5', 4.875608942698711),\n",
              " ('v_12', 2.098236738381946),\n",
              " ('v_1', 1.5266042221047358),\n",
              " ('v_11', 1.401412325319192),\n",
              " ('v_13', 1.0039202895682364),\n",
              " ('v_3', 0.9453124691747467),\n",
              " ('v_7', 0.5500153048413102),\n",
              " ('brand_price_average', 0.008826002876464407),\n",
              " ('gearbox', 0.007637903896397223),\n",
              " ('fuelType', 0.007575462927947081),\n",
              " ('bodyType', 0.004560669436429853),\n",
              " ('power', 0.0006779618696134831),\n",
              " ('v_0', 0.00041651890584914385),\n",
              " ('brand_price_sum', 3.399454751202081e-05),\n",
              " ('city', 2.847891629850444e-06),\n",
              " ('brand_price_max', 1.2091541370576755e-06),\n",
              " ('brand_price_std', 7.308822025056512e-07),\n",
              " ('brand_price_min', 6.646918189007322e-07),\n",
              " ('brand_amount', 6.181590639292202e-07),\n",
              " ('SaleID', 2.1416425306361445e-08),\n",
              " ('offerType', 1.892974665906877e-11),\n",
              " ('train', -4.433786671143025e-12),\n",
              " ('brand_price_median', -1.4806450754764684e-10),\n",
              " ('name', -7.183073855210505e-08),\n",
              " ('used_time', -0.0021976308114742982),\n",
              " ('v_14', -0.004335484873442436),\n",
              " ('kilometer', -0.013932244351369584),\n",
              " ('notRepairedDamage', -0.26931185064239593),\n",
              " ('v_4', -0.8594176153916806),\n",
              " ('v_2', -1.4335902111136776),\n",
              " ('v_10', -1.4872800617911206),\n",
              " ('v_8', -39.97368113340054),\n",
              " ('v_6', -236.07719463743535)]"
            ]
          },
          "metadata": {
            "tags": []
          },
          "execution_count": 15
        }
      ]
    },
    {
      "cell_type": "markdown",
      "metadata": {
        "id": "YvCKT84Zz-TV",
        "colab_type": "text"
      },
      "source": [
        "再次进行可视化，发现预测结果与真实值较为接近，且未出现异常状况"
      ]
    },
    {
      "cell_type": "code",
      "metadata": {
        "id": "F6Z8qXPFz7My",
        "colab_type": "code",
        "outputId": "c2c62de6-75e9-4d70-e113-890a32e0c232",
        "colab": {
          "base_uri": "https://localhost:8080/",
          "height": 297
        }
      },
      "source": [
        "plt.scatter(train_X['v_9'][subsample_index], train_y[subsample_index], color='black')\n",
        "plt.scatter(train_X['v_9'][subsample_index], np.exp(model.predict(train_X.loc[subsample_index])), color='blue')\n",
        "plt.xlabel('v_9')\n",
        "plt.ylabel('price')\n",
        "plt.legend(['True Price','Predicted Price'],loc='upper right')\n",
        "print('The predicted price seems normal after np.log transforming')\n",
        "plt.show()"
      ],
      "execution_count": 16,
      "outputs": [
        {
          "output_type": "stream",
          "text": [
            "The predicted price seems normal after np.log transforming\n"
          ],
          "name": "stdout"
        },
        {
          "output_type": "display_data",
          "data": {
            "image/png": "[encoded data removed]",
            "text/plain": [
              "<Figure size 432x288 with 1 Axes>"
            ]
          },
          "metadata": {
            "tags": []
          }
        }
      ]
    },
    {
      "cell_type": "markdown",
      "metadata": {
        "id": "AZRm1jvWMnc9",
        "colab_type": "text"
      },
      "source": [
        "## 4.4.2 - 2 五折交叉验证"
      ]
    },
    {
      "cell_type": "markdown",
      "metadata": {
        "id": "FoBxRooGMqQA",
        "colab_type": "text"
      },
      "source": [
        "在使用训练集对参数进行训练的时候，经常会发现人们通常会将一整个训练集分为三个部分（比如mnist手写训练集）。一般分为：训练集（train_set），评估集（valid_set），测试集（test_set）这三个部分。这其实是为了保证训练效果而特意设置的。其中测试集很好理解，其实就是完全不参与训练的数据，仅仅用来观测测试效果的数据。而训练集和评估集则牵涉到下面的知识了。\n"
      ]
    },
    {
      "cell_type": "markdown",
      "metadata": {
        "id": "qO1cWZ7eMs1x",
        "colab_type": "text"
      },
      "source": [
        "因为在实际的训练中，训练的结果对于训练集的拟合程度通常还是挺好的（初始条件敏感），但是对于训练集之外的数据的拟合程度通常就不那么令人满意了。因此我们通常并不会把所有的数据集都拿来训练，而是分出一部分来（这一部分不参加训练）对训练集生成的参数进行测试，相对客观的判断这些参数对训练集之外的数据的符合程度。这种思想就称为交叉验证（Cross Validation）"
      ]
    },
    {
      "cell_type": "code",
      "metadata": {
        "id": "aG_cFAtr0CWN",
        "colab_type": "code",
        "colab": {}
      },
      "source": [
        "from sklearn.model_selection import cross_val_score\n",
        "from sklearn.metrics import mean_absolute_error,  make_scorer"
      ],
      "execution_count": 0,
      "outputs": []
    },
    {
      "cell_type": "code",
      "metadata": {
        "id": "FUWfZDRoMvYj",
        "colab_type": "code",
        "colab": {}
      },
      "source": [
        "def log_transfer(func):\n",
        "    def wrapper(y, yhat):\n",
        "        result = func(np.log(y), np.nan_to_num(np.log(yhat)))\n",
        "        return result\n",
        "    return wrapper"
      ],
      "execution_count": 0,
      "outputs": []
    },
    {
      "cell_type": "code",
      "metadata": {
        "id": "R6oyuuR6Mx4g",
        "colab_type": "code",
        "outputId": "4fe8990b-4f2f-485e-99df-63fbb704d95b",
        "colab": {
          "base_uri": "https://localhost:8080/",
          "height": 51
        }
      },
      "source": [
        "scores = cross_val_score(model, X=train_X, y=train_y, verbose=1, cv = 5, scoring=make_scorer(log_transfer(mean_absolute_error)))"
      ],
      "execution_count": 19,
      "outputs": [
        {
          "output_type": "stream",
          "text": [
            "[Parallel(n_jobs=1)]: Using backend SequentialBackend with 1 concurrent workers.\n",
            "[Parallel(n_jobs=1)]: Done   5 out of   5 | elapsed:    0.6s finished\n"
          ],
          "name": "stderr"
        }
      ]
    },
    {
      "cell_type": "markdown",
      "metadata": {
        "id": "p93YKhC1M2yh",
        "colab_type": "text"
      },
      "source": [
        "使用线性回归模型，对未处理标签的特征数据进行五折交叉验证（Error 1.36）"
      ]
    },
    {
      "cell_type": "code",
      "metadata": {
        "id": "BoaKTYg0MzbA",
        "colab_type": "code",
        "outputId": "ac8c115b-efb1-4881-d8f3-063f5c4c8f0c",
        "colab": {
          "base_uri": "https://localhost:8080/",
          "height": 34
        }
      },
      "source": [
        "print('AVG:', np.mean(scores))"
      ],
      "execution_count": 20,
      "outputs": [
        {
          "output_type": "stream",
          "text": [
            "AVG: 1.3658699851261034\n"
          ],
          "name": "stdout"
        }
      ]
    },
    {
      "cell_type": "markdown",
      "metadata": {
        "id": "pW18q_CFNB6e",
        "colab_type": "text"
      },
      "source": [
        "使用线性回归模型，对处理过标签的特征数据进行五折交叉验证（Error 0.19\n"
      ]
    },
    {
      "cell_type": "code",
      "metadata": {
        "id": "GLluLq-aM5ON",
        "colab_type": "code",
        "outputId": "66b7e528-8207-487c-b211-293e82ddf413",
        "colab": {
          "base_uri": "https://localhost:8080/",
          "height": 51
        }
      },
      "source": [
        "scores = cross_val_score(model, X=train_X, y=train_y_ln, verbose=1, cv = 5, scoring=make_scorer(mean_absolute_error))"
      ],
      "execution_count": 21,
      "outputs": [
        {
          "output_type": "stream",
          "text": [
            "[Parallel(n_jobs=1)]: Using backend SequentialBackend with 1 concurrent workers.\n",
            "[Parallel(n_jobs=1)]: Done   5 out of   5 | elapsed:    0.6s finished\n"
          ],
          "name": "stderr"
        }
      ]
    },
    {
      "cell_type": "code",
      "metadata": {
        "id": "hEnFdOLbNIJt",
        "colab_type": "code",
        "outputId": "4c8eceb2-9ad1-40e6-b9fb-50bb56914fa8",
        "colab": {
          "base_uri": "https://localhost:8080/",
          "height": 34
        }
      },
      "source": [
        "print('AVG:', np.mean(scores))"
      ],
      "execution_count": 22,
      "outputs": [
        {
          "output_type": "stream",
          "text": [
            "AVG: 0.19291619750247557\n"
          ],
          "name": "stdout"
        }
      ]
    },
    {
      "cell_type": "code",
      "metadata": {
        "id": "TvgTnHMuNJ90",
        "colab_type": "code",
        "outputId": "a9377ada-d783-48f8-a5f5-9c6dab1b7f90",
        "colab": {
          "base_uri": "https://localhost:8080/",
          "height": 80
        }
      },
      "source": [
        "scores = pd.DataFrame(scores.reshape(1,-1))\n",
        "scores.columns = ['cv' + str(x) for x in range(1, 6)]\n",
        "scores.index = ['MAE']\n",
        "scores"
      ],
      "execution_count": 23,
      "outputs": [
        {
          "output_type": "execute_result",
          "data": {
            "text/html": [
              "<div>\n",
              "<style scoped>\n",
              "    .dataframe tbody tr th:only-of-type {\n",
              "        vertical-align: middle;\n",
              "    }\n",
              "\n",
              "    .dataframe tbody tr th {\n",
              "        vertical-align: top;\n",
              "    }\n",
              "\n",
              "    .dataframe thead th {\n",
              "        text-align: right;\n",
              "    }\n",
              "</style>\n",
              "<table border=\"1\" class=\"dataframe\">\n",
              "  <thead>\n",
              "    <tr style=\"text-align: right;\">\n",
              "      <th></th>\n",
              "      <th>cv1</th>\n",
              "      <th>cv2</th>\n",
              "      <th>cv3</th>\n",
              "      <th>cv4</th>\n",
              "      <th>cv5</th>\n",
              "    </tr>\n",
              "  </thead>\n",
              "  <tbody>\n",
              "    <tr>\n",
              "      <th>MAE</th>\n",
              "      <td>0.190373</td>\n",
              "      <td>0.193281</td>\n",
              "      <td>0.19393</td>\n",
              "      <td>0.191483</td>\n",
              "      <td>0.195514</td>\n",
              "    </tr>\n",
              "  </tbody>\n",
              "</table>\n",
              "</div>"
            ],
            "text/plain": [
              "          cv1       cv2      cv3       cv4       cv5\n",
              "MAE  0.190373  0.193281  0.19393  0.191483  0.195514"
            ]
          },
          "metadata": {
            "tags": []
          },
          "execution_count": 23
        }
      ]
    },
    {
      "cell_type": "markdown",
      "metadata": {
        "id": "G6vUjSm5NONo",
        "colab_type": "text"
      },
      "source": [
        "## 4.4.2 - 3 模拟真实业务情况"
      ]
    },
    {
      "cell_type": "markdown",
      "metadata": {
        "id": "a9qZaIdXNQ_l",
        "colab_type": "text"
      },
      "source": [
        "但在事实上，由于我们并不具有预知未来的能力，五折交叉验证在某些与时间相关的数据集上反而反映了不真实的情况。通过2018年的二手车价格预测2017年的二手车价格，这显然是不合理的，因此我们还可以采用时间顺序对数据集进行分隔。在本例中，我们选用靠前时间的4/5样本当作训练集，靠后时间的1/5当作验证集，最终结果与五折交叉验证差距不大"
      ]
    },
    {
      "cell_type": "code",
      "metadata": {
        "id": "DzQYTP-kNLmt",
        "colab_type": "code",
        "outputId": "8d6070de-19af-4d0f-950f-d2dbd770cbf4",
        "colab": {
          "base_uri": "https://localhost:8080/",
          "height": 34
        }
      },
      "source": [
        "import datetime\n",
        "sample_feature = sample_feature.reset_index(drop=True)\n",
        "split_point = len(sample_feature) // 5 * 4\n",
        "train = sample_feature.loc[:split_point].dropna()\n",
        "val = sample_feature.loc[split_point:].dropna()\n",
        "\n",
        "train_X = train[continuous_feature_names]\n",
        "train_y_ln = np.log(train['price'] + 1)\n",
        "val_X = val[continuous_feature_names]\n",
        "val_X = val_X.drop('used_time', axis = 1)\n",
        "val_y_ln = np.log(val['price'] + 1)\n",
        "\n",
        "train_X = train_X.drop('used_time', axis = 1)\n",
        "\n",
        "model = model.fit(train_X, train_y_ln)\n",
        "\n",
        "\n",
        "mean_absolute_error(val_y_ln, model.predict(val_X))"
      ],
      "execution_count": 24,
      "outputs": [
        {
          "output_type": "execute_result",
          "data": {
            "text/plain": [
              "0.1955315053769099"
            ]
          },
          "metadata": {
            "tags": []
          },
          "execution_count": 24
        }
      ]
    },
    {
      "cell_type": "markdown",
      "metadata": {
        "id": "BWeXf5IZxEPE",
        "colab_type": "text"
      },
      "source": [
        "## 4.4.2-4 绘制学习率曲线和验证曲线"
      ]
    },
    {
      "cell_type": "code",
      "metadata": {
        "id": "CducMaZnwTX3",
        "colab_type": "code",
        "colab": {}
      },
      "source": [
        "from sklearn.model_selection import learning_curve, validation_curve"
      ],
      "execution_count": 0,
      "outputs": []
    },
    {
      "cell_type": "code",
      "metadata": {
        "id": "QXHj6i4UxPm9",
        "colab_type": "code",
        "colab": {}
      },
      "source": [
        "? learning_curve"
      ],
      "execution_count": 0,
      "outputs": []
    },
    {
      "cell_type": "code",
      "metadata": {
        "id": "vwY5iRMqxQp0",
        "colab_type": "code",
        "colab": {}
      },
      "source": [
        "def plot_learning_curve(estimator, title, X, y, ylim = None, cv = None, n_jobs = 1, train_size = np.linspace(.1, 1, 5)):\n",
        "  plt.figure()\n",
        "  plt.title(title)\n",
        "  if ylim is not None:\n",
        "    plt.ylim(*ylim)\n",
        "  plt.xlabel('Training example')\n",
        "  plt.ylabel('score')\n",
        "  train_sizes, train_scores, test_scores = learning_curve(estimator,\n",
        "                                                          X, y, cv = cv, n_jobs = n_jobs, train_sizes=train_size, scoring = make_scorer(mean_absolute_error))\n",
        "  train_scores_mean = np.mean(train_scores, axis = 1)\n",
        "  train_scores_std = np.std(train_scores, axis = 1)\n",
        "  test_scores_mean = np.mean(test_scores, axis = 1)\n",
        "  test_scores_std = np.std(test_scores, axis = 1)\n",
        "  plt.grid()\n",
        "  #颜色填充 数据，上界，下界\n",
        "  plt.fill_between(train_sizes, train_scores_mean - train_scores_std,  \n",
        "                     train_scores_mean + train_scores_std, alpha=0.1,  \n",
        "                     color=\"r\")  \n",
        "  plt.fill_between(train_sizes, test_scores_mean - test_scores_std,  \n",
        "                     test_scores_mean + test_scores_std, alpha=0.1,  \n",
        "                     color=\"g\")  \n",
        "  plt.plot(train_sizes, train_scores_mean, 'o-', color='r',  \n",
        "             label=\"Training score\")  \n",
        "  plt.plot(train_sizes, test_scores_mean,'o-',color=\"g\",  \n",
        "             label=\"Cross-validation score\")  \n",
        "  plt.legend(loc=\"best\")  \n",
        "  return plt  \n",
        "\n"
      ],
      "execution_count": 0,
      "outputs": []
    },
    {
      "cell_type": "code",
      "metadata": {
        "id": "xHwOY1kY1bc-",
        "colab_type": "code",
        "colab": {
          "base_uri": "https://localhost:8080/",
          "height": 312
        },
        "outputId": "ddc9a740-5bd2-4ba9-a80e-21454d01537b"
      },
      "source": [
        "plot_learning_curve(\n",
        "    LinearRegression(),\n",
        "    'Liner_model',\n",
        "    train_X[:2000],\n",
        "    train_y_ln[:2000],\n",
        "    ylim = (0.0, 0.5),\n",
        "    cv = 5,\n",
        "    n_jobs = 1\n",
        ")"
      ],
      "execution_count": 28,
      "outputs": [
        {
          "output_type": "execute_result",
          "data": {
            "text/plain": [
              "<module 'matplotlib.pyplot' from '/usr/local/lib/python3.6/dist-packages/matplotlib/pyplot.py'>"
            ]
          },
          "metadata": {
            "tags": []
          },
          "execution_count": 28
        },
        {
          "output_type": "display_data",
          "data": {
            "image/png": "[encoded data removed]",
            "text/plain": [
              "<Figure size 432x288 with 1 Axes>"
            ]
          },
          "metadata": {
            "tags": []
          }
        }
      ]
    },
    {
      "cell_type": "markdown",
      "metadata": {
        "id": "l1V71oMf2RNQ",
        "colab_type": "text"
      },
      "source": [
        "## 4.4.3 多种模型对比"
      ]
    },
    {
      "cell_type": "code",
      "metadata": {
        "id": "fzRSyVol2PU9",
        "colab_type": "code",
        "colab": {}
      },
      "source": [
        "train = sample_feature[continuous_feature_names + ['price']].dropna()\n",
        "\n",
        "train_X = train[continuous_feature_names]\n",
        "train_y = train['price']\n",
        "train_y_ln = np.log(train_y +1)\n",
        "\n",
        "train_X = train_X.drop('used_time', axis = 1)"
      ],
      "execution_count": 0,
      "outputs": []
    },
    {
      "cell_type": "markdown",
      "metadata": {
        "id": "lNyor3mP21TO",
        "colab_type": "text"
      },
      "source": [
        "## 4.4.3 - 1 线性模型，嵌入式特征选择\n",
        "\n",
        "* 用简单易懂的语言描述「过拟合 overfitting」？ https://www.zhihu.com/question/32246256/answer/55320482\n",
        "* 模型复杂度与模型的泛化能力 http://yangyingming.com/article/434/\n",
        "* 正则化的直观理解 https://blog.csdn.net/jinping_shi/article/details/52433975\n",
        "\n",
        "在过滤式和包裹式特征选择方法中，特征选择过程与学习器训练过程有明显的分别。而嵌入式特征选择在学习器训练过程中自动地进行特征选择。嵌入式选择最常用的是L1正则化与L2正则化。在对线性回归模型加入两种正则化方法后，他们分别变成了岭回归与Lasso回归。"
      ]
    },
    {
      "cell_type": "code",
      "metadata": {
        "id": "CtMexC7D2-rp",
        "colab_type": "code",
        "colab": {
          "base_uri": "https://localhost:8080/",
          "height": 68
        },
        "outputId": "5a2ac084-fe83-4342-8d38-8cf46e43faa5"
      },
      "source": [
        "from sklearn.linear_model import LinearRegression\n",
        "from sklearn.linear_model import Ridge\n",
        "from sklearn.linear_model import Lasso\n",
        "\n",
        "models = [\n",
        "          LinearRegression(),\n",
        "          Ridge(),\n",
        "          Lasso(),\n",
        "]\n",
        "\n",
        "result = dict()\n",
        "\n",
        "for model in models:\n",
        "  model_name = str(model).split('(')[0]\n",
        "  scores = cross_val_score(\n",
        "      model,\n",
        "      X = train_X,\n",
        "      y = train_y_ln,\n",
        "      verbose = 0,\n",
        "      cv = 5,\n",
        "      scoring = make_scorer(mean_absolute_error)\n",
        "  )\n",
        "  result[model_name] = scores\n",
        "  print(model_name + 'is finished')"
      ],
      "execution_count": 30,
      "outputs": [
        {
          "output_type": "stream",
          "text": [
            "LinearRegressionis finished\n",
            "Ridgeis finished\n",
            "Lassois finished\n"
          ],
          "name": "stdout"
        }
      ]
    },
    {
      "cell_type": "markdown",
      "metadata": {
        "id": "44TMjLH-4X63",
        "colab_type": "text"
      },
      "source": [
        "对比"
      ]
    },
    {
      "cell_type": "code",
      "metadata": {
        "id": "FABK7LWy4XWh",
        "colab_type": "code",
        "colab": {
          "base_uri": "https://localhost:8080/",
          "height": 204
        },
        "outputId": "fd5b5789-cacb-4a85-a401-e3267595b6bc"
      },
      "source": [
        "result = pd.DataFrame(result)\n",
        "result.index = ['cv' + str(x) for x in range(1,6)]\n",
        "result"
      ],
      "execution_count": 31,
      "outputs": [
        {
          "output_type": "execute_result",
          "data": {
            "text/html": [
              "<div>\n",
              "<style scoped>\n",
              "    .dataframe tbody tr th:only-of-type {\n",
              "        vertical-align: middle;\n",
              "    }\n",
              "\n",
              "    .dataframe tbody tr th {\n",
              "        vertical-align: top;\n",
              "    }\n",
              "\n",
              "    .dataframe thead th {\n",
              "        text-align: right;\n",
              "    }\n",
              "</style>\n",
              "<table border=\"1\" class=\"dataframe\">\n",
              "  <thead>\n",
              "    <tr style=\"text-align: right;\">\n",
              "      <th></th>\n",
              "      <th>LinearRegression</th>\n",
              "      <th>Ridge</th>\n",
              "      <th>Lasso</th>\n",
              "    </tr>\n",
              "  </thead>\n",
              "  <tbody>\n",
              "    <tr>\n",
              "      <th>cv1</th>\n",
              "      <td>0.190373</td>\n",
              "      <td>0.195609</td>\n",
              "      <td>0.510522</td>\n",
              "    </tr>\n",
              "    <tr>\n",
              "      <th>cv2</th>\n",
              "      <td>0.193281</td>\n",
              "      <td>0.198343</td>\n",
              "      <td>0.503826</td>\n",
              "    </tr>\n",
              "    <tr>\n",
              "      <th>cv3</th>\n",
              "      <td>0.193930</td>\n",
              "      <td>0.198994</td>\n",
              "      <td>0.509570</td>\n",
              "    </tr>\n",
              "    <tr>\n",
              "      <th>cv4</th>\n",
              "      <td>0.191483</td>\n",
              "      <td>0.196486</td>\n",
              "      <td>0.499636</td>\n",
              "    </tr>\n",
              "    <tr>\n",
              "      <th>cv5</th>\n",
              "      <td>0.195514</td>\n",
              "      <td>0.200583</td>\n",
              "      <td>0.508290</td>\n",
              "    </tr>\n",
              "  </tbody>\n",
              "</table>\n",
              "</div>"
            ],
            "text/plain": [
              "     LinearRegression     Ridge     Lasso\n",
              "cv1          0.190373  0.195609  0.510522\n",
              "cv2          0.193281  0.198343  0.503826\n",
              "cv3          0.193930  0.198994  0.509570\n",
              "cv4          0.191483  0.196486  0.499636\n",
              "cv5          0.195514  0.200583  0.508290"
            ]
          },
          "metadata": {
            "tags": []
          },
          "execution_count": 31
        }
      ]
    },
    {
      "cell_type": "code",
      "metadata": {
        "id": "glEH0lX75_3_",
        "colab_type": "code",
        "colab": {
          "base_uri": "https://localhost:8080/",
          "height": 34
        },
        "outputId": "c596508b-772e-4f39-d5aa-bc51afce1eb0"
      },
      "source": [
        "model = LinearRegression()\n",
        "model.fit(train_X, train_y_ln)\n",
        "print('intercept' + str(model.intercept_))\n"
      ],
      "execution_count": 32,
      "outputs": [
        {
          "output_type": "stream",
          "text": [
            "intercept19.24003299401113\n"
          ],
          "name": "stdout"
        }
      ]
    },
    {
      "cell_type": "markdown",
      "metadata": {
        "id": "pPBwL2hi8ZkB",
        "colab_type": "text"
      },
      "source": [
        "除此之外，决策树通过信息熵或GINI指数选择分裂节点时，优先选择的分裂特征也更加重要，这同样是一种特征选择的方法。XGBoost与LightGBM模型中的model_importance指标正是基于此计算的"
      ]
    },
    {
      "cell_type": "markdown",
      "metadata": {
        "id": "pxvogtbF8baO",
        "colab_type": "text"
      },
      "source": [
        "## 4.4.3 - 2 非线性模型"
      ]
    },
    {
      "cell_type": "code",
      "metadata": {
        "id": "IeCfatnc8XVX",
        "colab_type": "code",
        "colab": {}
      },
      "source": [
        "from sklearn.linear_model import LinearRegression\n",
        "from sklearn.svm import SVC\n",
        "from sklearn.tree import DecisionTreeRegressor\n",
        "from sklearn.ensemble import RandomForestRegressor\n",
        "from sklearn.ensemble import GradientBoostingRegressor\n",
        "from sklearn.neural_network import MLPRegressor\n",
        "from xgboost.sklearn import XGBRegressor\n",
        "from lightgbm.sklearn import LGBMRegressor"
      ],
      "execution_count": 0,
      "outputs": []
    },
    {
      "cell_type": "code",
      "metadata": {
        "id": "c-g23B1_8sbZ",
        "colab_type": "code",
        "colab": {
          "base_uri": "https://localhost:8080/",
          "height": 136
        },
        "outputId": "63ee3450-2ac3-40d6-ae3e-7ec9ead682a3"
      },
      "source": [
        "models = [LinearRegression(),\n",
        "          DecisionTreeRegressor(),\n",
        "          RandomForestRegressor(),\n",
        "          GradientBoostingRegressor(),\n",
        "          MLPRegressor(solver='lbfgs', max_iter=100), \n",
        "          XGBRegressor(n_estimators = 100, objective='reg:squarederror'), \n",
        "          LGBMRegressor(n_estimators = 100)]\n",
        "\n",
        "result = dict()\n",
        "for model in models:\n",
        "  model_name = str(model).split('(')[0]\n",
        "  scores = cross_val_score(\n",
        "      model,\n",
        "      X = train_X,\n",
        "      y = train_y_ln,\n",
        "      verbose = 0,\n",
        "      cv = 5,\n",
        "      scoring = make_scorer(mean_absolute_error)\n",
        "  )\n",
        "  result[model_name] = scores\n",
        "  print(model_name + ' is finished')\n"
      ],
      "execution_count": 34,
      "outputs": [
        {
          "output_type": "stream",
          "text": [
            "LinearRegression is finished\n",
            "DecisionTreeRegressor is finished\n",
            "RandomForestRegressor is finished\n",
            "GradientBoostingRegressor is finished\n",
            "MLPRegressor is finished\n",
            "XGBRegressor is finished\n",
            "LGBMRegressor is finished\n"
          ],
          "name": "stdout"
        }
      ]
    },
    {
      "cell_type": "code",
      "metadata": {
        "id": "frHnZxdYCfaA",
        "colab_type": "code",
        "colab": {
          "base_uri": "https://localhost:8080/",
          "height": 204
        },
        "outputId": "45033046-5a3f-48fc-899d-14f2ba6e34cc"
      },
      "source": [
        "result = pd.DataFrame(result)\n",
        "result.index = ['cv' + str(x) for x in range(1, 6)]\n",
        "result\n"
      ],
      "execution_count": 35,
      "outputs": [
        {
          "output_type": "execute_result",
          "data": {
            "text/html": [
              "<div>\n",
              "<style scoped>\n",
              "    .dataframe tbody tr th:only-of-type {\n",
              "        vertical-align: middle;\n",
              "    }\n",
              "\n",
              "    .dataframe tbody tr th {\n",
              "        vertical-align: top;\n",
              "    }\n",
              "\n",
              "    .dataframe thead th {\n",
              "        text-align: right;\n",
              "    }\n",
              "</style>\n",
              "<table border=\"1\" class=\"dataframe\">\n",
              "  <thead>\n",
              "    <tr style=\"text-align: right;\">\n",
              "      <th></th>\n",
              "      <th>LinearRegression</th>\n",
              "      <th>DecisionTreeRegressor</th>\n",
              "      <th>RandomForestRegressor</th>\n",
              "      <th>GradientBoostingRegressor</th>\n",
              "      <th>MLPRegressor</th>\n",
              "      <th>XGBRegressor</th>\n",
              "      <th>LGBMRegressor</th>\n",
              "    </tr>\n",
              "  </thead>\n",
              "  <tbody>\n",
              "    <tr>\n",
              "      <th>cv1</th>\n",
              "      <td>0.190373</td>\n",
              "      <td>0.209523</td>\n",
              "      <td>0.144224</td>\n",
              "      <td>0.170160</td>\n",
              "      <td>620.638141</td>\n",
              "      <td>0.170409</td>\n",
              "      <td>0.152793</td>\n",
              "    </tr>\n",
              "    <tr>\n",
              "      <th>cv2</th>\n",
              "      <td>0.193281</td>\n",
              "      <td>0.205761</td>\n",
              "      <td>0.145809</td>\n",
              "      <td>0.173524</td>\n",
              "      <td>298.619615</td>\n",
              "      <td>0.174458</td>\n",
              "      <td>0.156512</td>\n",
              "    </tr>\n",
              "    <tr>\n",
              "      <th>cv3</th>\n",
              "      <td>0.193930</td>\n",
              "      <td>0.201407</td>\n",
              "      <td>0.144847</td>\n",
              "      <td>0.173583</td>\n",
              "      <td>649.278659</td>\n",
              "      <td>0.174447</td>\n",
              "      <td>0.156395</td>\n",
              "    </tr>\n",
              "    <tr>\n",
              "      <th>cv4</th>\n",
              "      <td>0.191483</td>\n",
              "      <td>0.201873</td>\n",
              "      <td>0.143900</td>\n",
              "      <td>0.172554</td>\n",
              "      <td>591.245384</td>\n",
              "      <td>0.172319</td>\n",
              "      <td>0.154005</td>\n",
              "    </tr>\n",
              "    <tr>\n",
              "      <th>cv5</th>\n",
              "      <td>0.195514</td>\n",
              "      <td>0.220559</td>\n",
              "      <td>0.149574</td>\n",
              "      <td>0.175907</td>\n",
              "      <td>216.273888</td>\n",
              "      <td>0.175634</td>\n",
              "      <td>0.157167</td>\n",
              "    </tr>\n",
              "  </tbody>\n",
              "</table>\n",
              "</div>"
            ],
            "text/plain": [
              "     LinearRegression  DecisionTreeRegressor  ...  XGBRegressor  LGBMRegressor\n",
              "cv1          0.190373               0.209523  ...      0.170409       0.152793\n",
              "cv2          0.193281               0.205761  ...      0.174458       0.156512\n",
              "cv3          0.193930               0.201407  ...      0.174447       0.156395\n",
              "cv4          0.191483               0.201873  ...      0.172319       0.154005\n",
              "cv5          0.195514               0.220559  ...      0.175634       0.157167\n",
              "\n",
              "[5 rows x 7 columns]"
            ]
          },
          "metadata": {
            "tags": []
          },
          "execution_count": 35
        }
      ]
    },
    {
      "cell_type": "markdown",
      "metadata": {
        "id": "KzKhHX4YCstN",
        "colab_type": "text"
      },
      "source": [
        "可以看到随机森林模型在每一个fold中均取得了更好的效果"
      ]
    },
    {
      "cell_type": "markdown",
      "metadata": {
        "id": "bIrDk9ZACurE",
        "colab_type": "text"
      },
      "source": [
        "# 4.4.4 模型调参\n",
        "\n",
        "* 贪心算法 https://www.jianshu.com/p/ab89df9759c8\n",
        "* 网格调参 https://blog.csdn.net/weixin_43172660/article/details/83032029\n",
        "* 贝叶斯调参 https://blog.csdn.net/linxid/article/details/81189154"
      ]
    },
    {
      "cell_type": "code",
      "metadata": {
        "id": "BL3MeDV0CtXE",
        "colab_type": "code",
        "colab": {}
      },
      "source": [
        "## LGB的参数集合：\n",
        "\n",
        "objective = ['regression', 'regression_l1', 'mape', 'huber', 'fair']\n",
        "\n",
        "num_leaves = [3,5,10,15,20,40, 55]\n",
        "max_depth = [3,5,10,15,20,40, 55]\n",
        "bagging_fraction = []\n",
        "feature_fraction = []\n",
        "drop_rate = []"
      ],
      "execution_count": 0,
      "outputs": []
    },
    {
      "cell_type": "markdown",
      "metadata": {
        "id": "YNsHfb8BEN_E",
        "colab_type": "text"
      },
      "source": [
        "## 贪心调参"
      ]
    },
    {
      "cell_type": "code",
      "metadata": {
        "id": "o9kmLgpnDDzA",
        "colab_type": "code",
        "colab": {}
      },
      "source": [
        "best_obj = dict()\n",
        "for obj in objective:\n",
        "    model = LGBMRegressor(objective=obj)\n",
        "    score = np.mean(cross_val_score(model, X=train_X, y=train_y_ln, verbose=0, cv = 5, scoring=make_scorer(mean_absolute_error)))\n",
        "    best_obj[obj] = score\n",
        "    \n",
        "best_leaves = dict()\n",
        "for leaves in num_leaves:\n",
        "    model = LGBMRegressor(objective=min(best_obj.items(), key=lambda x:x[1])[0], num_leaves=leaves)\n",
        "    score = np.mean(cross_val_score(model, X=train_X, y=train_y_ln, verbose=0, cv = 5, scoring=make_scorer(mean_absolute_error)))\n",
        "    best_leaves[leaves] = score\n",
        "    \n",
        "best_depth = dict()\n",
        "for depth in max_depth:\n",
        "    model = LGBMRegressor(objective=min(best_obj.items(), key=lambda x:x[1])[0],\n",
        "                          num_leaves=min(best_leaves.items(), key=lambda x:x[1])[0],\n",
        "                          max_depth=depth)\n",
        "    score = np.mean(cross_val_score(model, X=train_X, y=train_y_ln, verbose=0, cv = 5, scoring=make_scorer(mean_absolute_error)))\n",
        "    best_depth[depth] = score"
      ],
      "execution_count": 0,
      "outputs": []
    },
    {
      "cell_type": "code",
      "metadata": {
        "id": "shU0MDI7FrK3",
        "colab_type": "code",
        "colab": {
          "base_uri": "https://localhost:8080/",
          "height": 283
        },
        "outputId": "133fb5c7-a280-4eb5-ee07-fb6693c6783d"
      },
      "source": [
        "sns.lineplot(x=['0_initial','1_turning_obj','2_turning_leaves','3_turning_depth'], y=[0.143 ,min(best_obj.values()), min(best_leaves.values()), min(best_depth.values())])"
      ],
      "execution_count": 38,
      "outputs": [
        {
          "output_type": "execute_result",
          "data": {
            "text/plain": [
              "<matplotlib.axes._subplots.AxesSubplot at 0x7fb328963390>"
            ]
          },
          "metadata": {
            "tags": []
          },
          "execution_count": 38
        },
        {
          "output_type": "display_data",
          "data": {
            "image/png": "[encoded data removed]",
            "text/plain": [
              "<Figure size 432x288 with 1 Axes>"
            ]
          },
          "metadata": {
            "tags": []
          }
        }
      ]
    },
    {
      "cell_type": "markdown",
      "metadata": {
        "id": "B5O1UYLsHCG3",
        "colab_type": "text"
      },
      "source": [
        "## 4.4.4 - 2 Grid Search 调参"
      ]
    },
    {
      "cell_type": "code",
      "metadata": {
        "id": "hpZIatWVHDkp",
        "colab_type": "code",
        "colab": {}
      },
      "source": [
        "from sklearn.model_selection import GridSearchCV"
      ],
      "execution_count": 0,
      "outputs": []
    },
    {
      "cell_type": "code",
      "metadata": {
        "id": "WcwRlc8QHFXV",
        "colab_type": "code",
        "colab": {}
      },
      "source": [
        "parameters = {'objective': objective , 'num_leaves': num_leaves, 'max_depth': max_depth}\n",
        "model = LGBMRegressor()\n",
        "clf = GridSearchCV(model, parameters, cv=5)\n",
        "clf = clf.fit(train_X, train_y)"
      ],
      "execution_count": 0,
      "outputs": []
    },
    {
      "cell_type": "code",
      "metadata": {
        "id": "2v2HpzRRHpdj",
        "colab_type": "code",
        "colab": {
          "base_uri": "https://localhost:8080/",
          "height": 34
        },
        "outputId": "003f84b8-b55f-4ca0-cec8-af41d33e44f2"
      },
      "source": [
        "clf.best_params_"
      ],
      "execution_count": 41,
      "outputs": [
        {
          "output_type": "execute_result",
          "data": {
            "text/plain": [
              "{'max_depth': 10, 'num_leaves': 55, 'objective': 'regression'}"
            ]
          },
          "metadata": {
            "tags": []
          },
          "execution_count": 41
        }
      ]
    },
    {
      "cell_type": "markdown",
      "metadata": {
        "id": "12VsFt-jJHCi",
        "colab_type": "text"
      },
      "source": [
        "## 贝叶斯调参"
      ]
    },
    {
      "cell_type": "code",
      "metadata": {
        "id": "jJquG6SkJLDI",
        "colab_type": "code",
        "colab": {
          "base_uri": "https://localhost:8080/",
          "height": 173
        },
        "outputId": "f628f273-e5cd-4ed4-9738-2f9692f0eca2"
      },
      "source": [
        "!pip install bayesian-optimization\n",
        "import bayes_opt\n",
        "from bayes_opt import BayesianOptimization"
      ],
      "execution_count": 45,
      "outputs": [
        {
          "output_type": "stream",
          "text": [
            "Collecting bayesian-optimization\n",
            "  Downloading https://files.pythonhosted.org/packages/b5/26/9842333adbb8f17bcb3d699400a8b1ccde0af0b6de8d07224e183728acdf/bayesian_optimization-1.1.0-py3-none-any.whl\n",
            "Requirement already satisfied: numpy>=1.9.0 in /usr/local/lib/python3.6/dist-packages (from bayesian-optimization) (1.18.2)\n",
            "Requirement already satisfied: scipy>=0.14.0 in /usr/local/lib/python3.6/dist-packages (from bayesian-optimization) (1.4.1)\n",
            "Requirement already satisfied: scikit-learn>=0.18.0 in /usr/local/lib/python3.6/dist-packages (from bayesian-optimization) (0.22.2.post1)\n",
            "Requirement already satisfied: joblib>=0.11 in /usr/local/lib/python3.6/dist-packages (from scikit-learn>=0.18.0->bayesian-optimization) (0.14.1)\n",
            "Installing collected packages: bayesian-optimization\n",
            "Successfully installed bayesian-optimization-1.1.0\n"
          ],
          "name": "stdout"
        }
      ]
    },
    {
      "cell_type": "code",
      "metadata": {
        "id": "DSyQL29FJNkA",
        "colab_type": "code",
        "colab": {}
      },
      "source": [
        "def rf_cv(num_leaves, max_depth, subsample, min_child_samples):\n",
        "    val = cross_val_score(\n",
        "        LGBMRegressor(objective = 'regression_l1',\n",
        "            num_leaves=int(num_leaves),\n",
        "            max_depth=int(max_depth),\n",
        "            subsample = subsample,\n",
        "            min_child_samples = int(min_child_samples)\n",
        "        ),\n",
        "        X=train_X, y=train_y_ln, verbose=0, cv = 5, scoring=make_scorer(mean_absolute_error)\n",
        "    ).mean()\n",
        "    return 1 - val"
      ],
      "execution_count": 0,
      "outputs": []
    },
    {
      "cell_type": "code",
      "metadata": {
        "id": "cKcpUgexJVnA",
        "colab_type": "code",
        "colab": {}
      },
      "source": [
        "rf_bo = BayesianOptimization(\n",
        "    rf_cv,\n",
        "    {\n",
        "    'num_leaves': (2, 100),\n",
        "    'max_depth': (2, 100),\n",
        "    'subsample': (0.1, 1),\n",
        "    'min_child_samples' : (2, 100)\n",
        "    }\n",
        ")"
      ],
      "execution_count": 0,
      "outputs": []
    },
    {
      "cell_type": "code",
      "metadata": {
        "id": "GQKvNgHjJauz",
        "colab_type": "code",
        "colab": {
          "base_uri": "https://localhost:8080/",
          "height": 578
        },
        "outputId": "7e2a8557-6ebe-4c58-ef45-2002d1ccf8c6"
      },
      "source": [
        "rf_bo.maximize()"
      ],
      "execution_count": 48,
      "outputs": [
        {
          "output_type": "stream",
          "text": [
            "|   iter    |  target   | max_depth | min_ch... | num_le... | subsample |\n",
            "-------------------------------------------------------------------------\n",
            "| \u001b[0m 1       \u001b[0m | \u001b[0m 0.8513  \u001b[0m | \u001b[0m 98.25   \u001b[0m | \u001b[0m 71.11   \u001b[0m | \u001b[0m 75.58   \u001b[0m | \u001b[0m 0.2376  \u001b[0m |\n",
            "| \u001b[0m 2       \u001b[0m | \u001b[0m 0.8461  \u001b[0m | \u001b[0m 69.79   \u001b[0m | \u001b[0m 3.32    \u001b[0m | \u001b[0m 42.58   \u001b[0m | \u001b[0m 0.9503  \u001b[0m |\n",
            "| \u001b[0m 3       \u001b[0m | \u001b[0m 0.8433  \u001b[0m | \u001b[0m 6.97    \u001b[0m | \u001b[0m 30.49   \u001b[0m | \u001b[0m 75.75   \u001b[0m | \u001b[0m 0.8361  \u001b[0m |\n",
            "| \u001b[0m 4       \u001b[0m | \u001b[0m 0.8454  \u001b[0m | \u001b[0m 69.8    \u001b[0m | \u001b[0m 34.99   \u001b[0m | \u001b[0m 38.46   \u001b[0m | \u001b[0m 0.3455  \u001b[0m |\n",
            "| \u001b[0m 5       \u001b[0m | \u001b[0m 0.8422  \u001b[0m | \u001b[0m 95.51   \u001b[0m | \u001b[0m 7.461   \u001b[0m | \u001b[0m 28.07   \u001b[0m | \u001b[0m 0.5034  \u001b[0m |\n",
            "| \u001b[0m 6       \u001b[0m | \u001b[0m 0.8511  \u001b[0m | \u001b[0m 96.6    \u001b[0m | \u001b[0m 75.6    \u001b[0m | \u001b[0m 74.49   \u001b[0m | \u001b[0m 0.7364  \u001b[0m |\n",
            "| \u001b[95m 7       \u001b[0m | \u001b[95m 0.8529  \u001b[0m | \u001b[95m 97.24   \u001b[0m | \u001b[95m 97.28   \u001b[0m | \u001b[95m 98.45   \u001b[0m | \u001b[95m 0.1041  \u001b[0m |\n",
            "| \u001b[0m 8       \u001b[0m | \u001b[0m 0.7719  \u001b[0m | \u001b[0m 99.15   \u001b[0m | \u001b[0m 99.97   \u001b[0m | \u001b[0m 2.463   \u001b[0m | \u001b[0m 0.6208  \u001b[0m |\n",
            "| \u001b[0m 9       \u001b[0m | \u001b[0m 0.8508  \u001b[0m | \u001b[0m 94.96   \u001b[0m | \u001b[0m 77.79   \u001b[0m | \u001b[0m 70.74   \u001b[0m | \u001b[0m 0.7765  \u001b[0m |\n",
            "| \u001b[0m 10      \u001b[0m | \u001b[0m 0.8197  \u001b[0m | \u001b[0m 3.409   \u001b[0m | \u001b[0m 99.91   \u001b[0m | \u001b[0m 97.34   \u001b[0m | \u001b[0m 0.8066  \u001b[0m |\n",
            "| \u001b[0m 11      \u001b[0m | \u001b[0m 0.8222  \u001b[0m | \u001b[0m 4.232   \u001b[0m | \u001b[0m 2.928   \u001b[0m | \u001b[0m 7.16    \u001b[0m | \u001b[0m 0.8872  \u001b[0m |\n",
            "| \u001b[95m 12      \u001b[0m | \u001b[95m 0.8533  \u001b[0m | \u001b[95m 56.33   \u001b[0m | \u001b[95m 58.95   \u001b[0m | \u001b[95m 99.38   \u001b[0m | \u001b[95m 0.8703  \u001b[0m |\n",
            "| \u001b[0m 13      \u001b[0m | \u001b[0m 0.8528  \u001b[0m | \u001b[0m 98.2    \u001b[0m | \u001b[0m 20.27   \u001b[0m | \u001b[0m 99.97   \u001b[0m | \u001b[0m 0.9289  \u001b[0m |\n",
            "| \u001b[0m 14      \u001b[0m | \u001b[0m 0.8529  \u001b[0m | \u001b[0m 99.15   \u001b[0m | \u001b[0m 54.1    \u001b[0m | \u001b[0m 95.08   \u001b[0m | \u001b[0m 0.981   \u001b[0m |\n",
            "| \u001b[0m 15      \u001b[0m | \u001b[0m 0.8509  \u001b[0m | \u001b[0m 9.258   \u001b[0m | \u001b[0m 2.024   \u001b[0m | \u001b[0m 97.25   \u001b[0m | \u001b[0m 0.1489  \u001b[0m |\n",
            "| \u001b[0m 16      \u001b[0m | \u001b[0m 0.8528  \u001b[0m | \u001b[0m 63.56   \u001b[0m | \u001b[0m 5.215   \u001b[0m | \u001b[0m 98.45   \u001b[0m | \u001b[0m 0.2719  \u001b[0m |\n",
            "| \u001b[0m 17      \u001b[0m | \u001b[0m 0.8511  \u001b[0m | \u001b[0m 97.26   \u001b[0m | \u001b[0m 5.006   \u001b[0m | \u001b[0m 76.76   \u001b[0m | \u001b[0m 0.1088  \u001b[0m |\n",
            "| \u001b[0m 18      \u001b[0m | \u001b[0m 0.8517  \u001b[0m | \u001b[0m 77.03   \u001b[0m | \u001b[0m 39.78   \u001b[0m | \u001b[0m 79.68   \u001b[0m | \u001b[0m 0.1243  \u001b[0m |\n",
            "| \u001b[0m 19      \u001b[0m | \u001b[0m 0.8531  \u001b[0m | \u001b[0m 79.94   \u001b[0m | \u001b[0m 90.5    \u001b[0m | \u001b[0m 99.41   \u001b[0m | \u001b[0m 0.9136  \u001b[0m |\n",
            "| \u001b[0m 20      \u001b[0m | \u001b[0m 0.8528  \u001b[0m | \u001b[0m 83.9    \u001b[0m | \u001b[0m 91.27   \u001b[0m | \u001b[0m 98.86   \u001b[0m | \u001b[0m 0.7885  \u001b[0m |\n",
            "| \u001b[0m 21      \u001b[0m | \u001b[0m 0.8528  \u001b[0m | \u001b[0m 89.28   \u001b[0m | \u001b[0m 71.38   \u001b[0m | \u001b[0m 99.58   \u001b[0m | \u001b[0m 0.3355  \u001b[0m |\n",
            "| \u001b[0m 22      \u001b[0m | \u001b[0m 0.8531  \u001b[0m | \u001b[0m 31.96   \u001b[0m | \u001b[0m 17.86   \u001b[0m | \u001b[0m 99.56   \u001b[0m | \u001b[0m 0.8586  \u001b[0m |\n",
            "| \u001b[0m 23      \u001b[0m | \u001b[0m 0.8531  \u001b[0m | \u001b[0m 33.42   \u001b[0m | \u001b[0m 14.04   \u001b[0m | \u001b[0m 99.8    \u001b[0m | \u001b[0m 0.8505  \u001b[0m |\n",
            "| \u001b[0m 24      \u001b[0m | \u001b[0m 0.8513  \u001b[0m | \u001b[0m 33.04   \u001b[0m | \u001b[0m 2.315   \u001b[0m | \u001b[0m 78.61   \u001b[0m | \u001b[0m 0.9019  \u001b[0m |\n",
            "| \u001b[0m 25      \u001b[0m | \u001b[0m 0.8525  \u001b[0m | \u001b[0m 97.77   \u001b[0m | \u001b[0m 2.429   \u001b[0m | \u001b[0m 95.01   \u001b[0m | \u001b[0m 0.8249  \u001b[0m |\n",
            "| \u001b[0m 26      \u001b[0m | \u001b[0m 0.8532  \u001b[0m | \u001b[0m 95.97   \u001b[0m | \u001b[0m 79.99   \u001b[0m | \u001b[0m 98.09   \u001b[0m | \u001b[0m 0.9962  \u001b[0m |\n",
            "| \u001b[0m 27      \u001b[0m | \u001b[0m 0.8514  \u001b[0m | \u001b[0m 66.05   \u001b[0m | \u001b[0m 60.11   \u001b[0m | \u001b[0m 78.2    \u001b[0m | \u001b[0m 0.992   \u001b[0m |\n",
            "| \u001b[0m 28      \u001b[0m | \u001b[0m 0.8531  \u001b[0m | \u001b[0m 57.14   \u001b[0m | \u001b[0m 23.47   \u001b[0m | \u001b[0m 99.34   \u001b[0m | \u001b[0m 0.989   \u001b[0m |\n",
            "| \u001b[0m 29      \u001b[0m | \u001b[0m 0.8511  \u001b[0m | \u001b[0m 97.21   \u001b[0m | \u001b[0m 43.55   \u001b[0m | \u001b[0m 75.27   \u001b[0m | \u001b[0m 0.9809  \u001b[0m |\n",
            "| \u001b[0m 30      \u001b[0m | \u001b[0m 0.8526  \u001b[0m | \u001b[0m 44.2    \u001b[0m | \u001b[0m 3.445   \u001b[0m | \u001b[0m 98.51   \u001b[0m | \u001b[0m 0.2085  \u001b[0m |\n",
            "=========================================================================\n"
          ],
          "name": "stdout"
        }
      ]
    },
    {
      "cell_type": "code",
      "metadata": {
        "id": "sgFLf6uRJfXV",
        "colab_type": "code",
        "colab": {
          "base_uri": "https://localhost:8080/",
          "height": 34
        },
        "outputId": "251ecbe5-914c-478c-a1e0-d97db2f6967a"
      },
      "source": [
        "1 - rf_bo.max['target']"
      ],
      "execution_count": 49,
      "outputs": [
        {
          "output_type": "execute_result",
          "data": {
            "text/plain": [
              "0.14673339719488232"
            ]
          },
          "metadata": {
            "tags": []
          },
          "execution_count": 49
        }
      ]
    },
    {
      "cell_type": "code",
      "metadata": {
        "id": "X1Jt_TptJh-D",
        "colab_type": "code",
        "colab": {
          "base_uri": "https://localhost:8080/",
          "height": 338
        },
        "outputId": "55844858-959a-4184-fc26-c9222b1fe90e"
      },
      "source": [
        "plt.figure(figsize=(13,5))\n",
        "sns.lineplot(x=['0_origin','1_log_transfer','2_L1_&_L2','3_change_model','4_parameter_turning'], y=[1.36 ,0.19, 0.19, 0.14, 0.13])"
      ],
      "execution_count": 50,
      "outputs": [
        {
          "output_type": "execute_result",
          "data": {
            "text/plain": [
              "<matplotlib.axes._subplots.AxesSubplot at 0x7fb31d96f668>"
            ]
          },
          "metadata": {
            "tags": []
          },
          "execution_count": 50
        },
        {
          "output_type": "display_data",
          "data": {
            "image/png": "[encoded data removed]",
            "text/plain": [
              "<Figure size 936x360 with 1 Axes>"
            ]
          },
          "metadata": {
            "tags": []
          }
        }
      ]
    }
  ]
}