{
  "nbformat": 4,
  "nbformat_minor": 0,
  "metadata": {
    "colab": {
      "name": "Stacking.ipynb",
      "provenance": [],
      "collapsed_sections": []
    },
    "kernelspec": {
      "name": "python3",
      "display_name": "Python 3"
    },
    "accelerator": "TPU"
  },
  "cells": [
    {
      "cell_type": "markdown",
      "metadata": {
        "id": "TA7Vsujw0x1F",
        "colab_type": "text"
      },
      "source": [
        "# 模型融合\n",
        "简单加权融合:\n",
        "回归（分类概率）：\n",
        "\n",
        "算术平均融合（Arithmetic mean），\n",
        "\n",
        "几何平均融合（Geometric mean）；\n",
        "\n",
        "分类：\n",
        "投票（Voting)\n",
        "\n",
        "综合：排序融合(Rank averaging)，log融合\n",
        "\n",
        "stacking/blending:\n",
        "构建多层模型，并利用预测结果再拟合预测。\n",
        "\n",
        "boosting/bagging（在xgboost，Adaboost,GBDT中已经用到）:\n",
        "多树的提升方法"
      ]
    },
    {
      "cell_type": "markdown",
      "metadata": {
        "id": "FEveLKar1Mly",
        "colab_type": "text"
      },
      "source": [
        "# Stacking相关理论介绍\n",
        "\n",
        "1.   什么是stacking\n",
        "\n",
        "简单来说stacking就是当用初始训练数据学习出若干个基学习器后，将这几个学习器的结果作为新的训练集，来学习一个新的学习器。\n",
        "\n",
        "将个体学习器结合在一起的时候使用的方法叫做结合策略，对于分类问题，我们可以使用投票法来选择输出最多的类，对于回归问题，我们可以将分类器输出的结果求平均值。\n",
        "\n",
        "上面说的投票法和平均法都是很有效的结合策略，还有一种结合策略是使用另外一个机器学习算法来将个体机器学习器的结果结合在一起，这个方法就是stacking\n",
        "\n",
        "在stacking方法中，我们把个体学习器叫做初级学习器，用于结合的学习器叫做次级学习器或者元学习器（meta-learner）次级学习器用于训练的数据叫做次级训练集，次级训练集是在训练集上用初级学习器得到的\n",
        "\n",
        "2.   如何进行stacking\n",
        "\n",
        "算法示意图如下\n",
        "\n",
        "![替代文字](http://jupter-oss.oss-cn-hangzhou.aliyuncs.com/public/files/image/2326541042/1584448806789_1ElRtHaacw.jpg)\n",
        "\n",
        "\n",
        "\n",
        "*   过程1-3是训练出来的个体学习器，也就是初级学习器\n",
        "*   过程5-9是使用训练出来的个体学习器来得预测的结果，这个预测的结果当错次级学习器的训练集。\n",
        "*   过程11是使用初级学习器预测的结果训练出次级学习器，得到我们最后训练的模型。\n",
        "\n",
        "3.   Stacking的方法讲解\n",
        "\n",
        "首先我们以一种简单但‘不那么正确的’Stacking方法说起。\n",
        "\n",
        "Stacking模型的本质是一种分层的结构，这里简单起见，只分析二级stacking。\n",
        "\n",
        "假设我们有两个基模型 Model_1, Model_2 和一个次级模型Model2\n",
        "\n",
        "Step 1. 基模型 Model_1, 对训练集train训练，然后用于预测train和test的标签列，分别是P1，T1\n",
        "\n",
        "$\\left(\\begin{array}{c}{\\vdots} \\\\ {X_{train}} \\\\ {\\vdots}\\end{array}\\right) \\overbrace{\\Longrightarrow}^{\\text {Model1_1 Train} }\\left(\\begin{array}{c}{\\vdots} \\\\ {Y}_{True} \\\\ {\\vdots}\\end{array}\\right)$\n",
        "\n",
        "训练后的模型 Model1_1 分别在train和test上预测，得到预测标签分别为P1，T1\n",
        "\n",
        "$\\left(\\begin{array}{c}{\\vdots} \\\\ {X_{train}} \\\\ {\\vdots}\\end{array}\\right) \\overbrace{\\Longrightarrow}^{\\text {Model1_1 Predict} }\\left(\\begin{array}{c}{\\vdots} \\\\ {P}_{1} \\\\ {\\vdots}\\end{array}\\right)$\n",
        "\n",
        "$\\left(\\begin{array}{c}{\\vdots} \\\\ {X_{test}} \\\\ {\\vdots}\\end{array}\\right) \\overbrace{\\Longrightarrow}^{\\text {Model1_1 Predict} }\\left(\\begin{array}{c}{\\vdots} \\\\ {T_{1}} \\\\ {\\vdots}\\end{array}\\right)$\n",
        "\n",
        "Step 2. 基模型 Model1_2 对训练集train训练，然后用于预测train和test的标签列，分别是P2，T2。\n",
        "\n",
        "model1_2 模型训练：\n",
        "\n",
        "$\\left(\\begin{array}{c}{\\vdots} \\\\ {X_{train}} \\\\ {\\vdots}\\end{array}\\right) \\overbrace{\\Longrightarrow}^{\\text {Model1_2 Train} }\\left(\\begin{array}{c}{\\vdots} \\\\ {Y}_{True} \\\\ {\\vdots}\\end{array}\\right)$\n",
        "\n",
        "训练后的模型 Model1_2 分别在train和test上预测，得到预测结果分别是P2，T2\n",
        "\n",
        "$\\left(\\begin{array}{c}{\\vdots} \\\\ {X_{train}} \\\\ {\\vdots}\\end{array}\\right) \\overbrace{\\Longrightarrow}^{\\text {Model1_2 Predict} }\\left(\\begin{array}{c}{\\vdots} \\\\ {P}_{2} \\\\ {\\vdots}\\end{array}\\right)$\n",
        "\n",
        "$\\left(\\begin{array}{c}{\\vdots} \\\\ {X_{test}} \\\\ {\\vdots}\\end{array}\\right) \\overbrace{\\Longrightarrow}^{\\text {Model1_2 Predict} }\\left(\\begin{array}{c}{\\vdots} \\\\ {T_{2}} \\\\ {\\vdots}\\end{array}\\right)$\n",
        "\n",
        "Step 3. 分别把P1，P2以及T1，T2合并，得到一个新的训练集合测试集train2，test2\n",
        "\n",
        "$\\overbrace{\\left(\\begin{array}{c}{\\vdots} \\\\ {P_{1}} \\\\ {\\vdots}\\end{array} \\begin{array}{c}{\\vdots} \\\\ {P_{2}} \\\\ {\\vdots}\\end{array} \\right)}^{\\text {Train_2 }}  \n",
        "and \n",
        "\\overbrace{\\left(\\begin{array}{c}{\\vdots} \\\\ {T_{1}} \\\\ {\\vdots}\\end{array} \\begin{array}{c}{\\vdots} \\\\ {T_{2}} \\\\ {\\vdots}\\end{array} \\right)}^{\\text {Test_2 }}$\n",
        "\n",
        "再用 次级模型 Model2 以真实训练集标签为标签训练,以train2为特征进行训练，预测test2,得到最终的测试集预测的标签列 Ypre\n",
        "\n",
        "$\\overbrace{\\left(\\begin{array}{c}{\\vdots} \\\\ {P_{1}} \\\\ {\\vdots}\\end{array} \\begin{array}{c}{\\vdots} \\\\ {P_{2}} \\\\ {\\vdots}\\end{array} \\right)}^{\\text {Train_2 }} \\overbrace{\\Longrightarrow}^{\\text {Model2 Train} }\\left(\\begin{array}{c}{\\vdots} \\\\ {Y}_{True} \\\\ {\\vdots}\\end{array}\\right)$\n",
        "\n",
        "$\\overbrace{\\left(\\begin{array}{c}{\\vdots} \\\\ {T_{1}} \\\\ {\\vdots}\\end{array} \\begin{array}{c}{\\vdots} \\\\ {T_{2}} \\\\ {\\vdots}\\end{array} \\right)}^{\\text {Test_2 }} \\overbrace{\\Longrightarrow}^{\\text {Model1_2 Predict} }\\left(\\begin{array}{c}{\\vdots} \\\\ {Y}_{Pre} \\\\ {\\vdots}\\end{array}\\right)$\n",
        "\n",
        "这就是我们两层堆叠的一种基本的原始思路想法。在不同模型预测的结果基础上再加一层模型，进行再训练，从而得到模型最终的预测。\n",
        "\n",
        "Stacking本质上就是这么直接的思路，但是直接这样有时对于如果训练集和测试集分布不那么一致的情况下是有一点问题的，其问题在于用初始模型训练的标签再利用真实标签进行再训练，毫无疑问会导致一定的模型过拟合训练集，这样或许模型在测试集上的泛化能力或者说效果会有一定的下降，因此现在的问题变成了如何降低再训练的过拟合性，这里我们一般有两种方法。\n",
        "\n",
        "*  次级模型尽量选择简单的线性模型\n",
        "*  利用K折交叉验证\n",
        "\n",
        "K-折交叉验证，训练：\n",
        "\n",
        "![替代文字](http://jupter-oss.oss-cn-hangzhou.aliyuncs.com/public/files/image/2326541042/1584448819632_YvJOXMk02P.jpg)\n",
        "\n",
        "预测\n",
        "\n",
        "![](http://jupter-oss.oss-cn-hangzhou.aliyuncs.com/public/files/image/2326541042/1584448826203_k8KPy9n7D9.jpg)\n",
        "\n"
      ]
    },
    {
      "cell_type": "markdown",
      "metadata": {
        "id": "NJ8DxcgfgaGO",
        "colab_type": "text"
      },
      "source": [
        "# 5.4 代码示例\n",
        "\n",
        "## 简单加权融合，结果直接融合"
      ]
    },
    {
      "cell_type": "code",
      "metadata": {
        "id": "bh_Quouo0nLk",
        "colab_type": "code",
        "colab": {}
      },
      "source": [
        "## 生成一些简单的样本数据，test_prei 代表第i个模型的预测值\n",
        "test_pre1 = [1.2, 3.2, 2.1, 6.2]\n",
        "test_pre2 = [0.9, 3.1, 2.0, 5.9]\n",
        "test_pre3 = [1.1, 2.9, 2.2, 6.0]\n",
        "\n",
        "# y_test_true 代表第模型的真实值\n",
        "y_test_true = [1, 3, 2, 6] "
      ],
      "execution_count": 0,
      "outputs": []
    },
    {
      "cell_type": "code",
      "metadata": {
        "id": "9xGEpsXsgqWy",
        "colab_type": "code",
        "colab": {}
      },
      "source": [
        "import numpy as np\n",
        "import pandas as pd\n",
        "\n",
        "## 定义结果的加权平均函数\n",
        "def Weighted_method(test_pre1,test_pre2,test_pre3,w=[1/3,1/3,1/3]):\n",
        "    Weighted_result = w[0]*pd.Series(test_pre1)+w[1]*pd.Series(test_pre2)+w[2]*pd.Series(test_pre3)\n",
        "    return Weighted_result"
      ],
      "execution_count": 0,
      "outputs": []
    },
    {
      "cell_type": "code",
      "metadata": {
        "id": "VVsMXgNHgsJu",
        "colab_type": "code",
        "colab": {
          "base_uri": "https://localhost:8080/",
          "height": 68
        },
        "outputId": "86f5880e-08e6-4680-8c29-c117a1c0f060"
      },
      "source": [
        "from sklearn import metrics\n",
        "# 各模型的预测结果计算MAE\n",
        "print('Pred1 MAE:',metrics.mean_absolute_error(y_test_true, test_pre1))\n",
        "print('Pred2 MAE:',metrics.mean_absolute_error(y_test_true, test_pre2))\n",
        "print('Pred3 MAE:',metrics.mean_absolute_error(y_test_true, test_pre3))"
      ],
      "execution_count": 20,
      "outputs": [
        {
          "output_type": "stream",
          "text": [
            "Pred1 MAE: 0.1750000000000001\n",
            "Pred2 MAE: 0.07499999999999993\n",
            "Pred3 MAE: 0.10000000000000009\n"
          ],
          "name": "stdout"
        }
      ]
    },
    {
      "cell_type": "code",
      "metadata": {
        "id": "g2MHGs-_gy6U",
        "colab_type": "code",
        "colab": {
          "base_uri": "https://localhost:8080/",
          "height": 34
        },
        "outputId": "4233898b-1dda-472c-c0b5-77b9c3c045c7"
      },
      "source": [
        "## 根据加权计算MAE\n",
        "w = [0.3,0.4,0.3] # 定义比重权值\n",
        "Weighted_pre = Weighted_method(test_pre1,test_pre2,test_pre3,w)\n",
        "print('Weighted_pre MAE:',metrics.mean_absolute_error(y_test_true, Weighted_pre))"
      ],
      "execution_count": 21,
      "outputs": [
        {
          "output_type": "stream",
          "text": [
            "Weighted_pre MAE: 0.05750000000000027\n"
          ],
          "name": "stdout"
        }
      ]
    },
    {
      "cell_type": "markdown",
      "metadata": {
        "id": "FU2cK875hR4v",
        "colab_type": "text"
      },
      "source": [
        "可以发现加权结果相对于之前的结果是有提升的，这种我们称其为简单的加权平均。"
      ]
    },
    {
      "cell_type": "markdown",
      "metadata": {
        "id": "zmq-PoKThU4w",
        "colab_type": "text"
      },
      "source": [
        "还有一些特殊的形式，比如mean平均，median平均"
      ]
    },
    {
      "cell_type": "code",
      "metadata": {
        "id": "0YOOAGaGg2i3",
        "colab_type": "code",
        "colab": {}
      },
      "source": [
        "## 定义结果的加权平均函数\n",
        "def Mean_method(test_pre1,test_pre2,test_pre3):\n",
        "    Mean_result = pd.concat([pd.Series(test_pre1),pd.Series(test_pre2),pd.Series(test_pre3)],axis=1).mean(axis=1)\n",
        "    return Mean_result"
      ],
      "execution_count": 0,
      "outputs": []
    },
    {
      "cell_type": "code",
      "metadata": {
        "id": "PvSkpA-nhXCQ",
        "colab_type": "code",
        "colab": {
          "base_uri": "https://localhost:8080/",
          "height": 34
        },
        "outputId": "4bb2a0a0-8e31-497d-c1db-51600b957dd4"
      },
      "source": [
        "Mean_pre = Mean_method(test_pre1,test_pre2,test_pre3)\n",
        "print('Mean_pre MAE:',metrics.mean_absolute_error(y_test_true, Mean_pre))"
      ],
      "execution_count": 23,
      "outputs": [
        {
          "output_type": "stream",
          "text": [
            "Mean_pre MAE: 0.06666666666666693\n"
          ],
          "name": "stdout"
        }
      ]
    },
    {
      "cell_type": "code",
      "metadata": {
        "id": "3VBWlAlKhbJv",
        "colab_type": "code",
        "colab": {}
      },
      "source": [
        "## 定义结果的加权平均函数\n",
        "def Median_method(test_pre1,test_pre2,test_pre3):\n",
        "    Median_result = pd.concat([pd.Series(test_pre1),pd.Series(test_pre2),pd.Series(test_pre3)],axis=1).median(axis=1)\n",
        "    return Median_result"
      ],
      "execution_count": 0,
      "outputs": []
    },
    {
      "cell_type": "code",
      "metadata": {
        "id": "QmJP8vGthh_w",
        "colab_type": "code",
        "colab": {
          "base_uri": "https://localhost:8080/",
          "height": 34
        },
        "outputId": "fad1b3de-4742-4d3b-f944-feb257018041"
      },
      "source": [
        "Median_pre = Median_method(test_pre1,test_pre2,test_pre3)\n",
        "print('Median_pre MAE:',metrics.mean_absolute_error(y_test_true, Median_pre))"
      ],
      "execution_count": 25,
      "outputs": [
        {
          "output_type": "stream",
          "text": [
            "Median_pre MAE: 0.07500000000000007\n"
          ],
          "name": "stdout"
        }
      ]
    },
    {
      "cell_type": "markdown",
      "metadata": {
        "id": "URiB5IGshopd",
        "colab_type": "text"
      },
      "source": [
        "## Stacking融合（回归）"
      ]
    },
    {
      "cell_type": "code",
      "metadata": {
        "id": "Vf_bQK6ihif5",
        "colab_type": "code",
        "colab": {}
      },
      "source": [
        "from sklearn import linear_model\n",
        "\n",
        "def Stacking_method(train_reg1,train_reg2,train_reg3,y_train_true,test_pre1,test_pre2,test_pre3,model_L2= linear_model.LinearRegression()):\n",
        "    model_L2.fit(pd.concat([pd.Series(train_reg1),pd.Series(train_reg2),pd.Series(train_reg3)],axis=1).values,y_train_true)\n",
        "    Stacking_result = model_L2.predict(pd.concat([pd.Series(test_pre1),pd.Series(test_pre2),pd.Series(test_pre3)],axis=1).values)\n",
        "    return Stacking_result\n",
        "    "
      ],
      "execution_count": 0,
      "outputs": []
    },
    {
      "cell_type": "code",
      "metadata": {
        "id": "gdWBB8sHhvET",
        "colab_type": "code",
        "colab": {}
      },
      "source": [
        "## 生成一些简单的样本数据，test_prei 代表第i个模型的预测值\n",
        "train_reg1 = [3.2, 8.2, 9.1, 5.2]\n",
        "train_reg2 = [2.9, 8.1, 9.0, 4.9]\n",
        "train_reg3 = [3.1, 7.9, 9.2, 5.0]\n",
        "# y_test_true 代表第模型的真实值\n",
        "y_train_true = [3, 8, 9, 5] \n",
        "\n",
        "test_pre1 = [1.2, 3.2, 2.1, 6.2]\n",
        "test_pre2 = [0.9, 3.1, 2.0, 5.9]\n",
        "test_pre3 = [1.1, 2.9, 2.2, 6.0]\n",
        "\n",
        "# y_test_true 代表第模型的真实值\n",
        "y_test_true = [1, 3, 2, 6] "
      ],
      "execution_count": 0,
      "outputs": []
    },
    {
      "cell_type": "code",
      "metadata": {
        "id": "QMHiC9eMiAZp",
        "colab_type": "code",
        "colab": {}
      },
      "source": [
        "model_L2= linear_model.LinearRegression()\n",
        "Stacking_pre = Stacking_method(train_reg1,train_reg2,train_reg3,y_train_true,\n",
        "                               test_pre1,test_pre2,test_pre3,model_L2)"
      ],
      "execution_count": 0,
      "outputs": []
    },
    {
      "cell_type": "code",
      "metadata": {
        "id": "FeSWlqH0iCT0",
        "colab_type": "code",
        "colab": {
          "base_uri": "https://localhost:8080/",
          "height": 34
        },
        "outputId": "545d4581-9a50-4be3-933b-aaac2b40833d"
      },
      "source": [
        "print('Stacking_pre MAE:',metrics.mean_absolute_error(y_test_true, Stacking_pre))"
      ],
      "execution_count": 29,
      "outputs": [
        {
          "output_type": "stream",
          "text": [
            "Stacking_pre MAE: 0.042134831460675204\n"
          ],
          "name": "stdout"
        }
      ]
    },
    {
      "cell_type": "markdown",
      "metadata": {
        "id": "l27fH8h5iW-9",
        "colab_type": "text"
      },
      "source": [
        "可以发现模型结果相对于之前有进一步的提升，这是我们需要注意的一点是，对于第二层Stacking的模型不宜选取的过于复杂，这样会导致模型在训练集上过拟合，从而使得在测试集上并不能达到很好的效果。"
      ]
    },
    {
      "cell_type": "markdown",
      "metadata": {
        "id": "n2XaHBGLid9I",
        "colab_type": "text"
      },
      "source": [
        "## 5.4.2 分类模型融合\n",
        "\n",
        "对于分类，同样的我们可以使用融合方法，比如简单投票，stacking"
      ]
    },
    {
      "cell_type": "code",
      "metadata": {
        "id": "krDLCt3TiEhn",
        "colab_type": "code",
        "colab": {}
      },
      "source": [
        "from sklearn.datasets import make_blobs\n",
        "from sklearn import datasets\n",
        "from sklearn.tree import DecisionTreeClassifier\n",
        "import numpy as np\n",
        "from sklearn.ensemble import RandomForestClassifier\n",
        "from sklearn.ensemble import VotingClassifier\n",
        "from xgboost import XGBClassifier\n",
        "from sklearn.linear_model import LogisticRegression\n",
        "from sklearn.svm import SVC\n",
        "from sklearn.model_selection import train_test_split\n",
        "from sklearn.datasets import make_moons\n",
        "from sklearn.metrics import accuracy_score,roc_auc_score\n",
        "from sklearn.model_selection import cross_val_score\n",
        "from sklearn.model_selection import StratifiedKFold"
      ],
      "execution_count": 0,
      "outputs": []
    },
    {
      "cell_type": "markdown",
      "metadata": {
        "id": "TjuPDpj0ioxy",
        "colab_type": "text"
      },
      "source": [
        "### voting 投票机制"
      ]
    },
    {
      "cell_type": "markdown",
      "metadata": {
        "id": "URpeSkSEiuAO",
        "colab_type": "text"
      },
      "source": [
        "Voting即投票机制，分为软投票和硬投票两种，其原理采用少数服从多数的思想。"
      ]
    },
    {
      "cell_type": "code",
      "metadata": {
        "id": "OPilxtD3immL",
        "colab_type": "code",
        "colab": {
          "base_uri": "https://localhost:8080/",
          "height": 85
        },
        "outputId": "2927153d-38c6-49fa-9f61-ffa205d7ae7f"
      },
      "source": [
        "'''\n",
        "硬投票：对多个模型直接进行投票，不区分模型结果的相对重要度，最终投票数最多的类为最终被预测的类。\n",
        "'''\n",
        "iris = datasets.load_iris()\n",
        "\n",
        "x=iris.data\n",
        "y=iris.target\n",
        "x_train,x_test,y_train,y_test=train_test_split(x,y,test_size=0.3)\n",
        "\n",
        "clf1 = XGBClassifier(\n",
        "    learning_rate=0.1, \n",
        "    n_estimators=150, \n",
        "    max_depth=3,\n",
        "    min_child_weight=2, \n",
        "    subsample=0.7,\n",
        "    colsample_bytree=0.6,\n",
        "    objective='binary:logistic'\n",
        ")\n",
        "clf2 = RandomForestClassifier(\n",
        "    n_estimators=50, \n",
        "    max_depth=1, \n",
        "    min_samples_split=4,\n",
        "    min_samples_leaf=63,oob_score=True\n",
        ")\n",
        "clf3 = SVC(C=0.1)\n",
        "\n",
        "# 硬投票\n",
        "eclf = VotingClassifier(\n",
        "    estimators=[('xgb', clf1), ('rf', clf2), ('svc', clf3)], \n",
        "    voting='hard'\n",
        ")\n",
        "for clf, label in zip([clf1, clf2, clf3, eclf], ['XGBBoosting', 'Random Forest', 'SVM', 'Ensemble']):\n",
        "    scores = cross_val_score(clf, x, y, cv=5, scoring='accuracy')\n",
        "    print(\"Accuracy: %0.2f (+/- %0.2f) [%s]\" % (scores.mean(), scores.std(), label))"
      ],
      "execution_count": 31,
      "outputs": [
        {
          "output_type": "stream",
          "text": [
            "Accuracy: 0.95 (+/- 0.03) [XGBBoosting]\n",
            "Accuracy: 0.33 (+/- 0.00) [Random Forest]\n",
            "Accuracy: 0.92 (+/- 0.03) [SVM]\n",
            "Accuracy: 0.94 (+/- 0.04) [Ensemble]\n"
          ],
          "name": "stdout"
        }
      ]
    },
    {
      "cell_type": "code",
      "metadata": {
        "id": "VOfsYVc6jGkY",
        "colab_type": "code",
        "colab": {
          "base_uri": "https://localhost:8080/",
          "height": 85
        },
        "outputId": "0ef67ddd-c91d-4f93-e1e7-2b3db6d2fc6f"
      },
      "source": [
        "'''\n",
        "软投票：和硬投票原理相同，增加了设置权重的功能，可以为不同模型设置不同权重，进而区别模型不同的重要度。\n",
        "'''\n",
        "x=iris.data\n",
        "y=iris.target\n",
        "x_train,x_test,y_train,y_test=train_test_split(x,y,test_size=0.3)\n",
        "\n",
        "clf1 = XGBClassifier(learning_rate=0.1, n_estimators=150, max_depth=3, min_child_weight=2, subsample=0.8,\n",
        "                     colsample_bytree=0.8, objective='binary:logistic')\n",
        "clf2 = RandomForestClassifier(n_estimators=50, max_depth=1, min_samples_split=4,\n",
        "                              min_samples_leaf=63,oob_score=True)\n",
        "clf3 = SVC(C=0.1, probability=True)\n",
        "\n",
        "# 软投票\n",
        "eclf = VotingClassifier(estimators=[('xgb', clf1), ('rf', clf2), ('svc', clf3)], voting='soft', weights=[2, 1, 1])\n",
        "clf1.fit(x_train, y_train)\n",
        "\n",
        "for clf, label in zip([clf1, clf2, clf3, eclf], ['XGBBoosting', 'Random Forest', 'SVM', 'Ensemble']):\n",
        "    scores = cross_val_score(clf, x, y, cv=5, scoring='accuracy')\n",
        "    print(\"Accuracy: %0.2f (+/- %0.2f) [%s]\" % (scores.mean(), scores.std(), label))"
      ],
      "execution_count": 32,
      "outputs": [
        {
          "output_type": "stream",
          "text": [
            "Accuracy: 0.96 (+/- 0.02) [XGBBoosting]\n",
            "Accuracy: 0.33 (+/- 0.00) [Random Forest]\n",
            "Accuracy: 0.92 (+/- 0.03) [SVM]\n",
            "Accuracy: 0.96 (+/- 0.02) [Ensemble]\n"
          ],
          "name": "stdout"
        }
      ]
    },
    {
      "cell_type": "markdown",
      "metadata": {
        "id": "0suwVgDCj1QM",
        "colab_type": "text"
      },
      "source": [
        "### 分类的Stacking、Blending融合"
      ]
    },
    {
      "cell_type": "markdown",
      "metadata": {
        "id": "MYFcztC9j6dt",
        "colab_type": "text"
      },
      "source": [
        "stacking是一种分层模型集成框架。\n",
        "\n",
        "以两层为例，第一层由多个基学习器组成，其输入为原始训练集，第二层的模型则是以第一层基学习器的输出作为训练集进行再训练，从而得到完整的stacking模型, stacking两层模型都使用了全部的训练数据。"
      ]
    },
    {
      "cell_type": "code",
      "metadata": {
        "id": "yCVNfIgvjtNg",
        "colab_type": "code",
        "colab": {
          "base_uri": "https://localhost:8080/",
          "height": 119
        },
        "outputId": "de922617-8995-43f3-defb-d37b63d1babb"
      },
      "source": [
        "'''\n",
        "5-Fold Stacking\n",
        "'''\n",
        "from sklearn.ensemble import RandomForestClassifier\n",
        "from sklearn.ensemble import ExtraTreesClassifier,GradientBoostingClassifier\n",
        "import pandas as pd\n",
        "#创建训练的数据集\n",
        "data_0 = iris.data\n",
        "data = data_0[:100,:]\n",
        "\n",
        "target_0 = iris.target\n",
        "target = target_0[:100]\n",
        "\n",
        "#模型融合中使用到的各个单模型\n",
        "clfs = [LogisticRegression(solver='lbfgs'),\n",
        "        RandomForestClassifier(n_estimators=5, n_jobs=-1, criterion='gini'),\n",
        "        ExtraTreesClassifier(n_estimators=5, n_jobs=-1, criterion='gini'),\n",
        "        ExtraTreesClassifier(n_estimators=5, n_jobs=-1, criterion='entropy'),\n",
        "        GradientBoostingClassifier(learning_rate=0.05, subsample=0.5, max_depth=6, n_estimators=5)]\n",
        " \n",
        "#切分一部分数据作为测试集\n",
        "X, X_predict, y, y_predict = train_test_split(data, target, test_size=0.3, random_state=2020)\n",
        "\n",
        "dataset_blend_train = np.zeros((X.shape[0], len(clfs)))\n",
        "dataset_blend_test = np.zeros((X_predict.shape[0], len(clfs)))\n",
        "\n",
        "#5折stacking\n",
        "n_splits = 5\n",
        "skf = StratifiedKFold(n_splits)\n",
        "skf = skf.split(X, y)\n",
        "\n",
        "for j, clf in enumerate(clfs):\n",
        "    #依次训练各个单模型\n",
        "    dataset_blend_test_j = np.zeros((X_predict.shape[0], len(clfs)))\n",
        "    for i, (train, test) in enumerate(skf):\n",
        "        #5-Fold交叉训练，使用第i个部分作为预测，剩余的部分来训练模型，获得其预测的输出作为第i部分的新特征。\n",
        "        X_train, y_train, X_test, y_test = X[train], y[train], X[test], y[test]\n",
        "        clf.fit(X_train, y_train)\n",
        "        y_submission = clf.predict_proba(X_test)[:, 1]\n",
        "        dataset_blend_train[test, j] = y_submission\n",
        "        dataset_blend_test_j[:, i] = clf.predict_proba(X_predict)[:, 1]\n",
        "    #对于测试集，直接用这k个模型的预测值均值作为新的特征。\n",
        "    dataset_blend_test[:, j] = dataset_blend_test_j.mean(1)\n",
        "    print(\"val auc Score: %f\" % roc_auc_score(y_predict, dataset_blend_test[:, j]))\n",
        "\n",
        "clf = LogisticRegression(solver='lbfgs')\n",
        "clf.fit(dataset_blend_train, y)\n",
        "y_submission = clf.predict_proba(dataset_blend_test)[:, 1]\n",
        "\n",
        "print(\"Val auc Score of Stacking: %f\" % (roc_auc_score(y_predict, y_submission)))\n",
        "\n"
      ],
      "execution_count": 33,
      "outputs": [
        {
          "output_type": "stream",
          "text": [
            "val auc Score: 1.000000\n",
            "val auc Score: 0.500000\n",
            "val auc Score: 0.500000\n",
            "val auc Score: 0.500000\n",
            "val auc Score: 0.500000\n",
            "Val auc Score of Stacking: 1.000000\n"
          ],
          "name": "stdout"
        }
      ]
    },
    {
      "cell_type": "markdown",
      "metadata": {
        "id": "15EERYIVlaoN",
        "colab_type": "text"
      },
      "source": [
        "Blending，其实和Stacking是一种类似的多层模型融合的形式\n",
        "\n",
        "其主要思路是把原始的训练集先分成两部分，比如70%的数据作为新的训练集，剩下30%的数据作为测试集。\n",
        "\n",
        "在第一层，我们在这70%的数据上训练多个模型，然后去预测那30%数据的label，同时也预测test集的label。\n",
        "\n",
        "在第二层，我们就直接用这30%数据在第一层预测的结果做为新特征继续训练，然后用test集第一层预测的label做特征，用第二层训练的模型做进一步预测\n",
        "\n",
        "其优点在于：\n",
        "\n",
        "1.比stacking简单（因为不用进行k次的交叉验证来获得stacker feature）\n",
        "2.避开了一个信息泄露问题：generlizers和stacker使用了不一样的数据集\n",
        "缺点在于：\n",
        "\n",
        "1.使用了很少的数据（第二阶段的blender只使用training set10%的量）\n",
        "2.blender可能会过拟合\n",
        "3.stacking使用多次的交叉验证会比较稳健 ''"
      ]
    },
    {
      "cell_type": "code",
      "metadata": {
        "id": "0siVuEx2kiZG",
        "colab_type": "code",
        "colab": {
          "base_uri": "https://localhost:8080/",
          "height": 119
        },
        "outputId": "82e5c6fd-263e-4823-8e18-7a862b2acfc5"
      },
      "source": [
        "'''\n",
        "Blending\n",
        "'''\n",
        " \n",
        "#创建训练的数据集\n",
        "#创建训练的数据集\n",
        "data_0 = iris.data\n",
        "data = data_0[:100,:]\n",
        "\n",
        "target_0 = iris.target\n",
        "target = target_0[:100]\n",
        " \n",
        "#模型融合中使用到的各个单模型\n",
        "clfs = [LogisticRegression(solver='lbfgs'),\n",
        "        RandomForestClassifier(n_estimators=5, n_jobs=-1, criterion='gini'),\n",
        "        RandomForestClassifier(n_estimators=5, n_jobs=-1, criterion='entropy'),\n",
        "        ExtraTreesClassifier(n_estimators=5, n_jobs=-1, criterion='gini'),\n",
        "        #ExtraTreesClassifier(n_estimators=5, n_jobs=-1, criterion='entropy'),\n",
        "        GradientBoostingClassifier(learning_rate=0.05, subsample=0.5, max_depth=6, n_estimators=5)]\n",
        " \n",
        "#切分一部分数据作为测试集\n",
        "X, X_predict, y, y_predict = train_test_split(data, target, test_size=0.3, random_state=2020)\n",
        "\n",
        "#切分训练数据集为d1,d2两部分\n",
        "X_d1, X_d2, y_d1, y_d2 = train_test_split(X, y, test_size=0.5, random_state=2020)\n",
        "dataset_d1 = np.zeros((X_d2.shape[0], len(clfs)))\n",
        "dataset_d2 = np.zeros((X_predict.shape[0], len(clfs)))\n",
        " \n",
        "for j, clf in enumerate(clfs):\n",
        "    #依次训练各个单模型\n",
        "    clf.fit(X_d1, y_d1)\n",
        "    y_submission = clf.predict_proba(X_d2)[:, 1]\n",
        "    dataset_d1[:, j] = y_submission\n",
        "    #对于测试集，直接用这k个模型的预测值作为新的特征。\n",
        "    dataset_d2[:, j] = clf.predict_proba(X_predict)[:, 1]\n",
        "    print(\"val auc Score: %f\" % roc_auc_score(y_predict, dataset_d2[:, j]))\n",
        "\n",
        "#融合使用的模型\n",
        "clf = GradientBoostingClassifier(learning_rate=0.02, subsample=0.5, max_depth=6, n_estimators=30)\n",
        "clf.fit(dataset_d1, y_d2)\n",
        "y_submission = clf.predict_proba(dataset_d2)[:, 1]\n",
        "print(\"Val auc Score of Blending: %f\" % (roc_auc_score(y_predict, y_submission)))"
      ],
      "execution_count": 34,
      "outputs": [
        {
          "output_type": "stream",
          "text": [
            "val auc Score: 1.000000\n",
            "val auc Score: 1.000000\n",
            "val auc Score: 1.000000\n",
            "val auc Score: 1.000000\n",
            "val auc Score: 1.000000\n",
            "Val auc Score of Blending: 1.000000\n"
          ],
          "name": "stdout"
        }
      ]
    },
    {
      "cell_type": "markdown",
      "metadata": {
        "id": "fIHSqcmolhBC",
        "colab_type": "text"
      },
      "source": [
        "参考博客：https://blog.csdn.net/Noob_daniel/article/details/76087829"
      ]
    },
    {
      "cell_type": "markdown",
      "metadata": {
        "id": "DtxMAZbVliqZ",
        "colab_type": "text"
      },
      "source": [
        "### 分类的stacking融合 利用mlxtend"
      ]
    },
    {
      "cell_type": "code",
      "metadata": {
        "id": "VOIz-GVwlejQ",
        "colab_type": "code",
        "colab": {
          "base_uri": "https://localhost:8080/",
          "height": 567
        },
        "outputId": "2256b60b-a499-4ade-d27f-952fc66957a3"
      },
      "source": [
        "import warnings\n",
        "warnings.filterwarnings('ignore')\n",
        "import itertools\n",
        "import numpy as np\n",
        "import seaborn as sns\n",
        "import matplotlib.pyplot as plt\n",
        "import matplotlib.gridspec as gridspec\n",
        "\n",
        "from sklearn import datasets\n",
        "from sklearn.linear_model import LogisticRegression\n",
        "from sklearn.neighbors import KNeighborsClassifier\n",
        "from sklearn.naive_bayes import GaussianNB \n",
        "from sklearn.ensemble import RandomForestClassifier\n",
        "from mlxtend.classifier import StackingClassifier\n",
        "\n",
        "from sklearn.model_selection import cross_val_score\n",
        "from mlxtend.plotting import plot_learning_curves\n",
        "from mlxtend.plotting import plot_decision_regions\n",
        "\n",
        "# 以python自带的鸢尾花数据集为例\n",
        "iris = datasets.load_iris()\n",
        "X, y = iris.data[:, 1:3], iris.target\n",
        "\n",
        "clf1 = KNeighborsClassifier(n_neighbors=1)\n",
        "clf2 = RandomForestClassifier(random_state=1)\n",
        "clf3 = GaussianNB()\n",
        "lr = LogisticRegression()\n",
        "sclf = StackingClassifier(classifiers=[clf1, clf2, clf3], \n",
        "                          meta_classifier=lr)\n",
        "\n",
        "label = ['KNN', 'Random Forest', 'Naive Bayes', 'Stacking Classifier']\n",
        "clf_list = [clf1, clf2, clf3, sclf]\n",
        "\n",
        "fig = plt.figure(figsize=(10,8))\n",
        "gs = gridspec.GridSpec(2, 2)\n",
        "grid = itertools.product([0,1],repeat=2)\n",
        "\n",
        "clf_cv_mean = []\n",
        "clf_cv_std = []\n",
        "for clf, label, grd in zip(clf_list, label, grid):\n",
        "        \n",
        "    scores = cross_val_score(clf, X, y, cv=3, scoring='accuracy')\n",
        "    print(\"Accuracy: %.2f (+/- %.2f) [%s]\" %(scores.mean(), scores.std(), label))\n",
        "    clf_cv_mean.append(scores.mean())\n",
        "    clf_cv_std.append(scores.std())\n",
        "        \n",
        "    clf.fit(X, y)\n",
        "    ax = plt.subplot(gs[grd[0], grd[1]])\n",
        "    fig = plot_decision_regions(X=X, y=y, clf=clf)\n",
        "    plt.title(label)\n",
        "\n",
        "plt.show()"
      ],
      "execution_count": 35,
      "outputs": [
        {
          "output_type": "stream",
          "text": [
            "Accuracy: 0.91 (+/- 0.01) [KNN]\n",
            "Accuracy: 0.95 (+/- 0.01) [Random Forest]\n",
            "Accuracy: 0.91 (+/- 0.02) [Naive Bayes]\n",
            "Accuracy: 0.95 (+/- 0.02) [Stacking Classifier]\n"
          ],
          "name": "stdout"
        },
        {
          "output_type": "display_data",
          "data": {
            "image/png": "[encoded data removed]",
            "text/plain": [
              "<Figure size 720x576 with 4 Axes>"
            ]
          },
          "metadata": {
            "tags": []
          }
        }
      ]
    },
    {
      "cell_type": "markdown",
      "metadata": {
        "id": "VCivObBAlrb1",
        "colab_type": "text"
      },
      "source": [
        "## 一些其他方法\n",
        "\n",
        "**将特征放进模型中预测，并将预测结果变换并作为新的特征加入原有特征中再经过模型预测结果（Stacking变化）**\n",
        "\n",
        "（可以反复预测多次将结果加入最后的特征中）"
      ]
    },
    {
      "cell_type": "code",
      "metadata": {
        "id": "rvGBxThAlpLb",
        "colab_type": "code",
        "colab": {}
      },
      "source": [
        "def Ensemble_add_feature(train,test,target,clfs):\n",
        "    \n",
        "    # n_flods = 5\n",
        "    # skf = list(StratifiedKFold(y, n_folds=n_flods))\n",
        "\n",
        "    train_ = np.zeros((train.shape[0],len(clfs*2)))\n",
        "    test_ = np.zeros((test.shape[0],len(clfs*2)))\n",
        "\n",
        "    for j,clf in enumerate(clfs):\n",
        "        '''依次训练各个单模型'''\n",
        "        # print(j, clf)\n",
        "        '''使用第1个部分作为预测，第2部分来训练模型，获得其预测的输出作为第2部分的新特征。'''\n",
        "        # X_train, y_train, X_test, y_test = X[train], y[train], X[test], y[test]\n",
        "\n",
        "        clf.fit(train,target)\n",
        "        y_train = clf.predict(train)\n",
        "        y_test = clf.predict(test)\n",
        "\n",
        "        ## 新特征生成\n",
        "        train_[:,j*2] = y_train**2\n",
        "        test_[:,j*2] = y_test**2\n",
        "        train_[:, j+1] = np.exp(y_train)\n",
        "        test_[:, j+1] = np.exp(y_test)\n",
        "        # print(\"val auc Score: %f\" % r2_score(y_predict, dataset_d2[:, j]))\n",
        "        print('Method ',j)\n",
        "    \n",
        "    train_ = pd.DataFrame(train_)\n",
        "    test_ = pd.DataFrame(test_)\n",
        "    return train_,test_\n",
        "\n"
      ],
      "execution_count": 0,
      "outputs": []
    },
    {
      "cell_type": "code",
      "metadata": {
        "id": "6WI9P8uPmBWx",
        "colab_type": "code",
        "colab": {
          "base_uri": "https://localhost:8080/",
          "height": 119
        },
        "outputId": "fade8fb8-4380-425d-d24a-4d938dbb9d0d"
      },
      "source": [
        "from sklearn.model_selection import cross_val_score, train_test_split\n",
        "from sklearn.linear_model import LogisticRegression\n",
        "clf = LogisticRegression()\n",
        "\n",
        "data_0 = iris.data\n",
        "data = data_0[:100,:]\n",
        "\n",
        "target_0 = iris.target\n",
        "target = target_0[:100]\n",
        "\n",
        "x_train,x_test,y_train,y_test=train_test_split(data,target,test_size=0.3)\n",
        "x_train = pd.DataFrame(x_train) ; x_test = pd.DataFrame(x_test)\n",
        "\n",
        "#模型融合中使用到的各个单模型\n",
        "clfs = [LogisticRegression(),\n",
        "        RandomForestClassifier(n_estimators=5, n_jobs=-1, criterion='gini'),\n",
        "        ExtraTreesClassifier(n_estimators=5, n_jobs=-1, criterion='gini'),\n",
        "        ExtraTreesClassifier(n_estimators=5, n_jobs=-1, criterion='entropy'),\n",
        "        GradientBoostingClassifier(learning_rate=0.05, subsample=0.5, max_depth=6, n_estimators=5)]\n",
        "\n",
        "New_train,New_test = Ensemble_add_feature(x_train,x_test,y_train,clfs)\n",
        "\n",
        "clf = LogisticRegression()\n",
        "# clf = GradientBoostingClassifier(learning_rate=0.02, subsample=0.5, max_depth=6, n_estimators=30)\n",
        "clf.fit(New_train, y_train)\n",
        "y_emb = clf.predict_proba(New_test)[:, 1]\n",
        "\n",
        "print(\"Val auc Score of stacking: %f\" % (roc_auc_score(y_test, y_emb)))"
      ],
      "execution_count": 37,
      "outputs": [
        {
          "output_type": "stream",
          "text": [
            "Method  0\n",
            "Method  1\n",
            "Method  2\n",
            "Method  3\n",
            "Method  4\n",
            "Val auc Score of stacking: 1.000000\n"
          ],
          "name": "stdout"
        }
      ]
    },
    {
      "cell_type": "markdown",
      "metadata": {
        "id": "fPakCybBmE-y",
        "colab_type": "text"
      },
      "source": [
        "# 赛题示例"
      ]
    },
    {
      "cell_type": "code",
      "metadata": {
        "id": "D09zee7jmD0x",
        "colab_type": "code",
        "colab": {}
      },
      "source": [
        "import pandas as pd\n",
        "import numpy as np\n",
        "import warnings\n",
        "import matplotlib\n",
        "import matplotlib.pyplot as plt\n",
        "import seaborn as sns\n",
        "\n",
        "warnings.filterwarnings('ignore')\n",
        "%matplotlib inline\n",
        "\n",
        "import itertools\n",
        "import matplotlib.gridspec as gridspec\n",
        "from sklearn import datasets\n",
        "from sklearn.linear_model import LogisticRegression\n",
        "from sklearn.neighbors import KNeighborsClassifier\n",
        "from sklearn.naive_bayes import GaussianNB \n",
        "from sklearn.ensemble import RandomForestClassifier\n",
        "# from mlxtend.classifier import StackingClassifier\n",
        "from sklearn.model_selection import cross_val_score, train_test_split\n",
        "# from mlxtend.plotting import plot_learning_curves\n",
        "# from mlxtend.plotting import plot_decision_regions\n",
        "\n",
        "from sklearn.model_selection import StratifiedKFold\n",
        "from sklearn.model_selection import train_test_split\n",
        "\n",
        "from sklearn import linear_model\n",
        "from sklearn import preprocessing\n",
        "from sklearn.svm import SVR\n",
        "from sklearn.decomposition import PCA,FastICA,FactorAnalysis,SparsePCA\n",
        "\n",
        "import lightgbm as lgb\n",
        "import xgboost as xgb\n",
        "from sklearn.model_selection import GridSearchCV,cross_val_score\n",
        "from sklearn.ensemble import RandomForestRegressor,GradientBoostingRegressor\n",
        "\n",
        "from sklearn.metrics import mean_squared_error, mean_absolute_error"
      ],
      "execution_count": 0,
      "outputs": []
    },
    {
      "cell_type": "code",
      "metadata": {
        "id": "iFXyQMfemKaO",
        "colab_type": "code",
        "colab": {
          "base_uri": "https://localhost:8080/",
          "height": 51
        },
        "outputId": "46aef26a-c95c-4059-9c62-4c2fd0bd35a0"
      },
      "source": [
        "#数据读取\n",
        "Train_data = pd.read_csv('/content/drive/My Drive/Tianchi/used_car_train_20200313.csv', sep = ' ')\n",
        "TestA_data = pd.read_csv('/content/drive/My Drive/Tianchi/used_car_testA_20200313.csv', sep = ' ')\n",
        "\n",
        "print(Train_data.shape)\n",
        "print(TestA_data.shape)"
      ],
      "execution_count": 39,
      "outputs": [
        {
          "output_type": "stream",
          "text": [
            "(150000, 31)\n",
            "(50000, 30)\n"
          ],
          "name": "stdout"
        }
      ]
    },
    {
      "cell_type": "code",
      "metadata": {
        "id": "4KV8fzl3mc1q",
        "colab_type": "code",
        "colab": {
          "base_uri": "https://localhost:8080/",
          "height": 224
        },
        "outputId": "e0e1315f-f1af-4a64-f3da-c92c810e21bf"
      },
      "source": [
        "Train_data.head()"
      ],
      "execution_count": 40,
      "outputs": [
        {
          "output_type": "execute_result",
          "data": {
            "text/html": [
              "<div>\n",
              "<style scoped>\n",
              "    .dataframe tbody tr th:only-of-type {\n",
              "        vertical-align: middle;\n",
              "    }\n",
              "\n",
              "    .dataframe tbody tr th {\n",
              "        vertical-align: top;\n",
              "    }\n",
              "\n",
              "    .dataframe thead th {\n",
              "        text-align: right;\n",
              "    }\n",
              "</style>\n",
              "<table border=\"1\" class=\"dataframe\">\n",
              "  <thead>\n",
              "    <tr style=\"text-align: right;\">\n",
              "      <th></th>\n",
              "      <th>SaleID</th>\n",
              "      <th>name</th>\n",
              "      <th>regDate</th>\n",
              "      <th>model</th>\n",
              "      <th>brand</th>\n",
              "      <th>bodyType</th>\n",
              "      <th>fuelType</th>\n",
              "      <th>gearbox</th>\n",
              "      <th>power</th>\n",
              "      <th>kilometer</th>\n",
              "      <th>notRepairedDamage</th>\n",
              "      <th>regionCode</th>\n",
              "      <th>seller</th>\n",
              "      <th>offerType</th>\n",
              "      <th>creatDate</th>\n",
              "      <th>price</th>\n",
              "      <th>v_0</th>\n",
              "      <th>v_1</th>\n",
              "      <th>v_2</th>\n",
              "      <th>v_3</th>\n",
              "      <th>v_4</th>\n",
              "      <th>v_5</th>\n",
              "      <th>v_6</th>\n",
              "      <th>v_7</th>\n",
              "      <th>v_8</th>\n",
              "      <th>v_9</th>\n",
              "      <th>v_10</th>\n",
              "      <th>v_11</th>\n",
              "      <th>v_12</th>\n",
              "      <th>v_13</th>\n",
              "      <th>v_14</th>\n",
              "    </tr>\n",
              "  </thead>\n",
              "  <tbody>\n",
              "    <tr>\n",
              "      <th>0</th>\n",
              "      <td>0</td>\n",
              "      <td>736</td>\n",
              "      <td>20040402</td>\n",
              "      <td>30.0</td>\n",
              "      <td>6</td>\n",
              "      <td>1.0</td>\n",
              "      <td>0.0</td>\n",
              "      <td>0.0</td>\n",
              "      <td>60</td>\n",
              "      <td>12.5</td>\n",
              "      <td>0.0</td>\n",
              "      <td>1046</td>\n",
              "      <td>0</td>\n",
              "      <td>0</td>\n",
              "      <td>20160404</td>\n",
              "      <td>1850</td>\n",
              "      <td>43.357796</td>\n",
              "      <td>3.966344</td>\n",
              "      <td>0.050257</td>\n",
              "      <td>2.159744</td>\n",
              "      <td>1.143786</td>\n",
              "      <td>0.235676</td>\n",
              "      <td>0.101988</td>\n",
              "      <td>0.129549</td>\n",
              "      <td>0.022816</td>\n",
              "      <td>0.097462</td>\n",
              "      <td>-2.881803</td>\n",
              "      <td>2.804097</td>\n",
              "      <td>-2.420821</td>\n",
              "      <td>0.795292</td>\n",
              "      <td>0.914762</td>\n",
              "    </tr>\n",
              "    <tr>\n",
              "      <th>1</th>\n",
              "      <td>1</td>\n",
              "      <td>2262</td>\n",
              "      <td>20030301</td>\n",
              "      <td>40.0</td>\n",
              "      <td>1</td>\n",
              "      <td>2.0</td>\n",
              "      <td>0.0</td>\n",
              "      <td>0.0</td>\n",
              "      <td>0</td>\n",
              "      <td>15.0</td>\n",
              "      <td>-</td>\n",
              "      <td>4366</td>\n",
              "      <td>0</td>\n",
              "      <td>0</td>\n",
              "      <td>20160309</td>\n",
              "      <td>3600</td>\n",
              "      <td>45.305273</td>\n",
              "      <td>5.236112</td>\n",
              "      <td>0.137925</td>\n",
              "      <td>1.380657</td>\n",
              "      <td>-1.422165</td>\n",
              "      <td>0.264777</td>\n",
              "      <td>0.121004</td>\n",
              "      <td>0.135731</td>\n",
              "      <td>0.026597</td>\n",
              "      <td>0.020582</td>\n",
              "      <td>-4.900482</td>\n",
              "      <td>2.096338</td>\n",
              "      <td>-1.030483</td>\n",
              "      <td>-1.722674</td>\n",
              "      <td>0.245522</td>\n",
              "    </tr>\n",
              "    <tr>\n",
              "      <th>2</th>\n",
              "      <td>2</td>\n",
              "      <td>14874</td>\n",
              "      <td>20040403</td>\n",
              "      <td>115.0</td>\n",
              "      <td>15</td>\n",
              "      <td>1.0</td>\n",
              "      <td>0.0</td>\n",
              "      <td>0.0</td>\n",
              "      <td>163</td>\n",
              "      <td>12.5</td>\n",
              "      <td>0.0</td>\n",
              "      <td>2806</td>\n",
              "      <td>0</td>\n",
              "      <td>0</td>\n",
              "      <td>20160402</td>\n",
              "      <td>6222</td>\n",
              "      <td>45.978359</td>\n",
              "      <td>4.823792</td>\n",
              "      <td>1.319524</td>\n",
              "      <td>-0.998467</td>\n",
              "      <td>-0.996911</td>\n",
              "      <td>0.251410</td>\n",
              "      <td>0.114912</td>\n",
              "      <td>0.165147</td>\n",
              "      <td>0.062173</td>\n",
              "      <td>0.027075</td>\n",
              "      <td>-4.846749</td>\n",
              "      <td>1.803559</td>\n",
              "      <td>1.565330</td>\n",
              "      <td>-0.832687</td>\n",
              "      <td>-0.229963</td>\n",
              "    </tr>\n",
              "    <tr>\n",
              "      <th>3</th>\n",
              "      <td>3</td>\n",
              "      <td>71865</td>\n",
              "      <td>19960908</td>\n",
              "      <td>109.0</td>\n",
              "      <td>10</td>\n",
              "      <td>0.0</td>\n",
              "      <td>0.0</td>\n",
              "      <td>1.0</td>\n",
              "      <td>193</td>\n",
              "      <td>15.0</td>\n",
              "      <td>0.0</td>\n",
              "      <td>434</td>\n",
              "      <td>0</td>\n",
              "      <td>0</td>\n",
              "      <td>20160312</td>\n",
              "      <td>2400</td>\n",
              "      <td>45.687478</td>\n",
              "      <td>4.492574</td>\n",
              "      <td>-0.050616</td>\n",
              "      <td>0.883600</td>\n",
              "      <td>-2.228079</td>\n",
              "      <td>0.274293</td>\n",
              "      <td>0.110300</td>\n",
              "      <td>0.121964</td>\n",
              "      <td>0.033395</td>\n",
              "      <td>0.000000</td>\n",
              "      <td>-4.509599</td>\n",
              "      <td>1.285940</td>\n",
              "      <td>-0.501868</td>\n",
              "      <td>-2.438353</td>\n",
              "      <td>-0.478699</td>\n",
              "    </tr>\n",
              "    <tr>\n",
              "      <th>4</th>\n",
              "      <td>4</td>\n",
              "      <td>111080</td>\n",
              "      <td>20120103</td>\n",
              "      <td>110.0</td>\n",
              "      <td>5</td>\n",
              "      <td>1.0</td>\n",
              "      <td>0.0</td>\n",
              "      <td>0.0</td>\n",
              "      <td>68</td>\n",
              "      <td>5.0</td>\n",
              "      <td>0.0</td>\n",
              "      <td>6977</td>\n",
              "      <td>0</td>\n",
              "      <td>0</td>\n",
              "      <td>20160313</td>\n",
              "      <td>5200</td>\n",
              "      <td>44.383511</td>\n",
              "      <td>2.031433</td>\n",
              "      <td>0.572169</td>\n",
              "      <td>-1.571239</td>\n",
              "      <td>2.246088</td>\n",
              "      <td>0.228036</td>\n",
              "      <td>0.073205</td>\n",
              "      <td>0.091880</td>\n",
              "      <td>0.078819</td>\n",
              "      <td>0.121534</td>\n",
              "      <td>-1.896240</td>\n",
              "      <td>0.910783</td>\n",
              "      <td>0.931110</td>\n",
              "      <td>2.834518</td>\n",
              "      <td>1.923482</td>\n",
              "    </tr>\n",
              "  </tbody>\n",
              "</table>\n",
              "</div>"
            ],
            "text/plain": [
              "   SaleID    name   regDate  model  ...      v_11      v_12      v_13      v_14\n",
              "0       0     736  20040402   30.0  ...  2.804097 -2.420821  0.795292  0.914762\n",
              "1       1    2262  20030301   40.0  ...  2.096338 -1.030483 -1.722674  0.245522\n",
              "2       2   14874  20040403  115.0  ...  1.803559  1.565330 -0.832687 -0.229963\n",
              "3       3   71865  19960908  109.0  ...  1.285940 -0.501868 -2.438353 -0.478699\n",
              "4       4  111080  20120103  110.0  ...  0.910783  0.931110  2.834518  1.923482\n",
              "\n",
              "[5 rows x 31 columns]"
            ]
          },
          "metadata": {
            "tags": []
          },
          "execution_count": 40
        }
      ]
    },
    {
      "cell_type": "code",
      "metadata": {
        "id": "g1ZUB0aqmp58",
        "colab_type": "code",
        "colab": {
          "base_uri": "https://localhost:8080/",
          "height": 102
        },
        "outputId": "57939d3d-7f1c-4157-dc2e-4264faa3c1d1"
      },
      "source": [
        "numerical_cols = Train_data.select_dtypes(exclude = 'object').columns\n",
        "print(numerical_cols)"
      ],
      "execution_count": 41,
      "outputs": [
        {
          "output_type": "stream",
          "text": [
            "Index(['SaleID', 'name', 'regDate', 'model', 'brand', 'bodyType', 'fuelType',\n",
            "       'gearbox', 'power', 'kilometer', 'regionCode', 'seller', 'offerType',\n",
            "       'creatDate', 'price', 'v_0', 'v_1', 'v_2', 'v_3', 'v_4', 'v_5', 'v_6',\n",
            "       'v_7', 'v_8', 'v_9', 'v_10', 'v_11', 'v_12', 'v_13', 'v_14'],\n",
            "      dtype='object')\n"
          ],
          "name": "stdout"
        }
      ]
    },
    {
      "cell_type": "code",
      "metadata": {
        "id": "imVCXIgDmrXQ",
        "colab_type": "code",
        "colab": {}
      },
      "source": [
        "feature_cols = [col for col in numerical_cols if col not in ['SaleID','name','regDate','price']]"
      ],
      "execution_count": 0,
      "outputs": []
    },
    {
      "cell_type": "code",
      "metadata": {
        "id": "J-kcjPxhmtwq",
        "colab_type": "code",
        "colab": {
          "base_uri": "https://localhost:8080/",
          "height": 51
        },
        "outputId": "a00e3378-93c4-4c17-e7b8-9586ed0f8622"
      },
      "source": [
        "X_data = Train_data[feature_cols]\n",
        "Y_data = Train_data['price']\n",
        "\n",
        "X_test  = TestA_data[feature_cols]\n",
        "\n",
        "print('X train shape:',X_data.shape)\n",
        "print('X test shape:',X_test.shape)"
      ],
      "execution_count": 43,
      "outputs": [
        {
          "output_type": "stream",
          "text": [
            "X train shape: (150000, 26)\n",
            "X test shape: (50000, 26)\n"
          ],
          "name": "stdout"
        }
      ]
    },
    {
      "cell_type": "code",
      "metadata": {
        "id": "-sOLlmIvmvL7",
        "colab_type": "code",
        "colab": {}
      },
      "source": [
        "def Sta_inf(data):\n",
        "    print('_min',np.min(data))\n",
        "    print('_max:',np.max(data))\n",
        "    print('_mean',np.mean(data))\n",
        "    print('_ptp',np.ptp(data))\n",
        "    print('_std',np.std(data))\n",
        "    print('_var',np.var(data))"
      ],
      "execution_count": 0,
      "outputs": []
    },
    {
      "cell_type": "code",
      "metadata": {
        "id": "K3ZWeWIXmwkd",
        "colab_type": "code",
        "colab": {
          "base_uri": "https://localhost:8080/",
          "height": 136
        },
        "outputId": "e769f484-86b9-4a92-a41f-58587876ca07"
      },
      "source": [
        "print('Sta of label:')\n",
        "Sta_inf(Y_data)\n"
      ],
      "execution_count": 45,
      "outputs": [
        {
          "output_type": "stream",
          "text": [
            "Sta of label:\n",
            "_min 11\n",
            "_max: 99999\n",
            "_mean 5923.327333333334\n",
            "_ptp 99988\n",
            "_std 7501.973469876438\n",
            "_var 56279605.94272992\n"
          ],
          "name": "stdout"
        }
      ]
    },
    {
      "cell_type": "code",
      "metadata": {
        "id": "db1-V9Z0okTc",
        "colab_type": "code",
        "colab": {}
      },
      "source": [
        "X_data = X_data.fillna(-1)\n",
        "X_test = X_test.fillna(-1)"
      ],
      "execution_count": 0,
      "outputs": []
    },
    {
      "cell_type": "code",
      "metadata": {
        "id": "rmlfrZ5TmyfS",
        "colab_type": "code",
        "colab": {}
      },
      "source": [
        "def build_model_lr(x_train,y_train):\n",
        "    reg_model = linear_model.LinearRegression()\n",
        "    reg_model.fit(x_train,y_train)\n",
        "    return reg_model\n",
        "\n",
        "def build_model_ridge(x_train,y_train):\n",
        "    reg_model = linear_model.Ridge(alpha=0.8)#alphas=range(1,100,5)\n",
        "    reg_model.fit(x_train,y_train)\n",
        "    return reg_model\n",
        "\n",
        "def build_model_lasso(x_train,y_train):\n",
        "    reg_model = linear_model.LassoCV()\n",
        "    reg_model.fit(x_train,y_train)\n",
        "    return reg_model\n",
        "\n",
        "def build_model_gbdt(x_train,y_train):\n",
        "    estimator =GradientBoostingRegressor(loss='ls',subsample= 0.85,max_depth= 5,n_estimators = 100)\n",
        "    param_grid = { \n",
        "            'learning_rate': [0.05,0.08,0.1,0.2],\n",
        "            }\n",
        "    gbdt = GridSearchCV(estimator, param_grid,cv=3)\n",
        "    gbdt.fit(x_train,y_train)\n",
        "    print(gbdt.best_params_)\n",
        "    # print(gbdt.best_estimator_ )\n",
        "    return gbdt\n",
        "\n",
        "def build_model_xgb(x_train,y_train):\n",
        "    model = xgb.XGBRegressor(n_estimators=120, learning_rate=0.08, gamma=0, subsample=0.8,\\\n",
        "        colsample_bytree=0.9, max_depth=5) #, objective ='reg:squarederror'\n",
        "    model.fit(x_train, y_train)\n",
        "    return model\n",
        "\n",
        "def build_model_lgb(x_train,y_train):\n",
        "    estimator = lgb.LGBMRegressor(num_leaves=63,n_estimators = 100)\n",
        "    param_grid = {\n",
        "        'learning_rate': [0.01, 0.05, 0.1],\n",
        "    }\n",
        "    gbm = GridSearchCV(estimator, param_grid)\n",
        "    gbm.fit(x_train, y_train)\n",
        "    return gbm\n",
        "\n"
      ],
      "execution_count": 0,
      "outputs": []
    },
    {
      "cell_type": "markdown",
      "metadata": {
        "id": "mnNXiCUpm2Qj",
        "colab_type": "text"
      },
      "source": [
        "## XGBoost五折交叉回归验证实现"
      ]
    },
    {
      "cell_type": "code",
      "metadata": {
        "id": "hpQx3NR7m1Gq",
        "colab_type": "code",
        "colab": {
          "base_uri": "https://localhost:8080/",
          "height": 136
        },
        "outputId": "71db7992-ece6-4f3c-8177-23b52c5fc843"
      },
      "source": [
        "## xgb\n",
        "xgr = xgb.XGBRegressor(n_estimators=120, learning_rate=0.1, subsample=0.8,\\\n",
        "        colsample_bytree=0.9, max_depth=7) # ,objective ='reg:squarederror'\n",
        "\n",
        "scores_train = []\n",
        "scores = []\n",
        "\n",
        "## 5折交叉验证方式\n",
        "sk=StratifiedKFold(n_splits=5,shuffle=True,random_state=0)\n",
        "for train_ind,val_ind in sk.split(X_data,Y_data):\n",
        "    \n",
        "    train_x=X_data.iloc[train_ind].values\n",
        "    train_y=Y_data.iloc[train_ind]\n",
        "    val_x=X_data.iloc[val_ind].values\n",
        "    val_y=Y_data.iloc[val_ind]\n",
        "    \n",
        "    xgr.fit(train_x,train_y)\n",
        "    pred_train_xgb=xgr.predict(train_x)\n",
        "    pred_xgb=xgr.predict(val_x)\n",
        "    \n",
        "    score_train = mean_absolute_error(train_y,pred_train_xgb)\n",
        "    scores_train.append(score_train)\n",
        "    score = mean_absolute_error(val_y,pred_xgb)\n",
        "    scores.append(score)\n",
        "\n",
        "print('Train mae:',np.mean(score_train))\n",
        "print('Val mae',np.mean(scores))"
      ],
      "execution_count": 48,
      "outputs": [
        {
          "output_type": "stream",
          "text": [
            "[08:39:15] WARNING: /workspace/src/objective/regression_obj.cu:152: reg:linear is now deprecated in favor of reg:squarederror.\n",
            "[08:40:08] WARNING: /workspace/src/objective/regression_obj.cu:152: reg:linear is now deprecated in favor of reg:squarederror.\n",
            "[08:41:01] WARNING: /workspace/src/objective/regression_obj.cu:152: reg:linear is now deprecated in favor of reg:squarederror.\n",
            "[08:41:54] WARNING: /workspace/src/objective/regression_obj.cu:152: reg:linear is now deprecated in favor of reg:squarederror.\n",
            "[08:42:46] WARNING: /workspace/src/objective/regression_obj.cu:152: reg:linear is now deprecated in favor of reg:squarederror.\n",
            "Train mae: 594.4890495346745\n",
            "Val mae 694.5823127983205\n"
          ],
          "name": "stdout"
        }
      ]
    },
    {
      "cell_type": "markdown",
      "metadata": {
        "id": "oQuR4bE0m-SL",
        "colab_type": "text"
      },
      "source": [
        "### 划分数据，并用多种方法训练和预测"
      ]
    },
    {
      "cell_type": "code",
      "metadata": {
        "id": "xqKxygP1m8Wn",
        "colab_type": "code",
        "colab": {
          "base_uri": "https://localhost:8080/",
          "height": 102
        },
        "outputId": "ff955146-dd4d-4a2d-f77d-12afab67c520"
      },
      "source": [
        "## Split data with val\n",
        "x_train,x_val,y_train,y_val = train_test_split(X_data,Y_data,test_size=0.3)\n",
        "\n",
        "## Train and Predict\n",
        "print('Predict LR...')\n",
        "model_lr = build_model_lr(x_train,y_train)\n",
        "val_lr = model_lr.predict(x_val)\n",
        "subA_lr = model_lr.predict(X_test)\n",
        "\n",
        "print('Predict Ridge...')\n",
        "model_ridge = build_model_ridge(x_train,y_train)\n",
        "val_ridge = model_ridge.predict(x_val)\n",
        "subA_ridge = model_ridge.predict(X_test)\n",
        "\n",
        "print('Predict Lasso...')\n",
        "model_lasso = build_model_lasso(x_train,y_train)\n",
        "val_lasso = model_lasso.predict(x_val)\n",
        "subA_lasso = model_lasso.predict(X_test)\n",
        "\n",
        "print('Predict GBDT...')\n",
        "model_gbdt = build_model_gbdt(x_train,y_train)\n",
        "val_gbdt = model_gbdt.predict(x_val)\n",
        "subA_gbdt = model_gbdt.predict(X_test)\n",
        "\n"
      ],
      "execution_count": 49,
      "outputs": [
        {
          "output_type": "stream",
          "text": [
            "Predict LR...\n",
            "Predict Ridge...\n",
            "Predict Lasso...\n",
            "Predict GBDT...\n",
            "{'learning_rate': 0.2}\n"
          ],
          "name": "stdout"
        }
      ]
    },
    {
      "cell_type": "markdown",
      "metadata": {
        "id": "cDjNwEmunGKN",
        "colab_type": "text"
      },
      "source": [
        "### 一般比赛中效果最显著的两种方法"
      ]
    },
    {
      "cell_type": "code",
      "metadata": {
        "id": "mn-nLrbanEvM",
        "colab_type": "code",
        "colab": {
          "base_uri": "https://localhost:8080/",
          "height": 68
        },
        "outputId": "92731b87-7949-4c93-bae9-cd4a18b490fd"
      },
      "source": [
        "print('predict XGB...')\n",
        "model_xgb = build_model_xgb(x_train,y_train)\n",
        "val_xgb = model_xgb.predict(x_val)\n",
        "subA_xgb = model_xgb.predict(X_test)\n",
        "\n",
        "print('predict lgb...')\n",
        "model_lgb = build_model_lgb(x_train,y_train)\n",
        "val_lgb = model_lgb.predict(x_val)\n",
        "subA_lgb = model_lgb.predict(X_test)"
      ],
      "execution_count": 50,
      "outputs": [
        {
          "output_type": "stream",
          "text": [
            "predict XGB...\n",
            "[09:00:43] WARNING: /workspace/src/objective/regression_obj.cu:152: reg:linear is now deprecated in favor of reg:squarederror.\n",
            "predict lgb...\n"
          ],
          "name": "stdout"
        }
      ]
    },
    {
      "cell_type": "code",
      "metadata": {
        "id": "_gXcLpgBnLyl",
        "colab_type": "code",
        "colab": {
          "base_uri": "https://localhost:8080/",
          "height": 136
        },
        "outputId": "6579af24-4069-43f0-93a1-30452a02c738"
      },
      "source": [
        "print('Sta inf of lgb:')\n",
        "Sta_inf(subA_lgb)"
      ],
      "execution_count": 51,
      "outputs": [
        {
          "output_type": "stream",
          "text": [
            "Sta inf of lgb:\n",
            "_min -103.16213613404301\n",
            "_max: 89005.19704227413\n",
            "_mean 5920.827044859752\n",
            "_ptp 89108.35917840817\n",
            "_std 7349.62235477467\n",
            "_var 54016948.75780357\n"
          ],
          "name": "stdout"
        }
      ]
    },
    {
      "cell_type": "markdown",
      "metadata": {
        "id": "LuDacrXbnOjl",
        "colab_type": "text"
      },
      "source": [
        "##  加权融合"
      ]
    },
    {
      "cell_type": "code",
      "metadata": {
        "id": "HDR3K4gCnNb5",
        "colab_type": "code",
        "colab": {
          "base_uri": "https://localhost:8080/",
          "height": 153
        },
        "outputId": "46953115-bbc5-48d7-bf3b-f79768e9ceac"
      },
      "source": [
        "def Weighted_method(test_pre1,test_pre2,test_pre3,w=[1/3,1/3,1/3]):\n",
        "    Weighted_result = w[0]*pd.Series(test_pre1)+w[1]*pd.Series(test_pre2)+w[2]*pd.Series(test_pre3)\n",
        "    return Weighted_result\n",
        "\n",
        "## Init the Weight\n",
        "w = [0.3,0.4,0.3]\n",
        "\n",
        "## 测试验证集准确度\n",
        "val_pre = Weighted_method(val_lgb,val_xgb,val_gbdt,w)\n",
        "MAE_Weighted = mean_absolute_error(y_val,val_pre)\n",
        "print('MAE of Weighted of val:',MAE_Weighted)\n",
        "\n",
        "## 预测数据部分\n",
        "subA = Weighted_method(subA_lgb,subA_xgb,subA_gbdt,w)\n",
        "print('Sta inf:')\n",
        "Sta_inf(subA)\n",
        "## 生成提交文件\n",
        "sub = pd.DataFrame()\n",
        "sub['SaleID'] = X_test.index\n",
        "sub['price'] = subA\n",
        "sub.to_csv('./sub_Weighted.csv',index=False)"
      ],
      "execution_count": 52,
      "outputs": [
        {
          "output_type": "stream",
          "text": [
            "MAE of Weighted of val: 719.3507908222824\n",
            "Sta inf:\n",
            "_min -107.90007231254327\n",
            "_max: 88783.15172327406\n",
            "_mean 5925.473795497284\n",
            "_ptp 88891.05179558661\n",
            "_std 7349.768215796452\n",
            "_var 54019092.825931765\n"
          ],
          "name": "stdout"
        }
      ]
    },
    {
      "cell_type": "code",
      "metadata": {
        "id": "ByFV9E7JnUuC",
        "colab_type": "code",
        "colab": {
          "base_uri": "https://localhost:8080/",
          "height": 34
        },
        "outputId": "aec73510-89f8-4038-ff79-23cd40b939b1"
      },
      "source": [
        "## 与简单的LR（线性回归）进行对比\n",
        "val_lr_pred = model_lr.predict(x_val)\n",
        "MAE_lr = mean_absolute_error(y_val,val_lr_pred)\n",
        "print('MAE of lr:',MAE_lr)"
      ],
      "execution_count": 53,
      "outputs": [
        {
          "output_type": "stream",
          "text": [
            "MAE of lr: 2586.179564593972\n"
          ],
          "name": "stdout"
        }
      ]
    },
    {
      "cell_type": "markdown",
      "metadata": {
        "id": "qDVzgvj3nXG4",
        "colab_type": "text"
      },
      "source": [
        "## Stacking融合"
      ]
    },
    {
      "cell_type": "code",
      "metadata": {
        "id": "a-AqSkennWAM",
        "colab_type": "code",
        "colab": {}
      },
      "source": [
        "## Starking\n",
        "\n",
        "## 第一层\n",
        "train_lgb_pred = model_lgb.predict(x_train)\n",
        "train_xgb_pred = model_xgb.predict(x_train)\n",
        "train_gbdt_pred = model_gbdt.predict(x_train)\n",
        "\n",
        "Strak_X_train = pd.DataFrame()\n",
        "Strak_X_train['Method_1'] = train_lgb_pred\n",
        "Strak_X_train['Method_2'] = train_xgb_pred\n",
        "Strak_X_train['Method_3'] = train_gbdt_pred\n",
        "\n",
        "Strak_X_val = pd.DataFrame()\n",
        "Strak_X_val['Method_1'] = val_lgb\n",
        "Strak_X_val['Method_2'] = val_xgb\n",
        "Strak_X_val['Method_3'] = val_gbdt\n",
        "\n",
        "Strak_X_test = pd.DataFrame()\n",
        "Strak_X_test['Method_1'] = subA_lgb\n",
        "Strak_X_test['Method_2'] = subA_xgb\n",
        "Strak_X_test['Method_3'] = subA_gbdt"
      ],
      "execution_count": 0,
      "outputs": []
    },
    {
      "cell_type": "code",
      "metadata": {
        "id": "JaEj1Saznbvq",
        "colab_type": "code",
        "colab": {
          "base_uri": "https://localhost:8080/",
          "height": 204
        },
        "outputId": "0d7fcef2-7ecb-4088-9c4f-9924f31c40a0"
      },
      "source": [
        "Strak_X_test.head()"
      ],
      "execution_count": 55,
      "outputs": [
        {
          "output_type": "execute_result",
          "data": {
            "text/html": [
              "<div>\n",
              "<style scoped>\n",
              "    .dataframe tbody tr th:only-of-type {\n",
              "        vertical-align: middle;\n",
              "    }\n",
              "\n",
              "    .dataframe tbody tr th {\n",
              "        vertical-align: top;\n",
              "    }\n",
              "\n",
              "    .dataframe thead th {\n",
              "        text-align: right;\n",
              "    }\n",
              "</style>\n",
              "<table border=\"1\" class=\"dataframe\">\n",
              "  <thead>\n",
              "    <tr style=\"text-align: right;\">\n",
              "      <th></th>\n",
              "      <th>Method_1</th>\n",
              "      <th>Method_2</th>\n",
              "      <th>Method_3</th>\n",
              "    </tr>\n",
              "  </thead>\n",
              "  <tbody>\n",
              "    <tr>\n",
              "      <th>0</th>\n",
              "      <td>35657.133698</td>\n",
              "      <td>41310.890625</td>\n",
              "      <td>39127.700530</td>\n",
              "    </tr>\n",
              "    <tr>\n",
              "      <th>1</th>\n",
              "      <td>238.310188</td>\n",
              "      <td>253.643158</td>\n",
              "      <td>238.626908</td>\n",
              "    </tr>\n",
              "    <tr>\n",
              "      <th>2</th>\n",
              "      <td>6332.940702</td>\n",
              "      <td>7306.389160</td>\n",
              "      <td>7475.811179</td>\n",
              "    </tr>\n",
              "    <tr>\n",
              "      <th>3</th>\n",
              "      <td>11888.836990</td>\n",
              "      <td>11675.732422</td>\n",
              "      <td>12111.413705</td>\n",
              "    </tr>\n",
              "    <tr>\n",
              "      <th>4</th>\n",
              "      <td>554.332659</td>\n",
              "      <td>511.455994</td>\n",
              "      <td>552.456222</td>\n",
              "    </tr>\n",
              "  </tbody>\n",
              "</table>\n",
              "</div>"
            ],
            "text/plain": [
              "       Method_1      Method_2      Method_3\n",
              "0  35657.133698  41310.890625  39127.700530\n",
              "1    238.310188    253.643158    238.626908\n",
              "2   6332.940702   7306.389160   7475.811179\n",
              "3  11888.836990  11675.732422  12111.413705\n",
              "4    554.332659    511.455994    552.456222"
            ]
          },
          "metadata": {
            "tags": []
          },
          "execution_count": 55
        }
      ]
    },
    {
      "cell_type": "code",
      "metadata": {
        "id": "32yOeKjvnc6_",
        "colab_type": "code",
        "colab": {
          "base_uri": "https://localhost:8080/",
          "height": 68
        },
        "outputId": "0fdc0e9f-f0ed-4c6c-f8c5-033f6f56525e"
      },
      "source": [
        "## level2-method \n",
        "model_lr_Stacking = build_model_lr(Strak_X_train,y_train)\n",
        "## 训练集\n",
        "train_pre_Stacking = model_lr_Stacking.predict(Strak_X_train)\n",
        "print('MAE of Stacking-LR:',mean_absolute_error(y_train,train_pre_Stacking))\n",
        "\n",
        "## 验证集\n",
        "val_pre_Stacking = model_lr_Stacking.predict(Strak_X_val)\n",
        "print('MAE of Stacking-LR:',mean_absolute_error(y_val,val_pre_Stacking))\n",
        "\n",
        "## 预测集\n",
        "print('Predict Stacking-LR...')\n",
        "subA_Stacking = model_lr_Stacking.predict(Strak_X_test)\n",
        "\n"
      ],
      "execution_count": 56,
      "outputs": [
        {
          "output_type": "stream",
          "text": [
            "MAE of Stacking-LR: 627.2054977432088\n",
            "MAE of Stacking-LR: 710.3035662043364\n",
            "Predict Stacking-LR...\n"
          ],
          "name": "stdout"
        }
      ]
    },
    {
      "cell_type": "code",
      "metadata": {
        "id": "0bWs16i3nhdq",
        "colab_type": "code",
        "colab": {}
      },
      "source": [
        "subA_Stacking[subA_Stacking<10]=10  ## 去除过小的预测值\n",
        "\n",
        "sub = pd.DataFrame()\n",
        "sub['SaleID'] = TestA_data.SaleID\n",
        "sub['price'] = subA_Stacking\n",
        "sub.to_csv('./sub_Stacking.csv',index=False)"
      ],
      "execution_count": 0,
      "outputs": []
    },
    {
      "cell_type": "code",
      "metadata": {
        "id": "m3TlQC8hnjXx",
        "colab_type": "code",
        "colab": {
          "base_uri": "https://localhost:8080/",
          "height": 136
        },
        "outputId": "97a42cf0-e65d-43fd-f9d3-be881ddea593"
      },
      "source": [
        "print('Sta inf:')\n",
        "Sta_inf(subA_Stacking)"
      ],
      "execution_count": 58,
      "outputs": [
        {
          "output_type": "stream",
          "text": [
            "Sta inf:\n",
            "_min 10.0\n",
            "_max: 90412.64004381122\n",
            "_mean 5924.668005631054\n",
            "_ptp 90402.64004381122\n",
            "_std 7403.320168943352\n",
            "_var 54809149.523883425\n"
          ],
          "name": "stdout"
        }
      ]
    },
    {
      "cell_type": "markdown",
      "metadata": {
        "id": "6uS6G9K4nmYu",
        "colab_type": "text"
      },
      "source": [
        "# 经验总结\n",
        "\n",
        "比赛的融合这个问题，个人的看法来说其实涉及多个层面，也是提分和提升模型鲁棒性的一种重要方法：\n",
        "\n",
        "\n",
        "\n",
        "*   **结果层面的融合**，这种是最常见的融合方法，其可行的融合方法也有很多，比如根据结果的得分进行加权融合，还可以做Log，exp处理等。在做结果融合的时候，有一个很重要的条件是模型结果的得分要比较近似，然后结果的差异要比较大，这样的结果融合往往有比较好的效果提升。\n",
        "\n",
        "*   **特征层面的融合**，这个层面其实感觉不叫融合，准确说可以叫分割，很多时候如果我们用同种模型训练，可以把特征进行切分给不同的模型，然后在后面进行模型或者结果融合有时也能产生比较好的效果。\n",
        "\n",
        "*   **模型层面的融合**，模型层面的融合可能就涉及模型的堆叠和设计，比如加Staking层，部分模型的结果作为特征输入等，这些就需要多实验和思考了，基于模型层面的融合最好不同模型类型要有一定的差异，用同种模型不同的参数的收益一般是比较小的。\n",
        "\n"
      ]
    },
    {
      "cell_type": "code",
      "metadata": {
        "id": "-fJilCVInk08",
        "colab_type": "code",
        "colab": {}
      },
      "source": [
        ""
      ],
      "execution_count": 0,
      "outputs": []
    }
  ]
}