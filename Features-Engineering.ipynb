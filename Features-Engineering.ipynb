{
  "nbformat": 4,
  "nbformat_minor": 0,
  "metadata": {
    "colab": {
      "name": "Tianchi2.ipynb",
      "provenance": [],
      "collapsed_sections": []
    },
    "kernelspec": {
      "name": "python3",
      "display_name": "Python 3"
    }
  },
  "cells": [
    {
      "cell_type": "markdown",
      "metadata": {
        "id": "SPJB7MIX07lv",
        "colab_type": "text"
      },
      "source": [
        "# ***import libs and data***"
      ]
    },
    {
      "cell_type": "code",
      "metadata": {
        "id": "DiIdoh7ytDkD",
        "colab_type": "code",
        "colab": {
          "base_uri": "https://localhost:8080/",
          "height": 275
        },
        "outputId": "d978ac19-754c-431a-8857-ee6bb95895ef"
      },
      "source": [
        "!pip install mlxtend"
      ],
      "execution_count": 27,
      "outputs": [
        {
          "output_type": "stream",
          "text": [
            "Requirement already satisfied: mlxtend in /usr/local/lib/python3.6/dist-packages (0.14.0)\n",
            "Requirement already satisfied: setuptools in /usr/local/lib/python3.6/dist-packages (from mlxtend) (46.0.0)\n",
            "Requirement already satisfied: scikit-learn>=0.18 in /usr/local/lib/python3.6/dist-packages (from mlxtend) (0.22.2.post1)\n",
            "Requirement already satisfied: pandas>=0.17.1 in /usr/local/lib/python3.6/dist-packages (from mlxtend) (0.25.3)\n",
            "Requirement already satisfied: matplotlib>=1.5.1 in /usr/local/lib/python3.6/dist-packages (from mlxtend) (3.2.1)\n",
            "Requirement already satisfied: scipy>=0.17 in /usr/local/lib/python3.6/dist-packages (from mlxtend) (1.4.1)\n",
            "Requirement already satisfied: numpy>=1.10.4 in /usr/local/lib/python3.6/dist-packages (from mlxtend) (1.18.2)\n",
            "Requirement already satisfied: joblib>=0.11 in /usr/local/lib/python3.6/dist-packages (from scikit-learn>=0.18->mlxtend) (0.14.1)\n",
            "Requirement already satisfied: python-dateutil>=2.6.1 in /usr/local/lib/python3.6/dist-packages (from pandas>=0.17.1->mlxtend) (2.8.1)\n",
            "Requirement already satisfied: pytz>=2017.2 in /usr/local/lib/python3.6/dist-packages (from pandas>=0.17.1->mlxtend) (2018.9)\n",
            "Requirement already satisfied: kiwisolver>=1.0.1 in /usr/local/lib/python3.6/dist-packages (from matplotlib>=1.5.1->mlxtend) (1.1.0)\n",
            "Requirement already satisfied: pyparsing!=2.0.4,!=2.1.2,!=2.1.6,>=2.0.1 in /usr/local/lib/python3.6/dist-packages (from matplotlib>=1.5.1->mlxtend) (2.4.6)\n",
            "Requirement already satisfied: cycler>=0.10 in /usr/local/lib/python3.6/dist-packages (from matplotlib>=1.5.1->mlxtend) (0.10.0)\n",
            "Requirement already satisfied: six>=1.5 in /usr/local/lib/python3.6/dist-packages (from python-dateutil>=2.6.1->pandas>=0.17.1->mlxtend) (1.12.0)\n"
          ],
          "name": "stdout"
        }
      ]
    },
    {
      "cell_type": "code",
      "metadata": {
        "id": "GBVSiXFgzxsy",
        "colab_type": "code",
        "outputId": "b6d91f65-a2b4-422b-f1f5-c32da8ce29e0",
        "colab": {
          "base_uri": "https://localhost:8080/",
          "height": 34
        }
      },
      "source": [
        "import pandas as pd\n",
        "import numpy as np\n",
        "import matplotlib\n",
        "import matplotlib.pyplot as plt\n",
        "import seaborn as sns\n",
        "from operator import itemgetter\n",
        "%matplotlib inline\n",
        "\n",
        "Train_data = pd.read_csv('/content/drive/My Drive/Tianchi/used_car_train_20200313.csv', sep = ' ')\n",
        "Test_data = pd.read_csv('/content/drive/My Drive/Tianchi/used_car_testA_20200313.csv', sep = ' ')\n",
        "print(Train_data.shape, Test_data.shape)"
      ],
      "execution_count": 1,
      "outputs": [
        {
          "output_type": "stream",
          "text": [
            "(150000, 31) (50000, 30)\n"
          ],
          "name": "stdout"
        }
      ]
    },
    {
      "cell_type": "code",
      "metadata": {
        "id": "EwOzGZfg1hPf",
        "colab_type": "code",
        "outputId": "a51b506e-66d6-4dc1-fda0-0d7aa18bde9f",
        "colab": {
          "base_uri": "https://localhost:8080/",
          "height": 139
        }
      },
      "source": [
        "Train_data.columns"
      ],
      "execution_count": 2,
      "outputs": [
        {
          "output_type": "execute_result",
          "data": {
            "text/plain": [
              "Index(['SaleID', 'name', 'regDate', 'model', 'brand', 'bodyType', 'fuelType',\n",
              "       'gearbox', 'power', 'kilometer', 'notRepairedDamage', 'regionCode',\n",
              "       'seller', 'offerType', 'creatDate', 'price', 'v_0', 'v_1', 'v_2', 'v_3',\n",
              "       'v_4', 'v_5', 'v_6', 'v_7', 'v_8', 'v_9', 'v_10', 'v_11', 'v_12',\n",
              "       'v_13', 'v_14'],\n",
              "      dtype='object')"
            ]
          },
          "metadata": {
            "tags": []
          },
          "execution_count": 2
        }
      ]
    },
    {
      "cell_type": "code",
      "metadata": {
        "id": "-53lrHRs1pIa",
        "colab_type": "code",
        "outputId": "f5b165c8-3cef-4afd-85d5-6837ef050ed6",
        "colab": {
          "base_uri": "https://localhost:8080/",
          "height": 139
        }
      },
      "source": [
        "Test_data.columns"
      ],
      "execution_count": 3,
      "outputs": [
        {
          "output_type": "execute_result",
          "data": {
            "text/plain": [
              "Index(['SaleID', 'name', 'regDate', 'model', 'brand', 'bodyType', 'fuelType',\n",
              "       'gearbox', 'power', 'kilometer', 'notRepairedDamage', 'regionCode',\n",
              "       'seller', 'offerType', 'creatDate', 'v_0', 'v_1', 'v_2', 'v_3', 'v_4',\n",
              "       'v_5', 'v_6', 'v_7', 'v_8', 'v_9', 'v_10', 'v_11', 'v_12', 'v_13',\n",
              "       'v_14'],\n",
              "      dtype='object')"
            ]
          },
          "metadata": {
            "tags": []
          },
          "execution_count": 3
        }
      ]
    },
    {
      "cell_type": "markdown",
      "metadata": {
        "id": "Ms8qpByM1tpp",
        "colab_type": "text"
      },
      "source": [
        "# ***outliers process***"
      ]
    },
    {
      "cell_type": "code",
      "metadata": {
        "id": "-rW_phhB1qi3",
        "colab_type": "code",
        "colab": {}
      },
      "source": [
        "def outliers_proc(data, col_name, scale = 3):\n",
        "  '''\n",
        "  Clean outliers\n",
        "  using box_plot(scale = 3)\n",
        "  :param data: receive pandas data formate\n",
        "  :param col_name: pandas column name\n",
        "  :param scale: boxplot scale\n",
        "  :return:\n",
        "  more info about Tukey's test:\n",
        "  https://www.zhihu.com/question/36172806\n",
        "  '''\n",
        "  def box_plot_outliers(data_ser, box_scale):\n",
        "    '''\n",
        "    clean outliers using boxplot\n",
        "    Max: Q1-k(Q3-Q1)\n",
        "    Min: Q3+k(Q3-Q1)\n",
        "    k = 1.5 moderately outliers\n",
        "    k = 3 extremely outliers\n",
        "    :param data_ser: receive pandas Series\n",
        "    :param box_scale: scale of boxplot\n",
        "    :return:\n",
        "    '''\n",
        "    iqr = box_scale * (data_ser.quantile(0.75) - data_ser.quantile(0.25))\n",
        "    val_low = data_ser.quantile(0.25) - iqr\n",
        "    val_up = data_ser.quantile(0.75) + iqr\n",
        "    rule_low = (data_ser < val_low) #Bool for each value\n",
        "    rule_up = (data_ser > val_up)\n",
        "    return (rule_low, rule_up), (val_low, val_up)\n",
        "\n",
        "  data_n = data.copy()\n",
        "  data_series = data_n[col_name]\n",
        "  rule, value = box_plot_outliers(data_series, box_scale = scale)\n",
        "  #！布尔索引，[rule[0] | rule[1]]是每个power的TrueorFalse的list\n",
        "  #首先创建一个150000个数（power的记录数量）的列表，然后只要True的数字\n",
        "  index = np.arange(data_series.shape[0])[rule[0] | rule[1]]\n",
        "  print('Delete number is: {}'.format(len(index)))\n",
        "  data_n = data_n.drop(index)\n",
        "  data_n.reset_index(drop = True, inplace = True)\n",
        "  print('Now column number is: {}'.format(data_n.shape[0]))\n",
        "  #布尔索引again\n",
        "  index_low = np.arange(data_series.shape[0])[rule[0]]\n",
        "  outliers = data_series.iloc[index_low]\n",
        "  print('Description of data less than the lower bound is:')\n",
        "  print(pd.Series(outliers).describe)\n",
        "  index_up = np.arange(data_series.shape[0])[rule[1]]\n",
        "  outliers = data_series.iloc[index_up]\n",
        "  print('Description of data larger than the upper bound is:')\n",
        "  print(pd.Series(outliers).describe())\n",
        "\n",
        "  fig, ax = plt.subplots(1,2,figsize = (10, 7))\n",
        "  sns.boxplot(\n",
        "      y = data[col_name],\n",
        "      data = data,\n",
        "      palette = 'Set1',\n",
        "      ax = ax[0],\n",
        "  )\n",
        "  sns.boxplot(\n",
        "      y = data_n[col_name],\n",
        "      data = data_n,\n",
        "      palette = 'Set1',\n",
        "      ax = ax[1],\n",
        "  )\n",
        "  return data_n\n"
      ],
      "execution_count": 0,
      "outputs": []
    },
    {
      "cell_type": "code",
      "metadata": {
        "id": "UWwKNvT3H5C2",
        "colab_type": "code",
        "outputId": "79f66c94-edbb-4c4f-98c4-9dd3808d8e13",
        "colab": {
          "base_uri": "https://localhost:8080/",
          "height": 653
        }
      },
      "source": [
        "#可以删掉一些异常数据，自行判断 但是test的数据不能删\n",
        "Train_data = outliers_proc(\n",
        "    Train_data,\n",
        "    'power',\n",
        "    scale = 3,\n",
        ")"
      ],
      "execution_count": 41,
      "outputs": [
        {
          "output_type": "stream",
          "text": [
            "Delete number is: 0\n",
            "Now column number is: 149037\n",
            "Description of data less than the lower bound is:\n",
            "<bound method NDFrame.describe of Series([], Name: power, dtype: int64)>\n",
            "Description of data larger than the upper bound is:\n",
            "count    0.0\n",
            "mean     NaN\n",
            "std      NaN\n",
            "min      NaN\n",
            "25%      NaN\n",
            "50%      NaN\n",
            "75%      NaN\n",
            "max      NaN\n",
            "Name: power, dtype: float64\n"
          ],
          "name": "stdout"
        },
        {
          "output_type": "display_data",
          "data": {
            "image/png": "[encoded data removed]",
            "text/plain": [
              "<Figure size 720x504 with 2 Axes>"
            ]
          },
          "metadata": {
            "tags": []
          }
        }
      ]
    },
    {
      "cell_type": "markdown",
      "metadata": {
        "id": "STTx6Xu7MCg0",
        "colab_type": "text"
      },
      "source": [
        "# ***Feature Generation***"
      ]
    },
    {
      "cell_type": "code",
      "metadata": {
        "id": "Hvnt1lDm6bT0",
        "colab_type": "code",
        "colab": {
          "base_uri": "https://localhost:8080/",
          "height": 575
        },
        "outputId": "e6978d88-a410-4201-8f75-afb1b466fd50"
      },
      "source": [
        "#训练集和测试集放在一起，方便构造特征\n",
        "Train_data['train'] = 1\n",
        "Test_data['train'] = 0\n",
        "data = pd.concat([Train_data, Test_data], ignore_index = True)\n",
        "data"
      ],
      "execution_count": 6,
      "outputs": [
        {
          "output_type": "stream",
          "text": [
            "/usr/local/lib/python3.6/dist-packages/ipykernel_launcher.py:3: FutureWarning: Sorting because non-concatenation axis is not aligned. A future version\n",
            "of pandas will change to not sort by default.\n",
            "\n",
            "To accept the future behavior, pass 'sort=False'.\n",
            "\n",
            "To retain the current behavior and silence the warning, pass 'sort=True'.\n",
            "\n",
            "  This is separate from the ipykernel package so we can avoid doing imports until\n"
          ],
          "name": "stderr"
        },
        {
          "output_type": "execute_result",
          "data": {
            "text/html": [
              "<div>\n",
              "<style scoped>\n",
              "    .dataframe tbody tr th:only-of-type {\n",
              "        vertical-align: middle;\n",
              "    }\n",
              "\n",
              "    .dataframe tbody tr th {\n",
              "        vertical-align: top;\n",
              "    }\n",
              "\n",
              "    .dataframe thead th {\n",
              "        text-align: right;\n",
              "    }\n",
              "</style>\n",
              "<table border=\"1\" class=\"dataframe\">\n",
              "  <thead>\n",
              "    <tr style=\"text-align: right;\">\n",
              "      <th></th>\n",
              "      <th>SaleID</th>\n",
              "      <th>bodyType</th>\n",
              "      <th>brand</th>\n",
              "      <th>creatDate</th>\n",
              "      <th>fuelType</th>\n",
              "      <th>gearbox</th>\n",
              "      <th>kilometer</th>\n",
              "      <th>model</th>\n",
              "      <th>name</th>\n",
              "      <th>notRepairedDamage</th>\n",
              "      <th>offerType</th>\n",
              "      <th>power</th>\n",
              "      <th>price</th>\n",
              "      <th>regDate</th>\n",
              "      <th>regionCode</th>\n",
              "      <th>seller</th>\n",
              "      <th>train</th>\n",
              "      <th>v_0</th>\n",
              "      <th>v_1</th>\n",
              "      <th>v_10</th>\n",
              "      <th>v_11</th>\n",
              "      <th>v_12</th>\n",
              "      <th>v_13</th>\n",
              "      <th>v_14</th>\n",
              "      <th>v_2</th>\n",
              "      <th>v_3</th>\n",
              "      <th>v_4</th>\n",
              "      <th>v_5</th>\n",
              "      <th>v_6</th>\n",
              "      <th>v_7</th>\n",
              "      <th>v_8</th>\n",
              "      <th>v_9</th>\n",
              "    </tr>\n",
              "  </thead>\n",
              "  <tbody>\n",
              "    <tr>\n",
              "      <th>0</th>\n",
              "      <td>0</td>\n",
              "      <td>1.0</td>\n",
              "      <td>6</td>\n",
              "      <td>20160404</td>\n",
              "      <td>0.0</td>\n",
              "      <td>0.0</td>\n",
              "      <td>12.5</td>\n",
              "      <td>30.0</td>\n",
              "      <td>736</td>\n",
              "      <td>0.0</td>\n",
              "      <td>0</td>\n",
              "      <td>60</td>\n",
              "      <td>1850.0</td>\n",
              "      <td>20040402</td>\n",
              "      <td>1046</td>\n",
              "      <td>0</td>\n",
              "      <td>1</td>\n",
              "      <td>43.357796</td>\n",
              "      <td>3.966344</td>\n",
              "      <td>-2.881803</td>\n",
              "      <td>2.804097</td>\n",
              "      <td>-2.420821</td>\n",
              "      <td>0.795292</td>\n",
              "      <td>0.914762</td>\n",
              "      <td>0.050257</td>\n",
              "      <td>2.159744</td>\n",
              "      <td>1.143786</td>\n",
              "      <td>0.235676</td>\n",
              "      <td>0.101988</td>\n",
              "      <td>0.129549</td>\n",
              "      <td>0.022816</td>\n",
              "      <td>0.097462</td>\n",
              "    </tr>\n",
              "    <tr>\n",
              "      <th>1</th>\n",
              "      <td>1</td>\n",
              "      <td>2.0</td>\n",
              "      <td>1</td>\n",
              "      <td>20160309</td>\n",
              "      <td>0.0</td>\n",
              "      <td>0.0</td>\n",
              "      <td>15.0</td>\n",
              "      <td>40.0</td>\n",
              "      <td>2262</td>\n",
              "      <td>-</td>\n",
              "      <td>0</td>\n",
              "      <td>0</td>\n",
              "      <td>3600.0</td>\n",
              "      <td>20030301</td>\n",
              "      <td>4366</td>\n",
              "      <td>0</td>\n",
              "      <td>1</td>\n",
              "      <td>45.305273</td>\n",
              "      <td>5.236112</td>\n",
              "      <td>-4.900482</td>\n",
              "      <td>2.096338</td>\n",
              "      <td>-1.030483</td>\n",
              "      <td>-1.722674</td>\n",
              "      <td>0.245522</td>\n",
              "      <td>0.137925</td>\n",
              "      <td>1.380657</td>\n",
              "      <td>-1.422165</td>\n",
              "      <td>0.264777</td>\n",
              "      <td>0.121004</td>\n",
              "      <td>0.135731</td>\n",
              "      <td>0.026597</td>\n",
              "      <td>0.020582</td>\n",
              "    </tr>\n",
              "    <tr>\n",
              "      <th>2</th>\n",
              "      <td>2</td>\n",
              "      <td>1.0</td>\n",
              "      <td>15</td>\n",
              "      <td>20160402</td>\n",
              "      <td>0.0</td>\n",
              "      <td>0.0</td>\n",
              "      <td>12.5</td>\n",
              "      <td>115.0</td>\n",
              "      <td>14874</td>\n",
              "      <td>0.0</td>\n",
              "      <td>0</td>\n",
              "      <td>163</td>\n",
              "      <td>6222.0</td>\n",
              "      <td>20040403</td>\n",
              "      <td>2806</td>\n",
              "      <td>0</td>\n",
              "      <td>1</td>\n",
              "      <td>45.978359</td>\n",
              "      <td>4.823792</td>\n",
              "      <td>-4.846749</td>\n",
              "      <td>1.803559</td>\n",
              "      <td>1.565330</td>\n",
              "      <td>-0.832687</td>\n",
              "      <td>-0.229963</td>\n",
              "      <td>1.319524</td>\n",
              "      <td>-0.998467</td>\n",
              "      <td>-0.996911</td>\n",
              "      <td>0.251410</td>\n",
              "      <td>0.114912</td>\n",
              "      <td>0.165147</td>\n",
              "      <td>0.062173</td>\n",
              "      <td>0.027075</td>\n",
              "    </tr>\n",
              "    <tr>\n",
              "      <th>3</th>\n",
              "      <td>3</td>\n",
              "      <td>0.0</td>\n",
              "      <td>10</td>\n",
              "      <td>20160312</td>\n",
              "      <td>0.0</td>\n",
              "      <td>1.0</td>\n",
              "      <td>15.0</td>\n",
              "      <td>109.0</td>\n",
              "      <td>71865</td>\n",
              "      <td>0.0</td>\n",
              "      <td>0</td>\n",
              "      <td>193</td>\n",
              "      <td>2400.0</td>\n",
              "      <td>19960908</td>\n",
              "      <td>434</td>\n",
              "      <td>0</td>\n",
              "      <td>1</td>\n",
              "      <td>45.687478</td>\n",
              "      <td>4.492574</td>\n",
              "      <td>-4.509599</td>\n",
              "      <td>1.285940</td>\n",
              "      <td>-0.501868</td>\n",
              "      <td>-2.438353</td>\n",
              "      <td>-0.478699</td>\n",
              "      <td>-0.050616</td>\n",
              "      <td>0.883600</td>\n",
              "      <td>-2.228079</td>\n",
              "      <td>0.274293</td>\n",
              "      <td>0.110300</td>\n",
              "      <td>0.121964</td>\n",
              "      <td>0.033395</td>\n",
              "      <td>0.000000</td>\n",
              "    </tr>\n",
              "    <tr>\n",
              "      <th>4</th>\n",
              "      <td>4</td>\n",
              "      <td>1.0</td>\n",
              "      <td>5</td>\n",
              "      <td>20160313</td>\n",
              "      <td>0.0</td>\n",
              "      <td>0.0</td>\n",
              "      <td>5.0</td>\n",
              "      <td>110.0</td>\n",
              "      <td>111080</td>\n",
              "      <td>0.0</td>\n",
              "      <td>0</td>\n",
              "      <td>68</td>\n",
              "      <td>5200.0</td>\n",
              "      <td>20120103</td>\n",
              "      <td>6977</td>\n",
              "      <td>0</td>\n",
              "      <td>1</td>\n",
              "      <td>44.383511</td>\n",
              "      <td>2.031433</td>\n",
              "      <td>-1.896240</td>\n",
              "      <td>0.910783</td>\n",
              "      <td>0.931110</td>\n",
              "      <td>2.834518</td>\n",
              "      <td>1.923482</td>\n",
              "      <td>0.572169</td>\n",
              "      <td>-1.571239</td>\n",
              "      <td>2.246088</td>\n",
              "      <td>0.228036</td>\n",
              "      <td>0.073205</td>\n",
              "      <td>0.091880</td>\n",
              "      <td>0.078819</td>\n",
              "      <td>0.121534</td>\n",
              "    </tr>\n",
              "    <tr>\n",
              "      <th>...</th>\n",
              "      <td>...</td>\n",
              "      <td>...</td>\n",
              "      <td>...</td>\n",
              "      <td>...</td>\n",
              "      <td>...</td>\n",
              "      <td>...</td>\n",
              "      <td>...</td>\n",
              "      <td>...</td>\n",
              "      <td>...</td>\n",
              "      <td>...</td>\n",
              "      <td>...</td>\n",
              "      <td>...</td>\n",
              "      <td>...</td>\n",
              "      <td>...</td>\n",
              "      <td>...</td>\n",
              "      <td>...</td>\n",
              "      <td>...</td>\n",
              "      <td>...</td>\n",
              "      <td>...</td>\n",
              "      <td>...</td>\n",
              "      <td>...</td>\n",
              "      <td>...</td>\n",
              "      <td>...</td>\n",
              "      <td>...</td>\n",
              "      <td>...</td>\n",
              "      <td>...</td>\n",
              "      <td>...</td>\n",
              "      <td>...</td>\n",
              "      <td>...</td>\n",
              "      <td>...</td>\n",
              "      <td>...</td>\n",
              "      <td>...</td>\n",
              "    </tr>\n",
              "    <tr>\n",
              "      <th>199032</th>\n",
              "      <td>199995</td>\n",
              "      <td>4.0</td>\n",
              "      <td>4</td>\n",
              "      <td>20160320</td>\n",
              "      <td>0.0</td>\n",
              "      <td>0.0</td>\n",
              "      <td>15.0</td>\n",
              "      <td>4.0</td>\n",
              "      <td>20903</td>\n",
              "      <td>0.0</td>\n",
              "      <td>0</td>\n",
              "      <td>116</td>\n",
              "      <td>NaN</td>\n",
              "      <td>19960503</td>\n",
              "      <td>3219</td>\n",
              "      <td>0</td>\n",
              "      <td>0</td>\n",
              "      <td>45.621391</td>\n",
              "      <td>5.958453</td>\n",
              "      <td>-5.978511</td>\n",
              "      <td>1.303174</td>\n",
              "      <td>-1.207191</td>\n",
              "      <td>-1.981240</td>\n",
              "      <td>-0.357695</td>\n",
              "      <td>-0.918571</td>\n",
              "      <td>0.774826</td>\n",
              "      <td>-2.021739</td>\n",
              "      <td>0.284664</td>\n",
              "      <td>0.130044</td>\n",
              "      <td>0.049833</td>\n",
              "      <td>0.028807</td>\n",
              "      <td>0.004616</td>\n",
              "    </tr>\n",
              "    <tr>\n",
              "      <th>199033</th>\n",
              "      <td>199996</td>\n",
              "      <td>0.0</td>\n",
              "      <td>0</td>\n",
              "      <td>20160329</td>\n",
              "      <td>0.0</td>\n",
              "      <td>0.0</td>\n",
              "      <td>15.0</td>\n",
              "      <td>0.0</td>\n",
              "      <td>708</td>\n",
              "      <td>0.0</td>\n",
              "      <td>0</td>\n",
              "      <td>75</td>\n",
              "      <td>NaN</td>\n",
              "      <td>19991011</td>\n",
              "      <td>1857</td>\n",
              "      <td>0</td>\n",
              "      <td>0</td>\n",
              "      <td>43.935162</td>\n",
              "      <td>4.476841</td>\n",
              "      <td>-3.913825</td>\n",
              "      <td>1.759524</td>\n",
              "      <td>-2.075658</td>\n",
              "      <td>-1.154847</td>\n",
              "      <td>0.169073</td>\n",
              "      <td>-0.841710</td>\n",
              "      <td>1.328253</td>\n",
              "      <td>-1.292675</td>\n",
              "      <td>0.268101</td>\n",
              "      <td>0.108095</td>\n",
              "      <td>0.066039</td>\n",
              "      <td>0.025468</td>\n",
              "      <td>0.025971</td>\n",
              "    </tr>\n",
              "    <tr>\n",
              "      <th>199034</th>\n",
              "      <td>199997</td>\n",
              "      <td>0.0</td>\n",
              "      <td>1</td>\n",
              "      <td>20160305</td>\n",
              "      <td>1.0</td>\n",
              "      <td>1.0</td>\n",
              "      <td>15.0</td>\n",
              "      <td>49.0</td>\n",
              "      <td>6693</td>\n",
              "      <td>0.0</td>\n",
              "      <td>0</td>\n",
              "      <td>224</td>\n",
              "      <td>NaN</td>\n",
              "      <td>20040412</td>\n",
              "      <td>3452</td>\n",
              "      <td>0</td>\n",
              "      <td>0</td>\n",
              "      <td>46.537137</td>\n",
              "      <td>4.170806</td>\n",
              "      <td>-4.639065</td>\n",
              "      <td>0.654713</td>\n",
              "      <td>1.137756</td>\n",
              "      <td>-1.390531</td>\n",
              "      <td>0.254420</td>\n",
              "      <td>0.388595</td>\n",
              "      <td>-0.704689</td>\n",
              "      <td>-1.480710</td>\n",
              "      <td>0.269432</td>\n",
              "      <td>0.105724</td>\n",
              "      <td>0.117652</td>\n",
              "      <td>0.057479</td>\n",
              "      <td>0.015669</td>\n",
              "    </tr>\n",
              "    <tr>\n",
              "      <th>199035</th>\n",
              "      <td>199998</td>\n",
              "      <td>0.0</td>\n",
              "      <td>1</td>\n",
              "      <td>20160404</td>\n",
              "      <td>0.0</td>\n",
              "      <td>1.0</td>\n",
              "      <td>15.0</td>\n",
              "      <td>27.0</td>\n",
              "      <td>96900</td>\n",
              "      <td>0.0</td>\n",
              "      <td>0</td>\n",
              "      <td>334</td>\n",
              "      <td>NaN</td>\n",
              "      <td>20020008</td>\n",
              "      <td>1998</td>\n",
              "      <td>0</td>\n",
              "      <td>0</td>\n",
              "      <td>46.771359</td>\n",
              "      <td>-3.296814</td>\n",
              "      <td>1.833504</td>\n",
              "      <td>-2.828687</td>\n",
              "      <td>2.465630</td>\n",
              "      <td>-0.911682</td>\n",
              "      <td>-2.057353</td>\n",
              "      <td>0.243566</td>\n",
              "      <td>-1.277411</td>\n",
              "      <td>-0.404881</td>\n",
              "      <td>0.261152</td>\n",
              "      <td>0.000490</td>\n",
              "      <td>0.137366</td>\n",
              "      <td>0.086216</td>\n",
              "      <td>0.051383</td>\n",
              "    </tr>\n",
              "    <tr>\n",
              "      <th>199036</th>\n",
              "      <td>199999</td>\n",
              "      <td>1.0</td>\n",
              "      <td>6</td>\n",
              "      <td>20160322</td>\n",
              "      <td>NaN</td>\n",
              "      <td>1.0</td>\n",
              "      <td>9.0</td>\n",
              "      <td>166.0</td>\n",
              "      <td>193384</td>\n",
              "      <td>0.0</td>\n",
              "      <td>0</td>\n",
              "      <td>68</td>\n",
              "      <td>NaN</td>\n",
              "      <td>20041109</td>\n",
              "      <td>3276</td>\n",
              "      <td>0</td>\n",
              "      <td>0</td>\n",
              "      <td>43.731010</td>\n",
              "      <td>-3.121867</td>\n",
              "      <td>2.914571</td>\n",
              "      <td>-1.135270</td>\n",
              "      <td>0.547628</td>\n",
              "      <td>2.094057</td>\n",
              "      <td>-1.552150</td>\n",
              "      <td>0.027348</td>\n",
              "      <td>-0.808914</td>\n",
              "      <td>2.116551</td>\n",
              "      <td>0.228730</td>\n",
              "      <td>0.000300</td>\n",
              "      <td>0.103534</td>\n",
              "      <td>0.080625</td>\n",
              "      <td>0.124264</td>\n",
              "    </tr>\n",
              "  </tbody>\n",
              "</table>\n",
              "<p>199037 rows × 32 columns</p>\n",
              "</div>"
            ],
            "text/plain": [
              "        SaleID  bodyType  brand  ...       v_7       v_8       v_9\n",
              "0            0       1.0      6  ...  0.129549  0.022816  0.097462\n",
              "1            1       2.0      1  ...  0.135731  0.026597  0.020582\n",
              "2            2       1.0     15  ...  0.165147  0.062173  0.027075\n",
              "3            3       0.0     10  ...  0.121964  0.033395  0.000000\n",
              "4            4       1.0      5  ...  0.091880  0.078819  0.121534\n",
              "...        ...       ...    ...  ...       ...       ...       ...\n",
              "199032  199995       4.0      4  ...  0.049833  0.028807  0.004616\n",
              "199033  199996       0.0      0  ...  0.066039  0.025468  0.025971\n",
              "199034  199997       0.0      1  ...  0.117652  0.057479  0.015669\n",
              "199035  199998       0.0      1  ...  0.137366  0.086216  0.051383\n",
              "199036  199999       1.0      6  ...  0.103534  0.080625  0.124264\n",
              "\n",
              "[199037 rows x 32 columns]"
            ]
          },
          "metadata": {
            "tags": []
          },
          "execution_count": 6
        }
      ]
    },
    {
      "cell_type": "code",
      "metadata": {
        "id": "UWsQGqWku8ea",
        "colab_type": "code",
        "colab": {}
      },
      "source": [
        "#使用时间：data['creatDate'] - data['regDate']，反应汽车使用时间，一般来说与价格呈反比\n",
        "#不过要注意，数据里面有时间出错的格式，所以我们要 errors = 'coerce'将无效值强制变为Nan\n",
        "data['used_time'] = (\n",
        "    pd.to_datetime(data['creatDate'],format = '%Y%m%d',errors = 'coerce')-\n",
        "    pd.to_datetime(data['regDate'],format = '%Y%m%d',errors = 'coerce')\n",
        ")"
      ],
      "execution_count": 0,
      "outputs": []
    },
    {
      "cell_type": "code",
      "metadata": {
        "id": "N4cZaOmmwiRy",
        "colab_type": "code",
        "colab": {
          "base_uri": "https://localhost:8080/",
          "height": 34
        },
        "outputId": "415520db-efbf-468e-b47c-519b4b92d2c0"
      },
      "source": [
        "#看一下空数据，有15k个样本是有问题的，可以选择清除，也可以选择放着\n",
        "#这里不建议清除，因为删除缺失数据占总样本量过大，7.5%\n",
        "#我们可以先放着，因为我们用XGBoost决策树，本身就能处理缺失值\n",
        "data['used_time'].isnull().sum()"
      ],
      "execution_count": 8,
      "outputs": [
        {
          "output_type": "execute_result",
          "data": {
            "text/plain": [
              "15072"
            ]
          },
          "metadata": {
            "tags": []
          },
          "execution_count": 8
        }
      ]
    },
    {
      "cell_type": "code",
      "metadata": {
        "id": "XaSbzznXxI1y",
        "colab_type": "code",
        "colab": {}
      },
      "source": [
        "#从邮编中提取城市信息，相当于加入了先验知识\n",
        "data['city'] = data['regionCode'].apply(lambda x : str(x)[:-3])\n",
        "data = data"
      ],
      "execution_count": 0,
      "outputs": []
    },
    {
      "cell_type": "code",
      "metadata": {
        "id": "A_3nGwH7yArr",
        "colab_type": "code",
        "colab": {}
      },
      "source": [
        "#计算某**品牌**的销售统计额，还可以计算其他特征的统计量\n",
        "#这里以train的数据计算统计量\n",
        "Train_gb = Train_data.groupby('brand')\n",
        "all_info = {}\n",
        "for kind, kind_data in Train_gb:\n",
        "  info = {}\n",
        "  #kind_data是pandas的dataframe\n",
        "  kind_data = kind_data[kind_data['price'] > 0] #布尔索引\n",
        "  #print(kind_data.price)\n",
        "  info['brand_amount'] = len(kind_data) #字典添加\n",
        "  info['brand_price_max'] = kind_data.price.max()\n",
        "  info['brand_price_median'] = kind_data.price.median()\n",
        "  info['brand_price_sum'] = kind_data.price.sum()\n",
        "  info['brand_price_min'] = kind_data.price.min()\n",
        "  info['brand_price_std'] = kind_data.price.std()\n",
        "  info['brand_price_average'] = round(kind_data.price.sum() / (len(kind_data) + 1))\n",
        "  all_info[kind] = info\n",
        "\n",
        "brand_fe = pd.DataFrame(all_info).T.reset_index().rename(columns = {'index': 'brand'}) # index列名改为brand\n",
        "data = data.merge(brand_fe, how = 'left', on = 'brand')\n",
        "#left：以data为准，用brand这一列merge\n",
        "\n"
      ],
      "execution_count": 0,
      "outputs": []
    },
    {
      "cell_type": "code",
      "metadata": {
        "id": "1dsjlJx41Ehi",
        "colab_type": "code",
        "colab": {}
      },
      "source": [
        "#groupby用法\n",
        "#df = pd.DataFrame({'key1':list('aabba'),\n",
        "#                  'key2': ['one','two','one','two','one'],\n",
        "#                  'data1': np.random.randn(5),\n",
        "#                  'data2': np.random.randn(5)})\n",
        "#df\n",
        "#grouped=df.groupby(df['key1'])\n",
        "#for name, group in df.groupby('key1'):\n",
        "#        print (name)\n",
        "#        print (group)"
      ],
      "execution_count": 0,
      "outputs": []
    },
    {
      "cell_type": "code",
      "metadata": {
        "id": "drNUGDpy8UjH",
        "colab_type": "code",
        "colab": {
          "base_uri": "https://localhost:8080/",
          "height": 419
        },
        "outputId": "dc776d4e-efa2-4968-cd80-a38df17e955e"
      },
      "source": [
        "# 数据分桶 以 power 为例\n",
        "# 这时候缺失值也进桶了，分桶好处：\n",
        "# 1. 离散后稀疏向量内积乘法运算速度更快，计算结果也方便存储，容易扩展；\n",
        "# 2. 离散后的特征对异常值更具鲁棒性，如 age>30 为 1 否则为 0，对于年龄为 200 的也不会对模型造成很大的干扰；\n",
        "# 3. LR 属于广义线性模型，表达能力有限，经过离散化后，每个变量有单独的权重，这相当于引入了非线性，能够提升模型的表达能力，加大拟合；\n",
        "# 4. 离散后特征可以进行特征交叉，提升表达能力，由 M+N 个变量编程 M*N 个变量，进一步引入非线形，提升了表达能力；\n",
        "# 5. 特征离散后模型更稳定，如用户年龄区间，不会因为用户年龄长了一岁就变化\n",
        "\n",
        "# 当然还有很多原因，LightGBM 在改进 XGBoost 时就增加了数据分桶，增强了模型的泛化性\n",
        "\n",
        "bin = [i*10 for i in range(31)]\n",
        "#bin:[0, 10,20,30,40,50,60...300] 分成不同区间\n",
        "data['power_bin'] = pd.cut(data['power'], bin, labels=False)\n",
        "#power_bin 是第几桶的意思 cut函数：按区间分数据\n",
        "data[['power_bin', 'power']]\n",
        "\n"
      ],
      "execution_count": 12,
      "outputs": [
        {
          "output_type": "execute_result",
          "data": {
            "text/html": [
              "<div>\n",
              "<style scoped>\n",
              "    .dataframe tbody tr th:only-of-type {\n",
              "        vertical-align: middle;\n",
              "    }\n",
              "\n",
              "    .dataframe tbody tr th {\n",
              "        vertical-align: top;\n",
              "    }\n",
              "\n",
              "    .dataframe thead th {\n",
              "        text-align: right;\n",
              "    }\n",
              "</style>\n",
              "<table border=\"1\" class=\"dataframe\">\n",
              "  <thead>\n",
              "    <tr style=\"text-align: right;\">\n",
              "      <th></th>\n",
              "      <th>power_bin</th>\n",
              "      <th>power</th>\n",
              "    </tr>\n",
              "  </thead>\n",
              "  <tbody>\n",
              "    <tr>\n",
              "      <th>0</th>\n",
              "      <td>5.0</td>\n",
              "      <td>60</td>\n",
              "    </tr>\n",
              "    <tr>\n",
              "      <th>1</th>\n",
              "      <td>NaN</td>\n",
              "      <td>0</td>\n",
              "    </tr>\n",
              "    <tr>\n",
              "      <th>2</th>\n",
              "      <td>16.0</td>\n",
              "      <td>163</td>\n",
              "    </tr>\n",
              "    <tr>\n",
              "      <th>3</th>\n",
              "      <td>19.0</td>\n",
              "      <td>193</td>\n",
              "    </tr>\n",
              "    <tr>\n",
              "      <th>4</th>\n",
              "      <td>6.0</td>\n",
              "      <td>68</td>\n",
              "    </tr>\n",
              "    <tr>\n",
              "      <th>...</th>\n",
              "      <td>...</td>\n",
              "      <td>...</td>\n",
              "    </tr>\n",
              "    <tr>\n",
              "      <th>199032</th>\n",
              "      <td>11.0</td>\n",
              "      <td>116</td>\n",
              "    </tr>\n",
              "    <tr>\n",
              "      <th>199033</th>\n",
              "      <td>7.0</td>\n",
              "      <td>75</td>\n",
              "    </tr>\n",
              "    <tr>\n",
              "      <th>199034</th>\n",
              "      <td>22.0</td>\n",
              "      <td>224</td>\n",
              "    </tr>\n",
              "    <tr>\n",
              "      <th>199035</th>\n",
              "      <td>NaN</td>\n",
              "      <td>334</td>\n",
              "    </tr>\n",
              "    <tr>\n",
              "      <th>199036</th>\n",
              "      <td>6.0</td>\n",
              "      <td>68</td>\n",
              "    </tr>\n",
              "  </tbody>\n",
              "</table>\n",
              "<p>199037 rows × 2 columns</p>\n",
              "</div>"
            ],
            "text/plain": [
              "        power_bin  power\n",
              "0             5.0     60\n",
              "1             NaN      0\n",
              "2            16.0    163\n",
              "3            19.0    193\n",
              "4             6.0     68\n",
              "...           ...    ...\n",
              "199032       11.0    116\n",
              "199033        7.0     75\n",
              "199034       22.0    224\n",
              "199035        NaN    334\n",
              "199036        6.0     68\n",
              "\n",
              "[199037 rows x 2 columns]"
            ]
          },
          "metadata": {
            "tags": []
          },
          "execution_count": 12
        }
      ]
    },
    {
      "cell_type": "code",
      "metadata": {
        "id": "ZqSDpTtL9UxO",
        "colab_type": "code",
        "colab": {}
      },
      "source": [
        "#删除不需要的数据\n",
        "data = data.drop(['creatDate', 'regDate', 'regionCode'], axis = 1)"
      ],
      "execution_count": 0,
      "outputs": []
    },
    {
      "cell_type": "code",
      "metadata": {
        "id": "s3wfWmmI-jot",
        "colab_type": "code",
        "colab": {
          "base_uri": "https://localhost:8080/",
          "height": 190
        },
        "outputId": "28dd6322-55c6-4675-ac92-774853df5c0b"
      },
      "source": [
        "print(data.shape)\n",
        "data.columns"
      ],
      "execution_count": 14,
      "outputs": [
        {
          "output_type": "stream",
          "text": [
            "(199037, 39)\n"
          ],
          "name": "stdout"
        },
        {
          "output_type": "execute_result",
          "data": {
            "text/plain": [
              "Index(['SaleID', 'bodyType', 'brand', 'fuelType', 'gearbox', 'kilometer',\n",
              "       'model', 'name', 'notRepairedDamage', 'offerType', 'power', 'price',\n",
              "       'seller', 'train', 'v_0', 'v_1', 'v_10', 'v_11', 'v_12', 'v_13', 'v_14',\n",
              "       'v_2', 'v_3', 'v_4', 'v_5', 'v_6', 'v_7', 'v_8', 'v_9', 'used_time',\n",
              "       'city', 'brand_amount', 'brand_price_max', 'brand_price_median',\n",
              "       'brand_price_sum', 'brand_price_min', 'brand_price_std',\n",
              "       'brand_price_average', 'power_bin'],\n",
              "      dtype='object')"
            ]
          },
          "metadata": {
            "tags": []
          },
          "execution_count": 14
        }
      ]
    },
    {
      "cell_type": "code",
      "metadata": {
        "id": "Ukur_koN-mmT",
        "colab_type": "code",
        "colab": {}
      },
      "source": [
        "#目前的数据已经可以给树模型了，导入一下\n",
        "data.to_csv('data_for_tree.csv', index = 0)"
      ],
      "execution_count": 0,
      "outputs": []
    },
    {
      "cell_type": "code",
      "metadata": {
        "id": "A3qCe8nWrAIi",
        "colab_type": "code",
        "colab": {
          "base_uri": "https://localhost:8080/",
          "height": 282
        },
        "outputId": "d6f72ec3-5580-49cc-90f2-400a902e301c"
      },
      "source": [
        "#也可以再构造一份特征给LR或者NN使用\n",
        "#看一下数据分布\n",
        "data['power'].plot.hist()"
      ],
      "execution_count": 16,
      "outputs": [
        {
          "output_type": "execute_result",
          "data": {
            "text/plain": [
              "<matplotlib.axes._subplots.AxesSubplot at 0x7ff1400ef128>"
            ]
          },
          "metadata": {
            "tags": []
          },
          "execution_count": 16
        },
        {
          "output_type": "display_data",
          "data": {
            "image/png": "[encoded data removed]",
            "text/plain": [
              "<Figure size 432x288 with 1 Axes>"
            ]
          },
          "metadata": {
            "tags": []
          }
        }
      ]
    },
    {
      "cell_type": "code",
      "metadata": {
        "id": "5cOfhteorLi7",
        "colab_type": "code",
        "colab": {
          "base_uri": "https://localhost:8080/",
          "height": 282
        },
        "outputId": "aa75f85b-2e21-4ddf-f399-cd8f71765a91"
      },
      "source": [
        "# 我们刚刚已经对 train 进行异常值处理了，但是现在还有这么奇怪的分布是因为 test 中的 power 异常值，\n",
        "# 所以我们其实刚刚 train 中的 power 异常值不删为好，可以用长尾分布截断来代替\n",
        "Train_data['power'].plot.hist()"
      ],
      "execution_count": 17,
      "outputs": [
        {
          "output_type": "execute_result",
          "data": {
            "text/plain": [
              "<matplotlib.axes._subplots.AxesSubplot at 0x7ff14c716048>"
            ]
          },
          "metadata": {
            "tags": []
          },
          "execution_count": 17
        },
        {
          "output_type": "display_data",
          "data": {
            "image/png": "[encoded data removed]",
            "text/plain": [
              "<Figure size 432x288 with 1 Axes>"
            ]
          },
          "metadata": {
            "tags": []
          }
        }
      ]
    },
    {
      "cell_type": "code",
      "metadata": {
        "id": "SOY6KuSyrPoc",
        "colab_type": "code",
        "colab": {
          "base_uri": "https://localhost:8080/",
          "height": 282
        },
        "outputId": "ce87c312-9b2f-4dc6-c2c4-dbe020a121fd"
      },
      "source": [
        "#我们对其取log再归一化\n",
        "from sklearn import preprocessing\n",
        "min_max_scaler = preprocessing.MinMaxScaler()\n",
        "data['power'] = np.log(data['power'] + 1)\n",
        "data['power'] = ((data['power'] - np.min(data['power'])) / (np.max(data['power']) - np.min(data['power'])))\n",
        "data['power'].plot.hist()"
      ],
      "execution_count": 18,
      "outputs": [
        {
          "output_type": "execute_result",
          "data": {
            "text/plain": [
              "<matplotlib.axes._subplots.AxesSubplot at 0x7ff13f1b9518>"
            ]
          },
          "metadata": {
            "tags": []
          },
          "execution_count": 18
        },
        {
          "output_type": "display_data",
          "data": {
            "image/png": "[encoded data removed]",
            "text/plain": [
              "<Figure size 432x288 with 1 Axes>"
            ]
          },
          "metadata": {
            "tags": []
          }
        }
      ]
    },
    {
      "cell_type": "code",
      "metadata": {
        "id": "S4_LmDsPsAMh",
        "colab_type": "code",
        "colab": {
          "base_uri": "https://localhost:8080/",
          "height": 282
        },
        "outputId": "39e5579e-3f43-43cb-90d4-091c2675d28d"
      },
      "source": [
        "# km 的比较正常，应该是已经做过分桶了\n",
        "data['kilometer'].plot.hist()"
      ],
      "execution_count": 19,
      "outputs": [
        {
          "output_type": "execute_result",
          "data": {
            "text/plain": [
              "<matplotlib.axes._subplots.AxesSubplot at 0x7ff13fad33c8>"
            ]
          },
          "metadata": {
            "tags": []
          },
          "execution_count": 19
        },
        {
          "output_type": "display_data",
          "data": {
            "image/png": "[encoded data removed]",
            "text/plain": [
              "<Figure size 432x288 with 1 Axes>"
            ]
          },
          "metadata": {
            "tags": []
          }
        }
      ]
    },
    {
      "cell_type": "code",
      "metadata": {
        "id": "OYAz8byrsBnJ",
        "colab_type": "code",
        "colab": {
          "base_uri": "https://localhost:8080/",
          "height": 282
        },
        "outputId": "b45d1a09-1647-4085-af94-e8a63624f8c7"
      },
      "source": [
        "# 所以我们可以直接做归一化\n",
        "data['kilometer'] = ((data['kilometer'] - np.min(data['kilometer'])) / \n",
        "                        (np.max(data['kilometer']) - np.min(data['kilometer'])))\n",
        "data['kilometer'].plot.hist()"
      ],
      "execution_count": 20,
      "outputs": [
        {
          "output_type": "execute_result",
          "data": {
            "text/plain": [
              "<matplotlib.axes._subplots.AxesSubplot at 0x7ff13f0bd4a8>"
            ]
          },
          "metadata": {
            "tags": []
          },
          "execution_count": 20
        },
        {
          "output_type": "display_data",
          "data": {
            "image/png": "[encoded data removed]",
            "text/plain": [
              "<Figure size 432x288 with 1 Axes>"
            ]
          },
          "metadata": {
            "tags": []
          }
        }
      ]
    },
    {
      "cell_type": "code",
      "metadata": {
        "id": "L5t4cN39sGIt",
        "colab_type": "code",
        "colab": {}
      },
      "source": [
        "# 除此之外 还有我们刚刚构造的统计量特征：\n",
        "# 'brand_amount', 'brand_price_average', 'brand_price_max',\n",
        "# 'brand_price_median', 'brand_price_min', 'brand_price_std',\n",
        "# 'brand_price_sum'\n",
        "# 不一一举例，直接做变换，\n",
        "def max_min(x):\n",
        "    return (x - np.min(x)) / (np.max(x) - np.min(x))\n",
        "\n",
        "data['brand_amount'] = ((data['brand_amount'] - np.min(data['brand_amount'])) / \n",
        "                        (np.max(data['brand_amount']) - np.min(data['brand_amount'])))\n",
        "data['brand_price_average'] = ((data['brand_price_average'] - np.min(data['brand_price_average'])) / \n",
        "                               (np.max(data['brand_price_average']) - np.min(data['brand_price_average'])))\n",
        "data['brand_price_max'] = ((data['brand_price_max'] - np.min(data['brand_price_max'])) / \n",
        "                           (np.max(data['brand_price_max']) - np.min(data['brand_price_max'])))\n",
        "data['brand_price_median'] = ((data['brand_price_median'] - np.min(data['brand_price_median'])) /\n",
        "                              (np.max(data['brand_price_median']) - np.min(data['brand_price_median'])))\n",
        "data['brand_price_min'] = ((data['brand_price_min'] - np.min(data['brand_price_min'])) / \n",
        "                           (np.max(data['brand_price_min']) - np.min(data['brand_price_min'])))\n",
        "data['brand_price_std'] = ((data['brand_price_std'] - np.min(data['brand_price_std'])) / \n",
        "                           (np.max(data['brand_price_std']) - np.min(data['brand_price_std'])))\n",
        "data['brand_price_sum'] = ((data['brand_price_sum'] - np.min(data['brand_price_sum'])) / \n",
        "                           (np.max(data['brand_price_sum']) - np.min(data['brand_price_sum'])))"
      ],
      "execution_count": 0,
      "outputs": []
    },
    {
      "cell_type": "code",
      "metadata": {
        "id": "rm-DVLiBsO5U",
        "colab_type": "code",
        "colab": {}
      },
      "source": [
        "# 对类别特征进行 OneEncoder\n",
        "data = pd.get_dummies(data, columns=['model', 'brand', 'bodyType', 'fuelType',\n",
        "                                     'gearbox', 'notRepairedDamage', 'power_bin'])"
      ],
      "execution_count": 0,
      "outputs": []
    },
    {
      "cell_type": "code",
      "metadata": {
        "id": "QqTogRLqscJF",
        "colab_type": "code",
        "colab": {
          "base_uri": "https://localhost:8080/",
          "height": 190
        },
        "outputId": "6051279d-f8e9-4f66-a3b2-8f2026e2fa41"
      },
      "source": [
        "print(data.shape)\n",
        "data.columns"
      ],
      "execution_count": 22,
      "outputs": [
        {
          "output_type": "stream",
          "text": [
            "(199037, 39)\n"
          ],
          "name": "stdout"
        },
        {
          "output_type": "execute_result",
          "data": {
            "text/plain": [
              "Index(['SaleID', 'bodyType', 'brand', 'fuelType', 'gearbox', 'kilometer',\n",
              "       'model', 'name', 'notRepairedDamage', 'offerType', 'power', 'price',\n",
              "       'seller', 'train', 'v_0', 'v_1', 'v_10', 'v_11', 'v_12', 'v_13', 'v_14',\n",
              "       'v_2', 'v_3', 'v_4', 'v_5', 'v_6', 'v_7', 'v_8', 'v_9', 'used_time',\n",
              "       'city', 'brand_amount', 'brand_price_max', 'brand_price_median',\n",
              "       'brand_price_sum', 'brand_price_min', 'brand_price_std',\n",
              "       'brand_price_average', 'power_bin'],\n",
              "      dtype='object')"
            ]
          },
          "metadata": {
            "tags": []
          },
          "execution_count": 22
        }
      ]
    },
    {
      "cell_type": "code",
      "metadata": {
        "id": "01YWN5i9sgpM",
        "colab_type": "code",
        "colab": {
          "base_uri": "https://localhost:8080/",
          "height": 439
        },
        "outputId": "92d7418c-90cd-45d7-bdce-6a4eefe03159"
      },
      "source": [
        "data"
      ],
      "execution_count": 23,
      "outputs": [
        {
          "output_type": "execute_result",
          "data": {
            "text/html": [
              "<div>\n",
              "<style scoped>\n",
              "    .dataframe tbody tr th:only-of-type {\n",
              "        vertical-align: middle;\n",
              "    }\n",
              "\n",
              "    .dataframe tbody tr th {\n",
              "        vertical-align: top;\n",
              "    }\n",
              "\n",
              "    .dataframe thead th {\n",
              "        text-align: right;\n",
              "    }\n",
              "</style>\n",
              "<table border=\"1\" class=\"dataframe\">\n",
              "  <thead>\n",
              "    <tr style=\"text-align: right;\">\n",
              "      <th></th>\n",
              "      <th>SaleID</th>\n",
              "      <th>bodyType</th>\n",
              "      <th>brand</th>\n",
              "      <th>fuelType</th>\n",
              "      <th>gearbox</th>\n",
              "      <th>kilometer</th>\n",
              "      <th>model</th>\n",
              "      <th>name</th>\n",
              "      <th>notRepairedDamage</th>\n",
              "      <th>offerType</th>\n",
              "      <th>power</th>\n",
              "      <th>price</th>\n",
              "      <th>seller</th>\n",
              "      <th>train</th>\n",
              "      <th>v_0</th>\n",
              "      <th>v_1</th>\n",
              "      <th>v_10</th>\n",
              "      <th>v_11</th>\n",
              "      <th>v_12</th>\n",
              "      <th>v_13</th>\n",
              "      <th>v_14</th>\n",
              "      <th>v_2</th>\n",
              "      <th>v_3</th>\n",
              "      <th>v_4</th>\n",
              "      <th>v_5</th>\n",
              "      <th>v_6</th>\n",
              "      <th>v_7</th>\n",
              "      <th>v_8</th>\n",
              "      <th>v_9</th>\n",
              "      <th>used_time</th>\n",
              "      <th>city</th>\n",
              "      <th>brand_amount</th>\n",
              "      <th>brand_price_max</th>\n",
              "      <th>brand_price_median</th>\n",
              "      <th>brand_price_sum</th>\n",
              "      <th>brand_price_min</th>\n",
              "      <th>brand_price_std</th>\n",
              "      <th>brand_price_average</th>\n",
              "      <th>power_bin</th>\n",
              "    </tr>\n",
              "  </thead>\n",
              "  <tbody>\n",
              "    <tr>\n",
              "      <th>0</th>\n",
              "      <td>0</td>\n",
              "      <td>1.0</td>\n",
              "      <td>6</td>\n",
              "      <td>0.0</td>\n",
              "      <td>0.0</td>\n",
              "      <td>0.827586</td>\n",
              "      <td>30.0</td>\n",
              "      <td>736</td>\n",
              "      <td>0.0</td>\n",
              "      <td>0</td>\n",
              "      <td>0.415091</td>\n",
              "      <td>1850.0</td>\n",
              "      <td>0</td>\n",
              "      <td>1</td>\n",
              "      <td>43.357796</td>\n",
              "      <td>3.966344</td>\n",
              "      <td>-2.881803</td>\n",
              "      <td>2.804097</td>\n",
              "      <td>-2.420821</td>\n",
              "      <td>0.795292</td>\n",
              "      <td>0.914762</td>\n",
              "      <td>0.050257</td>\n",
              "      <td>2.159744</td>\n",
              "      <td>1.143786</td>\n",
              "      <td>0.235676</td>\n",
              "      <td>0.101988</td>\n",
              "      <td>0.129549</td>\n",
              "      <td>0.022816</td>\n",
              "      <td>0.097462</td>\n",
              "      <td>4385 days</td>\n",
              "      <td>1</td>\n",
              "      <td>0.324125</td>\n",
              "      <td>0.340786</td>\n",
              "      <td>0.032075</td>\n",
              "      <td>0.209684</td>\n",
              "      <td>0.002064</td>\n",
              "      <td>0.207660</td>\n",
              "      <td>0.081629</td>\n",
              "      <td>5.0</td>\n",
              "    </tr>\n",
              "    <tr>\n",
              "      <th>1</th>\n",
              "      <td>1</td>\n",
              "      <td>2.0</td>\n",
              "      <td>1</td>\n",
              "      <td>0.0</td>\n",
              "      <td>0.0</td>\n",
              "      <td>1.000000</td>\n",
              "      <td>40.0</td>\n",
              "      <td>2262</td>\n",
              "      <td>-</td>\n",
              "      <td>0</td>\n",
              "      <td>0.000000</td>\n",
              "      <td>3600.0</td>\n",
              "      <td>0</td>\n",
              "      <td>1</td>\n",
              "      <td>45.305273</td>\n",
              "      <td>5.236112</td>\n",
              "      <td>-4.900482</td>\n",
              "      <td>2.096338</td>\n",
              "      <td>-1.030483</td>\n",
              "      <td>-1.722674</td>\n",
              "      <td>0.245522</td>\n",
              "      <td>0.137925</td>\n",
              "      <td>1.380657</td>\n",
              "      <td>-1.422165</td>\n",
              "      <td>0.264777</td>\n",
              "      <td>0.121004</td>\n",
              "      <td>0.135731</td>\n",
              "      <td>0.026597</td>\n",
              "      <td>0.020582</td>\n",
              "      <td>4757 days</td>\n",
              "      <td>4</td>\n",
              "      <td>0.434341</td>\n",
              "      <td>0.835230</td>\n",
              "      <td>0.205623</td>\n",
              "      <td>0.713985</td>\n",
              "      <td>0.004128</td>\n",
              "      <td>0.437002</td>\n",
              "      <td>0.257297</td>\n",
              "      <td>NaN</td>\n",
              "    </tr>\n",
              "    <tr>\n",
              "      <th>2</th>\n",
              "      <td>2</td>\n",
              "      <td>1.0</td>\n",
              "      <td>15</td>\n",
              "      <td>0.0</td>\n",
              "      <td>0.0</td>\n",
              "      <td>0.827586</td>\n",
              "      <td>115.0</td>\n",
              "      <td>14874</td>\n",
              "      <td>0.0</td>\n",
              "      <td>0</td>\n",
              "      <td>0.514954</td>\n",
              "      <td>6222.0</td>\n",
              "      <td>0</td>\n",
              "      <td>1</td>\n",
              "      <td>45.978359</td>\n",
              "      <td>4.823792</td>\n",
              "      <td>-4.846749</td>\n",
              "      <td>1.803559</td>\n",
              "      <td>1.565330</td>\n",
              "      <td>-0.832687</td>\n",
              "      <td>-0.229963</td>\n",
              "      <td>1.319524</td>\n",
              "      <td>-0.998467</td>\n",
              "      <td>-0.996911</td>\n",
              "      <td>0.251410</td>\n",
              "      <td>0.114912</td>\n",
              "      <td>0.165147</td>\n",
              "      <td>0.062173</td>\n",
              "      <td>0.027075</td>\n",
              "      <td>4382 days</td>\n",
              "      <td>2</td>\n",
              "      <td>0.046117</td>\n",
              "      <td>0.433578</td>\n",
              "      <td>0.284906</td>\n",
              "      <td>0.082533</td>\n",
              "      <td>0.091847</td>\n",
              "      <td>0.252362</td>\n",
              "      <td>0.281827</td>\n",
              "      <td>16.0</td>\n",
              "    </tr>\n",
              "    <tr>\n",
              "      <th>3</th>\n",
              "      <td>3</td>\n",
              "      <td>0.0</td>\n",
              "      <td>10</td>\n",
              "      <td>0.0</td>\n",
              "      <td>1.0</td>\n",
              "      <td>1.000000</td>\n",
              "      <td>109.0</td>\n",
              "      <td>71865</td>\n",
              "      <td>0.0</td>\n",
              "      <td>0</td>\n",
              "      <td>0.531917</td>\n",
              "      <td>2400.0</td>\n",
              "      <td>0</td>\n",
              "      <td>1</td>\n",
              "      <td>45.687478</td>\n",
              "      <td>4.492574</td>\n",
              "      <td>-4.509599</td>\n",
              "      <td>1.285940</td>\n",
              "      <td>-0.501868</td>\n",
              "      <td>-2.438353</td>\n",
              "      <td>-0.478699</td>\n",
              "      <td>-0.050616</td>\n",
              "      <td>0.883600</td>\n",
              "      <td>-2.228079</td>\n",
              "      <td>0.274293</td>\n",
              "      <td>0.110300</td>\n",
              "      <td>0.121964</td>\n",
              "      <td>0.033395</td>\n",
              "      <td>0.000000</td>\n",
              "      <td>7125 days</td>\n",
              "      <td></td>\n",
              "      <td>0.445099</td>\n",
              "      <td>0.926889</td>\n",
              "      <td>0.160377</td>\n",
              "      <td>0.650591</td>\n",
              "      <td>0.004128</td>\n",
              "      <td>0.398447</td>\n",
              "      <td>0.225207</td>\n",
              "      <td>19.0</td>\n",
              "    </tr>\n",
              "    <tr>\n",
              "      <th>4</th>\n",
              "      <td>4</td>\n",
              "      <td>1.0</td>\n",
              "      <td>5</td>\n",
              "      <td>0.0</td>\n",
              "      <td>0.0</td>\n",
              "      <td>0.310345</td>\n",
              "      <td>110.0</td>\n",
              "      <td>111080</td>\n",
              "      <td>0.0</td>\n",
              "      <td>0</td>\n",
              "      <td>0.427535</td>\n",
              "      <td>5200.0</td>\n",
              "      <td>0</td>\n",
              "      <td>1</td>\n",
              "      <td>44.383511</td>\n",
              "      <td>2.031433</td>\n",
              "      <td>-1.896240</td>\n",
              "      <td>0.910783</td>\n",
              "      <td>0.931110</td>\n",
              "      <td>2.834518</td>\n",
              "      <td>1.923482</td>\n",
              "      <td>0.572169</td>\n",
              "      <td>-1.571239</td>\n",
              "      <td>2.246088</td>\n",
              "      <td>0.228036</td>\n",
              "      <td>0.073205</td>\n",
              "      <td>0.091880</td>\n",
              "      <td>0.078819</td>\n",
              "      <td>0.121534</td>\n",
              "      <td>1531 days</td>\n",
              "      <td>6</td>\n",
              "      <td>0.148090</td>\n",
              "      <td>0.294545</td>\n",
              "      <td>0.050943</td>\n",
              "      <td>0.088524</td>\n",
              "      <td>0.009288</td>\n",
              "      <td>0.144579</td>\n",
              "      <td>0.073017</td>\n",
              "      <td>6.0</td>\n",
              "    </tr>\n",
              "    <tr>\n",
              "      <th>...</th>\n",
              "      <td>...</td>\n",
              "      <td>...</td>\n",
              "      <td>...</td>\n",
              "      <td>...</td>\n",
              "      <td>...</td>\n",
              "      <td>...</td>\n",
              "      <td>...</td>\n",
              "      <td>...</td>\n",
              "      <td>...</td>\n",
              "      <td>...</td>\n",
              "      <td>...</td>\n",
              "      <td>...</td>\n",
              "      <td>...</td>\n",
              "      <td>...</td>\n",
              "      <td>...</td>\n",
              "      <td>...</td>\n",
              "      <td>...</td>\n",
              "      <td>...</td>\n",
              "      <td>...</td>\n",
              "      <td>...</td>\n",
              "      <td>...</td>\n",
              "      <td>...</td>\n",
              "      <td>...</td>\n",
              "      <td>...</td>\n",
              "      <td>...</td>\n",
              "      <td>...</td>\n",
              "      <td>...</td>\n",
              "      <td>...</td>\n",
              "      <td>...</td>\n",
              "      <td>...</td>\n",
              "      <td>...</td>\n",
              "      <td>...</td>\n",
              "      <td>...</td>\n",
              "      <td>...</td>\n",
              "      <td>...</td>\n",
              "      <td>...</td>\n",
              "      <td>...</td>\n",
              "      <td>...</td>\n",
              "      <td>...</td>\n",
              "    </tr>\n",
              "    <tr>\n",
              "      <th>199032</th>\n",
              "      <td>199995</td>\n",
              "      <td>4.0</td>\n",
              "      <td>4</td>\n",
              "      <td>0.0</td>\n",
              "      <td>0.0</td>\n",
              "      <td>1.000000</td>\n",
              "      <td>4.0</td>\n",
              "      <td>20903</td>\n",
              "      <td>0.0</td>\n",
              "      <td>0</td>\n",
              "      <td>0.480856</td>\n",
              "      <td>NaN</td>\n",
              "      <td>0</td>\n",
              "      <td>0</td>\n",
              "      <td>45.621391</td>\n",
              "      <td>5.958453</td>\n",
              "      <td>-5.978511</td>\n",
              "      <td>1.303174</td>\n",
              "      <td>-1.207191</td>\n",
              "      <td>-1.981240</td>\n",
              "      <td>-0.357695</td>\n",
              "      <td>-0.918571</td>\n",
              "      <td>0.774826</td>\n",
              "      <td>-2.021739</td>\n",
              "      <td>0.284664</td>\n",
              "      <td>0.130044</td>\n",
              "      <td>0.049833</td>\n",
              "      <td>0.028807</td>\n",
              "      <td>0.004616</td>\n",
              "      <td>7261 days</td>\n",
              "      <td>3</td>\n",
              "      <td>0.527244</td>\n",
              "      <td>1.000000</td>\n",
              "      <td>0.190528</td>\n",
              "      <td>0.795943</td>\n",
              "      <td>0.001032</td>\n",
              "      <td>0.390425</td>\n",
              "      <td>0.233660</td>\n",
              "      <td>11.0</td>\n",
              "    </tr>\n",
              "    <tr>\n",
              "      <th>199033</th>\n",
              "      <td>199996</td>\n",
              "      <td>0.0</td>\n",
              "      <td>0</td>\n",
              "      <td>0.0</td>\n",
              "      <td>0.0</td>\n",
              "      <td>1.000000</td>\n",
              "      <td>0.0</td>\n",
              "      <td>708</td>\n",
              "      <td>0.0</td>\n",
              "      <td>0</td>\n",
              "      <td>0.437292</td>\n",
              "      <td>NaN</td>\n",
              "      <td>0</td>\n",
              "      <td>0</td>\n",
              "      <td>43.935162</td>\n",
              "      <td>4.476841</td>\n",
              "      <td>-3.913825</td>\n",
              "      <td>1.759524</td>\n",
              "      <td>-2.075658</td>\n",
              "      <td>-1.154847</td>\n",
              "      <td>0.169073</td>\n",
              "      <td>-0.841710</td>\n",
              "      <td>1.328253</td>\n",
              "      <td>-1.292675</td>\n",
              "      <td>0.268101</td>\n",
              "      <td>0.108095</td>\n",
              "      <td>0.066039</td>\n",
              "      <td>0.025468</td>\n",
              "      <td>0.025971</td>\n",
              "      <td>6014 days</td>\n",
              "      <td>1</td>\n",
              "      <td>1.000000</td>\n",
              "      <td>0.675599</td>\n",
              "      <td>0.084868</td>\n",
              "      <td>1.000000</td>\n",
              "      <td>0.002064</td>\n",
              "      <td>0.295692</td>\n",
              "      <td>0.143864</td>\n",
              "      <td>7.0</td>\n",
              "    </tr>\n",
              "    <tr>\n",
              "      <th>199034</th>\n",
              "      <td>199997</td>\n",
              "      <td>0.0</td>\n",
              "      <td>1</td>\n",
              "      <td>1.0</td>\n",
              "      <td>1.0</td>\n",
              "      <td>1.000000</td>\n",
              "      <td>49.0</td>\n",
              "      <td>6693</td>\n",
              "      <td>0.0</td>\n",
              "      <td>0</td>\n",
              "      <td>0.546885</td>\n",
              "      <td>NaN</td>\n",
              "      <td>0</td>\n",
              "      <td>0</td>\n",
              "      <td>46.537137</td>\n",
              "      <td>4.170806</td>\n",
              "      <td>-4.639065</td>\n",
              "      <td>0.654713</td>\n",
              "      <td>1.137756</td>\n",
              "      <td>-1.390531</td>\n",
              "      <td>0.254420</td>\n",
              "      <td>0.388595</td>\n",
              "      <td>-0.704689</td>\n",
              "      <td>-1.480710</td>\n",
              "      <td>0.269432</td>\n",
              "      <td>0.105724</td>\n",
              "      <td>0.117652</td>\n",
              "      <td>0.057479</td>\n",
              "      <td>0.015669</td>\n",
              "      <td>4345 days</td>\n",
              "      <td>3</td>\n",
              "      <td>0.434341</td>\n",
              "      <td>0.835230</td>\n",
              "      <td>0.205623</td>\n",
              "      <td>0.713985</td>\n",
              "      <td>0.004128</td>\n",
              "      <td>0.437002</td>\n",
              "      <td>0.257297</td>\n",
              "      <td>22.0</td>\n",
              "    </tr>\n",
              "    <tr>\n",
              "      <th>199035</th>\n",
              "      <td>199998</td>\n",
              "      <td>0.0</td>\n",
              "      <td>1</td>\n",
              "      <td>0.0</td>\n",
              "      <td>1.0</td>\n",
              "      <td>1.000000</td>\n",
              "      <td>27.0</td>\n",
              "      <td>96900</td>\n",
              "      <td>0.0</td>\n",
              "      <td>0</td>\n",
              "      <td>0.587076</td>\n",
              "      <td>NaN</td>\n",
              "      <td>0</td>\n",
              "      <td>0</td>\n",
              "      <td>46.771359</td>\n",
              "      <td>-3.296814</td>\n",
              "      <td>1.833504</td>\n",
              "      <td>-2.828687</td>\n",
              "      <td>2.465630</td>\n",
              "      <td>-0.911682</td>\n",
              "      <td>-2.057353</td>\n",
              "      <td>0.243566</td>\n",
              "      <td>-1.277411</td>\n",
              "      <td>-0.404881</td>\n",
              "      <td>0.261152</td>\n",
              "      <td>0.000490</td>\n",
              "      <td>0.137366</td>\n",
              "      <td>0.086216</td>\n",
              "      <td>0.051383</td>\n",
              "      <td>NaT</td>\n",
              "      <td>1</td>\n",
              "      <td>0.434341</td>\n",
              "      <td>0.835230</td>\n",
              "      <td>0.205623</td>\n",
              "      <td>0.713985</td>\n",
              "      <td>0.004128</td>\n",
              "      <td>0.437002</td>\n",
              "      <td>0.257297</td>\n",
              "      <td>NaN</td>\n",
              "    </tr>\n",
              "    <tr>\n",
              "      <th>199036</th>\n",
              "      <td>199999</td>\n",
              "      <td>1.0</td>\n",
              "      <td>6</td>\n",
              "      <td>NaN</td>\n",
              "      <td>1.0</td>\n",
              "      <td>0.586207</td>\n",
              "      <td>166.0</td>\n",
              "      <td>193384</td>\n",
              "      <td>0.0</td>\n",
              "      <td>0</td>\n",
              "      <td>0.427535</td>\n",
              "      <td>NaN</td>\n",
              "      <td>0</td>\n",
              "      <td>0</td>\n",
              "      <td>43.731010</td>\n",
              "      <td>-3.121867</td>\n",
              "      <td>2.914571</td>\n",
              "      <td>-1.135270</td>\n",
              "      <td>0.547628</td>\n",
              "      <td>2.094057</td>\n",
              "      <td>-1.552150</td>\n",
              "      <td>0.027348</td>\n",
              "      <td>-0.808914</td>\n",
              "      <td>2.116551</td>\n",
              "      <td>0.228730</td>\n",
              "      <td>0.000300</td>\n",
              "      <td>0.103534</td>\n",
              "      <td>0.080625</td>\n",
              "      <td>0.124264</td>\n",
              "      <td>4151 days</td>\n",
              "      <td>3</td>\n",
              "      <td>0.324125</td>\n",
              "      <td>0.340786</td>\n",
              "      <td>0.032075</td>\n",
              "      <td>0.209684</td>\n",
              "      <td>0.002064</td>\n",
              "      <td>0.207660</td>\n",
              "      <td>0.081629</td>\n",
              "      <td>6.0</td>\n",
              "    </tr>\n",
              "  </tbody>\n",
              "</table>\n",
              "<p>199037 rows × 39 columns</p>\n",
              "</div>"
            ],
            "text/plain": [
              "        SaleID  bodyType  ...  brand_price_average  power_bin\n",
              "0            0       1.0  ...             0.081629        5.0\n",
              "1            1       2.0  ...             0.257297        NaN\n",
              "2            2       1.0  ...             0.281827       16.0\n",
              "3            3       0.0  ...             0.225207       19.0\n",
              "4            4       1.0  ...             0.073017        6.0\n",
              "...        ...       ...  ...                  ...        ...\n",
              "199032  199995       4.0  ...             0.233660       11.0\n",
              "199033  199996       0.0  ...             0.143864        7.0\n",
              "199034  199997       0.0  ...             0.257297       22.0\n",
              "199035  199998       0.0  ...             0.257297        NaN\n",
              "199036  199999       1.0  ...             0.081629        6.0\n",
              "\n",
              "[199037 rows x 39 columns]"
            ]
          },
          "metadata": {
            "tags": []
          },
          "execution_count": 23
        }
      ]
    },
    {
      "cell_type": "code",
      "metadata": {
        "id": "jfwGGarGsmFB",
        "colab_type": "code",
        "colab": {}
      },
      "source": [
        "# 这份数据可以给 LR 用\n",
        "data.to_csv('data_for_lr.csv', index=0)"
      ],
      "execution_count": 0,
      "outputs": []
    },
    {
      "cell_type": "markdown",
      "metadata": {
        "id": "TCi-cyrmsrBc",
        "colab_type": "text"
      },
      "source": [
        "# ***特征筛选***"
      ]
    },
    {
      "cell_type": "markdown",
      "metadata": {
        "id": "nj9uqZDWsupQ",
        "colab_type": "text"
      },
      "source": [
        "## ***过滤式***"
      ]
    },
    {
      "cell_type": "code",
      "metadata": {
        "id": "vHf_uq7KspP4",
        "colab_type": "code",
        "colab": {
          "base_uri": "https://localhost:8080/",
          "height": 119
        },
        "outputId": "4c5777f3-4be6-4d4b-f146-2213f59131a9"
      },
      "source": [
        "# 相关性分析\n",
        "print(data['power'].corr(data['price'], method='spearman'))\n",
        "print(data['kilometer'].corr(data['price'], method='spearman'))\n",
        "print(data['brand_amount'].corr(data['price'], method='spearman'))\n",
        "print(data['brand_price_average'].corr(data['price'], method='spearman'))\n",
        "print(data['brand_price_max'].corr(data['price'], method='spearman'))\n",
        "print(data['brand_price_median'].corr(data['price'], method='spearman'))"
      ],
      "execution_count": 25,
      "outputs": [
        {
          "output_type": "stream",
          "text": [
            "0.5728285196051496\n",
            "-0.4082569701616764\n",
            "0.058156610025581514\n",
            "0.3834909576057687\n",
            "0.259066833880992\n",
            "0.38691042393409447\n"
          ],
          "name": "stdout"
        }
      ]
    },
    {
      "cell_type": "code",
      "metadata": {
        "id": "u9E-asCrs0Qw",
        "colab_type": "code",
        "colab": {
          "base_uri": "https://localhost:8080/",
          "height": 510
        },
        "outputId": "4a553274-8f4e-447c-c4a6-7853c8b92996"
      },
      "source": [
        "# 也可以直接看图\n",
        "data_numeric = data[['power', 'kilometer', 'brand_amount', 'brand_price_average', \n",
        "                     'brand_price_max', 'brand_price_median']]\n",
        "correlation = data_numeric.corr()\n",
        "\n",
        "f , ax = plt.subplots(figsize = (7, 7))\n",
        "plt.title('Correlation of Numeric Features with Price',y=1,size=16)\n",
        "sns.heatmap(correlation,square = True,  vmax=0.8)"
      ],
      "execution_count": 26,
      "outputs": [
        {
          "output_type": "execute_result",
          "data": {
            "text/plain": [
              "<matplotlib.axes._subplots.AxesSubplot at 0x7ff13f02fd30>"
            ]
          },
          "metadata": {
            "tags": []
          },
          "execution_count": 26
        },
        {
          "output_type": "display_data",
          "data": {
            "image/png": "[encoded data removed]",
            "text/plain": [
              "<Figure size 504x504 with 2 Axes>"
            ]
          },
          "metadata": {
            "tags": []
          }
        }
      ]
    },
    {
      "cell_type": "markdown",
      "metadata": {
        "id": "xbW7wpUGs-xv",
        "colab_type": "text"
      },
      "source": [
        "## ***包裹式***"
      ]
    },
    {
      "cell_type": "code",
      "metadata": {
        "id": "sQKWeOTCz_hu",
        "colab_type": "code",
        "colab": {}
      },
      "source": [
        "# k_feature 太大会很难跑\n",
        "'''\n",
        "包裹式特征选择直接把最终要使用的学习器的性能作为特征子集的评价准则。\n",
        "包裹式特征选择的目的就是为给定学习器选择最有利于其性能，“量身定做”的特征子集。\n",
        "由于包裹式特征选择方法直接针对给定学习器进行优化，因此从最终学习器性能看，包裹式特征选择比过滤式特征选择更好。\n",
        "另一方面，特征选择过程中需多次训练学习器，因此包裹式特征选择的计算开销通常比过滤式特征选择大得多。\n",
        "包裹法中，特征子集的搜索问题，最容易想到的办法是穷举法，\n",
        "还可以在拉斯维加斯方法框架下使用随机策略进行子集搜索（Las Vegas Wrapper，LVW）。\n",
        "但是由于LVW算法中特征子集搜索采用了随机策略，每次特征子集评价都需要训练学习器，\n",
        "计算开销很大，如果初始特征数很多，算法可能运行很长时间都达不到停止条件，若有运行时间限制，可能给不出解。\n",
        "'''\n",
        "from mlxtend.feature_selection import SequentialFeatureSelector as SFS\n",
        "from sklearn.linear_model import LinearRegression\n",
        "sfs = SFS(LinearRegression(),\n",
        "           k_features=10,\n",
        "           forward=True,\n",
        "           floating=False,\n",
        "           scoring = 'r2',\n",
        "           cv = 0)\n",
        "x = data.drop(['price'], axis=1)\n",
        "x = x.fillna(0)\n",
        "y = data['price']\n",
        "sfs.fit(x, y)\n",
        "sfs.k_feature_names_ "
      ],
      "execution_count": 0,
      "outputs": []
    },
    {
      "cell_type": "code",
      "metadata": {
        "id": "wweh9tE3uOsr",
        "colab_type": "code",
        "colab": {}
      },
      "source": [
        "from mlxtend.plotting import plot_sequential_feature_selection as plot_sfs\n",
        "import matplotlib.pyplot as plt\n",
        "fig1 = plot_sfs(sfs.get_metric_dict(), kind='std_dev')\n",
        "plt.grid()\n",
        "plt.show()"
      ],
      "execution_count": 0,
      "outputs": []
    }
  ]
}